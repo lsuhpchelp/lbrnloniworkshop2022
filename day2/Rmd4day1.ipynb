{
  "nbformat": 4,
  "nbformat_minor": 0,
  "metadata": {
    "colab": {
      "name": "Introduction_to_R.ipynb",
      "private_outputs": true,
      "provenance": [],
      "collapsed_sections": [
        "zQLKMs59rpvi",
        "QJGFuLmZsrCT",
        "nOe0m3Gdteds",
        "xYFRMtbvJXIb",
        "RUe1W-Y-DTE2",
        "30bP-0GhLuwQ",
        "n1qNNxzhnFxc",
        "Ln_66oqI681p",
        "-1OjjS0p6_lt"
      ]
    },
    "language_info": {
      "codemirror_mode": "r",
      "file_extension": ".r",
      "mimetype": "text/x-r-source",
      "name": "R",
      "pygments_lexer": "r",
      "version": "3.3.1"
    },
    "kernelspec": {
      "display_name": "R",
      "language": "R",
      "name": "ir"
    }
  },
  "cells": [
    {
      "cell_type": "markdown",
      "metadata": {
        "id": "SWzsE9omeSN1"
      },
      "source": [
        "# R Markdown"
      ]
    },
    {
      "cell_type": "markdown",
      "metadata": {
        "id": "THVk8YtgfLvF"
      },
      "source": [
        "**DO NOT CHANGE THE RUNTIME BECAUSE YOU WON'T BE ABLE TO CHANGE IT BACK!**"
      ]
    },
    {
      "cell_type": "code",
      "metadata": {
        "id": "be6urrizhGk9"
      },
      "source": [
        "#@title Run this segment first { display-mode: \"form\" }\n",
        "install.packages(\"gcookbook\")\n",
        "install.packages(\"doParallel\")\n",
        "install.packages(\"plyr\")\n",
        "library(plyr)\n",
        "library(datasets)\n",
        "library(lubridate)\n",
        "library(ggplot2)\n",
        "library(gcookbook)"
      ],
      "execution_count": null,
      "outputs": []
    },
    {
      "cell_type": "markdown",
      "metadata": {
        "id": "Ln_66oqI681p"
      },
      "source": [
        "# Graphics"
      ]
    },
    {
      "cell_type": "markdown",
      "metadata": {
        "id": "Dn_0FhCwYGh_"
      },
      "source": [
        "There are three plotting systems in R\n",
        "* base\n",
        "  * Convenient, but hard to adjust after the plot is created\n",
        "* lattice\n",
        "  * Good for creating conditioning plot\n",
        "* ggplot2\n",
        "  * Powerful and flexible, many tunable feature, may require some time to master\n"
      ]
    },
    {
      "cell_type": "markdown",
      "metadata": {
        "id": "Z08zo1CzYbrL"
      },
      "source": [
        "Each has its pros and cons, so it is up to the users which one to choose."
      ]
    },
    {
      "cell_type": "markdown",
      "metadata": {
        "id": "_sh0dD7NYkY8"
      },
      "source": [
        "## base"
      ]
    },
    {
      "cell_type": "markdown",
      "metadata": {
        "id": "ERWkZMFVgFy_"
      },
      "source": [
        "A few functions are avaible in the base plot systems\n",
        "* `plot()`: line and scatter plots\n",
        "* `boxplot()`: box plots\n",
        "* `hist()`: histograms"
      ]
    },
    {
      "cell_type": "markdown",
      "metadata": {
        "id": "oYA7Tm66HD6L"
      },
      "source": [
        "A quick scatter plot example with the base plot system."
      ]
    },
    {
      "cell_type": "code",
      "metadata": {
        "id": "GjrJFgsff6uf"
      },
      "source": [
        "# Create the plot with title and axis labels.\n",
        "plot(pressure,type=\"l\",\n",
        "     main=\"Vapor Pressure of Mercury\",\n",
        "     xlab=\"Temperature\", \n",
        "     ylab=\"Vapor Pressure\")\n",
        "# Add points\n",
        "points(pressure,col='red') \n",
        "# Add annotation\n",
        "text(150,700,\"Source: Weast, R. C., ed. (1973) Handbook \\n\n",
        "     of Chemistry and Physics. CRC Press.\")"
      ],
      "execution_count": null,
      "outputs": []
    },
    {
      "cell_type": "markdown",
      "metadata": {
        "id": "MenwnCkuYoQt"
      },
      "source": [
        "## ggplot2"
      ]
    },
    {
      "cell_type": "markdown",
      "metadata": {
        "id": "9uKfPUvZHLsT"
      },
      "source": [
        "The `qplot()` function is the ggplot2 version of `plot()`."
      ]
    },
    {
      "cell_type": "code",
      "metadata": {
        "id": "HFOpWRHxg5RW"
      },
      "source": [
        "qplot(weightLb, heightIn, data=heightweight, geom=\"point\")"
      ],
      "execution_count": null,
      "outputs": []
    },
    {
      "cell_type": "markdown",
      "metadata": {
        "id": "mQ9kl7IZHZOn"
      },
      "source": [
        "The `ggplot()` function is the main function in the ggplot2 package.\n",
        "\n",
        "Here is an example:"
      ]
    },
    {
      "cell_type": "code",
      "metadata": {
        "id": "7wKAPUK7g6lo"
      },
      "source": [
        "ggplot(heightweight, aes(x=weightLb, y=heightIn, color=sex, shape=sex)) + \n",
        "  geom_point(size=3.5) +\n",
        "  ggtitle(\"School Children\\nHeight ~ Weight\") +\n",
        "  labs(y=\"Height (inch)\", x=\"Weight (lbs)\") +\n",
        "  stat_smooth(method=loess, se=T, color=\"black\", fullrange=T) +\n",
        "  annotate(\"text\",x=145,y=75,label=\"Locally weighted polynomial fit with 95% CI\",color=\"Green\",size=6) +\n",
        "  scale_color_brewer(palette = \"Set1\", labels=c(\"Female\", \"Male\")) +\n",
        "  guides(shape=F) +\n",
        "  theme_bw() +\n",
        "  theme(plot.title = element_text(size=20, hjust=0.5), \n",
        "        legend.position = c(0.9,0.2),\n",
        "        axis.title.x = element_text(size=20), axis.title.y = element_text(size=20),\n",
        "        legend.title = element_text(size=15),legend.text = element_text(size=15))"
      ],
      "execution_count": null,
      "outputs": []
    },
    {
      "cell_type": "markdown",
      "metadata": {
        "id": "gRqDF8nIY5qa"
      },
      "source": [
        "If you are interested to learn more, please visit the [Data Visualization in R](http://hpc.loni.org/training/weekly-materials/2018-Spring/Slides.html#(1)) tutorial from LONI HPC."
      ]
    },
    {
      "cell_type": "markdown",
      "metadata": {
        "id": "-1OjjS0p6_lt"
      },
      "source": [
        "# Parallel Processing"
      ]
    },
    {
      "cell_type": "markdown",
      "metadata": {
        "id": "hkeDSGESZ_J0"
      },
      "source": [
        "Modern computers are equipped with more than one CPU core and are capable of processing workloads in parallel, but base R is single‐threaded, i.e. not parallel.\n",
        "\n",
        "In other words, regardless how many cores are available, R can only \n",
        "use one of them.\n",
        "\n",
        "There are two options to run R in parallel: **implicit** and **explicit**.\n"
      ]
    },
    {
      "cell_type": "markdown",
      "metadata": {
        "id": "1Za3yZbWcIBm"
      },
      "source": [
        "## Implicit parallel processing"
      ]
    },
    {
      "cell_type": "markdown",
      "metadata": {
        "id": "SeE5pNzdcaqt"
      },
      "source": [
        "Some functions in R can call parallel numerical libraries.\n",
        "\n",
        "For instance, on the LONI QB-2 and QB-3 clusters most linear algebraic and related functions (e.g. linear regression, matrix decomposition, computing inverse and determinant of a matrix) leverage the multi‐threaded Intel MKL library.\n",
        "\n",
        "In this case, no extra coding is needed to take advange of the multiple CPU cores - those functions will automatically use multiple cores when being called."
      ]
    },
    {
      "cell_type": "markdown",
      "metadata": {
        "id": "KGFBQEzOcMlA"
      },
      "source": [
        "## Explicit parallel processing"
      ]
    },
    {
      "cell_type": "markdown",
      "metadata": {
        "id": "zhE2hltlfSpS"
      },
      "source": [
        "If the implicit option is not available for what you'd like to do, some codes need to be written."
      ]
    },
    {
      "cell_type": "markdown",
      "metadata": {
        "id": "FpyHuV4aBIxK"
      },
      "source": [
        "Here is an example of using the `%dopar%` directive in the `doParallel` package."
      ]
    },
    {
      "cell_type": "markdown",
      "metadata": {
        "id": "bX6HuHivBUxE"
      },
      "source": [
        "The workload is to generate 100 random samples, each with\n",
        "1,000,000 observations from a standard normal distribution, then take a summary for each sample."
      ]
    },
    {
      "cell_type": "code",
      "metadata": {
        "id": "VCru3RBK_fH1"
      },
      "source": [
        "iters <- 100"
      ],
      "execution_count": null,
      "outputs": []
    },
    {
      "cell_type": "markdown",
      "metadata": {
        "id": "KCxfQGZSBoSG"
      },
      "source": [
        "Below is the sequential version with a for loop. The `system.time()` function is used to measure how long it takes to process the workload."
      ]
    },
    {
      "cell_type": "code",
      "metadata": {
        "id": "ViGrf8mZ9z2h"
      },
      "source": [
        "# This code segment shows us how long it takes to run on one core.\n",
        "system.time(\n",
        "for (i in 1:iters) {\n",
        "  to.ls <- rnorm(1e6)\n",
        "  to.ls <- summary(to.ls)\n",
        "}\n",
        ")"
      ],
      "execution_count": null,
      "outputs": []
    },
    {
      "cell_type": "markdown",
      "metadata": {
        "id": "W3HEm1xOB178"
      },
      "source": [
        "This is the parallel example with the `doParallel` package."
      ]
    },
    {
      "cell_type": "code",
      "metadata": {
        "id": "wmk2YWK69l9J"
      },
      "source": [
        "# This code segment shows us how long it takes to run on all available cores.\n",
        "library(doParallel)\n",
        "\n",
        "# Obtain the number of cores available.\n",
        "ncpu <- detectCores()\n",
        "ncpu\n",
        "\n",
        "system.time({\n",
        "  cl <- makeCluster(ncpu)\n",
        "  registerDoParallel(cl)\n",
        "  ls<-foreach(icount(iters)) %dopar% {\n",
        "    to.ls<-rnorm(1e6)\n",
        "    to.ls<-summary(to.ls)\n",
        "  }\n",
        "  stopCluster(cl)\n",
        "})"
      ],
      "execution_count": null,
      "outputs": []
    },
    {
      "cell_type": "markdown",
      "metadata": {
        "id": "vwM8hXRyZccR"
      },
      "source": [
        "If you are interested to learn more, please visit the [Parallel Computing in R](http://hpc.loni.org/training/weekly-materials/2017-Fall/HPC_Parallel_R_Fall2017.pdf) tutorial from LONI HPC."
      ]
    },
    {
      "cell_type": "markdown",
      "metadata": {
        "id": "vhvDmrUc0LgX"
      },
      "source": [
        "# Exercise 5\n",
        "\n"
      ]
    },
    {
      "cell_type": "markdown",
      "metadata": {
        "id": "asy_ShcA0Tf5"
      },
      "source": [
        "## Introduction\n",
        "\n",
        "The World Happiness Report is a landmark survey of the state of global happiness . The report continues to gain global recognition as governments, organizations and civil society increasingly use happiness indicators to inform their policy-making decisions. Leading experts across fields – economics, psychology, survey analysis, national statistics, health, public policy and more – describe how measurements of well-being can be used effectively to assess the progress of nations. The reports review the state of happiness in the world today and show how the new science of happiness explains personal and national variations in happiness.\n",
        "\n",
        "In each year, six metrics are generated for each country:\n",
        "* Economic production\n",
        "* Social support\n",
        "* Life expectancy\n",
        "* Freedom\n",
        "* Absence of corruption\n",
        "* Generosity\n",
        "\n",
        "\n",
        "\n",
        "[Data source](https://www.kaggle.com/ajaypalsinghlo/world-happiness-report-2021)\n",
        "\n",
        "[World happiness report](https://worldhappiness.report)"
      ]
    },
    {
      "cell_type": "markdown",
      "metadata": {
        "id": "3mKxmz9w0iNT"
      },
      "source": [
        "## Datasets\n",
        "\n",
        "Each dataset contains variables such as country name, year, and the scores for the six metrics.\n",
        "\n",
        "2008-2020:\n",
        "http://hpc.loni.org/training/weekly-materials/Downloads/world-happiness-report.csv\n",
        "\n",
        "2021:\n",
        "http://hpc.loni.org/training/weekly-materials/Downloads/world-happiness-report-2021.csv"
      ]
    },
    {
      "cell_type": "markdown",
      "metadata": {
        "id": "eQGHn7Rq0mG3"
      },
      "source": [
        "## Tasks\n",
        "\n",
        "1. Download both datasets and read them into R; \n",
        "2. Inspect the datasets (the data structure, what the columns are, etc.);\n",
        "3. Merge the datasets so the data covers 2008 to 2021;\n",
        "4. Using the merged dataset, answer the following questions:\n",
        "  * In year 2011, what are the top and bottom five countries with the highest freedom to make life choices? \n",
        "  * Among the 50 countries with the highest life expentancy in 2021, how many are in western Europe?\n",
        "  * How has the average generosity over all countries changed from 2008 to 2021? \n",
        "  * From 2011 to 2021, which country's rank of perceptions of corruption rises the most? Which drops the most?\n",
        "\n",
        "Note:\n",
        "\n",
        "You can use the `read.csv()` funtion o read data in a csv file into R. For instance, to read the data in the file \"mydata.csv\" into a dataframe \"mydataframe\":\n",
        "\n",
        "```\n",
        "mydataframe <- read.csv(\"mydata.csv\") \n",
        "```\n",
        "\n",
        "To download a file, use the `download.file(<uri>,<file_name>)` function. For instance, to download the file \"mydata.csv\" to the current work directory:\n",
        "\n",
        "```\n",
        "download.file(\"http://url/to/mydata.csv\",\"mydata.csv\")\n",
        "```"
      ]
    },
    {
      "cell_type": "code",
      "metadata": {
        "id": "Rr-F1MJk2rHR"
      },
      "source": [
        "#@title Solution\n",
        "\n",
        "###### TASK 1 ######\n",
        "\n",
        "# Download the files.\n",
        "download.file(\"http://hpc.loni.org/training/weekly-materials/Downloads/world-happiness-report.csv\",\"world-happiness-report.csv\")\n",
        "download.file(\"http://hpc.loni.org/training/weekly-materials/Downloads/world-happiness-report-2021.csv\",\"world-happiness-2021.csv\")\n",
        "\n",
        "# Read the data into two dataframes.\n",
        "rawdf2020 <- read.csv(\"world-happiness-report.csv\")\n",
        "rawdf2021 <- read.csv(\"world-happiness-2021.csv\")\n",
        "\n",
        "###### TASK 2 ######\n",
        "\n",
        "# After this step, we need to inspect the data.\n",
        "#str(rawdf2020)\n",
        "#str(rawdf2021)\n",
        "\n",
        "###### TASK 3 ######\n",
        "\n",
        "# This is actually the toughest step, \n",
        "# as the columns in the two dataframes\n",
        "# are not aligned. \n",
        "\n",
        "# In the merged data frame, we will need these columns:\n",
        "# Country, region, year\n",
        "# The six happiness metrics\n",
        "\n",
        "df2020 <- rawdf2020[,1:9]\n",
        "df2021 <- rawdf2021[,c(1:3,7:12)]\n",
        "\n",
        "# Need to add the \"year\" column for 2021.\n",
        "df2021$year <- 2021\n",
        "\n",
        "# Match the regional indicator in the 2021\n",
        "# dataset to the country names in the 2020 \n",
        "# dataset.\n",
        "df2020$Regional.indicator <- \n",
        "  df2021[match(df2020$Country.name,df2021[,1]),\"Regional.indicator\"]\n",
        "\n",
        "# Reorder the columns\n",
        "df2020r <- df2020[,c(1,10,2:9)]\n",
        "df2021r <- df2021[,c(1:2,10,3:9)]\n",
        "colnames(df2021r) <- colnames(df2020r)\n",
        "\n",
        "# Rowbind the dataframes.\n",
        "dataFinal <- rbind.data.frame(df2020r,df2021r)\n",
        "\n",
        "# Drop the rows with missing values.\n",
        "dataClean <- dataFinal[complete.cases(dataFinal),]"
      ],
      "execution_count": null,
      "outputs": []
    },
    {
      "cell_type": "code",
      "metadata": {
        "id": "y4-f35u-B125"
      },
      "source": [
        "#@title Solution 4.1\n",
        "# Question 1\n",
        "happy2011 <- subset(dataClean, year == 2011)\n",
        "cat(\"The top 5 countries are:\\n\")\n",
        "happy2011[order(-happy2011$Freedom.to.make.life.choices),\"Country.name\"][1:5]\n",
        "cat(\"The bottom 5 countries are:\\n\")\n",
        "happy2011[order(happy2011$Freedom.to.make.life.choices),\"Country.name\"][1:5]"
      ],
      "execution_count": null,
      "outputs": []
    },
    {
      "cell_type": "code",
      "metadata": {
        "id": "2VAEh6UYELVs"
      },
      "source": [
        "#@title Solution 4.2\n",
        "# Question 2\n",
        "happy2021 <- subset(dataClean, year == 2021)\n",
        "table(happy2021[order(-happy2021$Healthy.life.expectancy.at.birth)[1:50],\"Regional.indicator\"])"
      ],
      "execution_count": null,
      "outputs": []
    },
    {
      "cell_type": "code",
      "metadata": {
        "id": "OXQntDX1Ci7S"
      },
      "source": [
        "#@title Solutoin 4.3\n",
        "# Question 3\n",
        "library(plyr)\n",
        "plot(ddply(dataClean,\"year\",summarize,average=mean(Generosity)))"
      ],
      "execution_count": null,
      "outputs": []
    },
    {
      "cell_type": "code",
      "metadata": {
        "id": "mLNiWHfmh0qr"
      },
      "source": [
        "#@title Solution 4.4\n",
        "\n",
        "# Store the ranking in a new variable in the 2011 and 2021 data frames.\n",
        "happy2011$rank11 <- rank(happy2011$Perceptions.of.corruption, ties.method = \"min\")\n",
        "happy2021$rank21 <- rank(happy2021$Perceptions.of.corruption, ties.method = \"min\")\n",
        "\n",
        "# Merge the 2011 and 2021 data frames and keep only the country names and rankings.\n",
        "happyRank <- merge(subset(happy2011,select=c(Country.name,rank11)),\n",
        "  subset(happy2021,select=c(Country.name,rank21)),\n",
        "  by = \"Country.name\")\n",
        "\n",
        "# Calcuate the ranking change and find the top 10 and bottom 10.\n",
        "happyRank$diff <- happyRank$rank21 - happyRank$rank11\n",
        "happyRank[order(happyRank$diff),][1:10,]\n",
        "happyRank[order(-happyRank$diff),][1:10,]"
      ],
      "execution_count": null,
      "outputs": []
    }
  ]
}