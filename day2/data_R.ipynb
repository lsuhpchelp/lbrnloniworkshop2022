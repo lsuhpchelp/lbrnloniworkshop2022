{
  "nbformat": 4,
  "nbformat_minor": 0,
  "metadata": {
    "colab": {
      "name": "data_R.ipynb",
      "provenance": [],
      "collapsed_sections": []
    },
    "language_info": {
      "codemirror_mode": "r",
      "file_extension": ".r",
      "mimetype": "text/x-r-source",
      "name": "R",
      "pygments_lexer": "r",
      "version": "3.3.1"
    },
    "kernelspec": {
      "display_name": "R",
      "language": "R",
      "name": "ir"
    }
  },
  "cells": [
    {
      "cell_type": "markdown",
      "metadata": {
        "id": "CcCXs04t4N5Q"
      },
      "source": [
        "Data Analysis in R\n",
        "==="
      ]
    },
    {
      "cell_type": "markdown",
      "metadata": {
        "id": "puJbML3jdoSt"
      },
      "source": [
        "##Review: working directory\n",
        "*  R works best if you have a dedicated directory/folder for each project, aka the working directory. Put all data files in the working directory or in its sub-directories.\n",
        "* The \"project\" in RStudio is the working directory “Pro”. If you are interested to learn more about RStudio, please visit the [Introduction to RStudio](http://hpc.loni.org/training/weekly-materials/2020-Spring/HPC_Intro_RStudio_Spring2020.pdf) tutorial from LONI HPC. "
      ]
    },
    {
      "cell_type": "markdown",
      "metadata": {
        "id": "VU3C0_JyeOol"
      },
      "source": [
        "Show current working folder:"
      ]
    },
    {
      "cell_type": "code",
      "metadata": {
        "id": "XGU0JFFCeJQm"
      },
      "source": [
        "getwd()"
      ],
      "execution_count": null,
      "outputs": []
    },
    {
      "cell_type": "markdown",
      "metadata": {
        "id": "6pgrV21teZwS"
      },
      "source": [
        "Let us create a new folder called \"data\":"
      ]
    },
    {
      "cell_type": "code",
      "metadata": {
        "id": "QkJsZAP0eWLA"
      },
      "source": [
        "dir.create(\"data\")  "
      ],
      "execution_count": null,
      "outputs": []
    },
    {
      "cell_type": "markdown",
      "metadata": {
        "id": "8n42BV9Begfu"
      },
      "source": [
        "Go to this new folder:"
      ]
    },
    {
      "cell_type": "code",
      "metadata": {
        "id": "X_a7c3y7etuh"
      },
      "source": [
        "setwd(\"data\")"
      ],
      "execution_count": null,
      "outputs": []
    },
    {
      "cell_type": "markdown",
      "metadata": {
        "id": "tOgijiMHexJp"
      },
      "source": [
        "Show current working folder:"
      ]
    },
    {
      "cell_type": "code",
      "metadata": {
        "id": "Q0JBu8ws4N5W"
      },
      "source": [
        "getwd()"
      ],
      "execution_count": null,
      "outputs": []
    },
    {
      "cell_type": "markdown",
      "metadata": {
        "id": "nLmxtiJBfE5F"
      },
      "source": [
        "## Dataset: Forbes Global 2000 list\n",
        "*   The `forbes` dataset consists of 2000 rows (observations) on 8 variables describing companies’ rank, name, country, category, sales, profits, assets and market value. \n",
        "http://hpc.loni.org/training/weekly-materials/Downloads/Forbes2000.csv.zip\n",
        "> * **`rank`** the ranking of the company\n",
        "> * **`name`** the name of the company\n",
        "> * **`country`** the country the company is situated in\n",
        "> * **`category`** the products the company produces\n",
        "> * **`sales`** the amount of sales of the company in billion USD\n",
        "> * **`profits`** the profit of the company in billion USD\n",
        "> * **`assets`** the assets of the company in billion USD\n",
        "> * **`marketvalue`** the market value of the company in billion USD\n",
        "\n",
        "*  First 10 lines of the raw data\n",
        "\n",
        ">rank | name| country| category | sales | profits | assets | marketvalue\n",
        ">--- | --- | --- | --- | --- | --- | --- | ---\n",
        ">1 | Citigroup | United States | Banking | 94.71 | 17.85 | 1264.03 | 255.3\n",
        ">2 | General Electric | United States | Conglomerates | 134.19 | 15.59 | 626.93 | 328.54\n",
        ">3 | American Intl Group | United States | Insurance | 76.66 | 6.46 | 647.66 |194.87\n",
        ">4 | ExxonMobil | United States | Oil & gas operations | 222.88 | 20.96 | 166.99 | 277.02\n",
        ">5 | BP | United Kingdom | Oil & gas operations | 232.57 | 10.27 | 177.57 | 173.54\n",
        ">6 | Bank of America | United States | Banking | 49.01 | 10.81 | 736.45 | 117.55\n",
        ">7 | HSBC Group | United Kingdom | Banking | 44.33 | 6.66 | 757.6 | 177.96\n",
        ">8 | Toyota Motor | Japan | Consumer durables | 135.82 | 7.99 | 171.71 | 115.4\n",
        ">9 | Fannie Mae | United States | Diversified financials | 53.13 | 6.48 | 1019.17 | 76.84\n",
        ">10 | Wal-Mart Stores | United States | Retailing | 256.33 | 9.05 | 104.91 | 243.74\n"
      ]
    },
    {
      "cell_type": "code",
      "source": [
        "# We are in the /content/data directory\n",
        "getwd()\n",
        "# Go back to the /content directory\n",
        "setwd(\"/content\")\n",
        "# Create a working diretory for the Forbes project\n",
        "dir.create(\"forbes\")\n",
        "# Go to the working directory\n",
        "setwd(\"forbes\")\n",
        "# Make sure we are in the right directory\n",
        "getwd()"
      ],
      "metadata": {
        "id": "JXYgfiH5Gv7B"
      },
      "execution_count": null,
      "outputs": []
    },
    {
      "cell_type": "markdown",
      "metadata": {
        "id": "DOEy_8Iif2HB"
      },
      "source": [
        "# Step by step Data Analysis in R\n",
        "\n",
        "\n",
        "1. Get data\n",
        "2. Read data\n",
        "3. Inspect data\n",
        "4. Preprocess data (missing and dubious values, discard columns not needed etc.)\n",
        "5. Analyze data\n",
        "6. Generate report\n",
        "\n",
        "\n",
        "\n",
        "\n",
        "\n"
      ]
    },
    {
      "cell_type": "markdown",
      "metadata": {
        "id": "bbBzk3yTqcfB"
      },
      "source": [
        "## 1. Getting Data\n",
        "* Downloading files from internet\n",
        "> * Manually download the file to the working directory \n",
        "> * Or use R function `download.file()`\n",
        "* Unzip with the `unzip()` function"
      ]
    },
    {
      "cell_type": "code",
      "metadata": {
        "id": "e2O1lDvA4N5f"
      },
      "source": [
        "# Download the file\n",
        "download.file(\"http://hpc.loni.org/training/weekly-materials/Downloads/Forbes2000.csv.zip\",\"Forbes2000.csv.zip\")\n",
        "# Unzip the file\n",
        "unzip(\"Forbes2000.csv.zip\",\"Forbes2000.csv\")\n",
        "# Make sure we have the files\n",
        "list.files()   "
      ],
      "execution_count": null,
      "outputs": []
    },
    {
      "cell_type": "markdown",
      "metadata": {
        "id": "VtLFhkTYj-ys"
      },
      "source": [
        "##2. Reading data\n",
        "* R understands many different data formats and has lots of ways of reading/writing them (csv, xml, excel, sql, json etc.)\n",
        "\n",
        ">Input | Output | Purpose\n",
        ">--- | --- | ---\n",
        ">read.table (read.csv) | write.table (write.csv) | for reading/writing tabular data\n",
        ">readLines | writeLines | for reading/writing lines of a text file\n",
        ">source | dump | for reading/writing in R code files\n",
        ">dget | dput | for reading/writing in R code files\n",
        ">load | save | for reading in/saving workspaces\n",
        "\n",
        "* ` read.csv()` is identical to `read.table()` except that the default separator is a comma."
      ]
    },
    {
      "cell_type": "code",
      "metadata": {
        "id": "SkbNLI6tm2Zg"
      },
      "source": [
        "# Read the csv file into the dataframe \"forbes\"\n",
        "# header: whether the data file has a header row.\n",
        "# stringsAsFactors: whether to treat strings as factor levels.\n",
        "# na.strings: what strings denote a missing value.\n",
        "# sep: what is the separator for columns.\n",
        "\n",
        "forbes <- read.csv(\"Forbes2000.csv\",header=T,stringsAsFactors = FALSE,na.strings =\"NA\",sep=\",\")"
      ],
      "execution_count": null,
      "outputs": []
    },
    {
      "cell_type": "code",
      "source": [
        "# Inspect the dataframe \"forbes\" to make sure the data was successfully read.\n",
        "str(forbes)"
      ],
      "metadata": {
        "id": "nBXaMXOWLoxs"
      },
      "execution_count": null,
      "outputs": []
    },
    {
      "cell_type": "markdown",
      "metadata": {
        "id": "aPYzMpU4Vm_V"
      },
      "source": [
        "* **Note: Changes since R 4.0.0** \n",
        "> * R now uses a `stringsAsFactors = FALSE` default, and hence by default no longer converts strings to factors in calls to `data.frame()` and `read.table()`.\n",
        "* It is a good practice to specify some options rather than using the default."
      ]
    },
    {
      "cell_type": "markdown",
      "metadata": {
        "id": "Sc_uz3ZMWydg"
      },
      "source": [
        "* For big datasets, consider using the `fread()` function"
      ]
    },
    {
      "cell_type": "code",
      "metadata": {
        "id": "ra8LzxiQ7tsx"
      },
      "source": [
        "# Download a dummy data called \"Forbes_big\", which has 2,000,000 rows\n",
        "download.file(\"http://hpc.loni.org/training/weekly-materials/Downloads/Forbes_big.csv.zip\",\"Forbes_big.csv.zip\")\n",
        "# Unzip the data file.\n",
        "unzip(\"Forbes_big.csv.zip\",\"Forbes_big.csv\")\n",
        "# Check its size.\n",
        "file.info(\"Forbes_big.csv\")"
      ],
      "execution_count": null,
      "outputs": []
    },
    {
      "cell_type": "code",
      "source": [
        "# install and load package \"data.table\" so we have the fread() function.\n",
        "install.packages(\"data.table\")\n",
        "library(data.table)"
      ],
      "metadata": {
        "id": "8rc5CZGrNoY3"
      },
      "execution_count": null,
      "outputs": []
    },
    {
      "cell_type": "code",
      "metadata": {
        "id": "8nPL-ZLE9Nw1"
      },
      "source": [
        "# Compare the reading speed between read.csv() and fread()\n",
        "t1 <- system.time({\n",
        "test1<-read.csv(\"Forbes_big.csv\",header=T,stringsAsFactors = FALSE,na.strings =\"NA\",sep=\",\")\n",
        "})\n",
        "print(\"read.csv():\")\n",
        "print(t1)\n",
        "\n",
        "t2 <- system.time({\n",
        "test2<-fread(\"Forbes_big.csv\",data.table=FALSE,header=T)\n",
        "})\n",
        "print(\"fread():\")\n",
        "print(t2)"
      ],
      "execution_count": null,
      "outputs": []
    },
    {
      "cell_type": "markdown",
      "metadata": {
        "id": "8RtebkNBoRsL"
      },
      "source": [
        "##3. Inspecting data\n",
        "* `class()`: check object class\n",
        "* `dim()`: dimension of the data\n",
        "* `head()`: print on screen the first few lines of data, may use n as argument\n",
        "* `tail()`: print the last few lines of data"
      ]
    },
    {
      "cell_type": "code",
      "metadata": {
        "id": "y1WHb5fP4N5p"
      },
      "source": [
        "# Check the object type.\n",
        "class(forbes)\n",
        "# Check the dimension.\n",
        "dim(forbes)"
      ],
      "execution_count": null,
      "outputs": []
    },
    {
      "cell_type": "code",
      "metadata": {
        "id": "pU2Aym1jBioN"
      },
      "source": [
        "# Show part of the data.\n",
        "head(forbes,n=10)"
      ],
      "execution_count": null,
      "outputs": []
    },
    {
      "cell_type": "markdown",
      "metadata": {
        "id": "duCMSII14N5z"
      },
      "source": [
        "* `str()` (structure) displays the structure of the “forbes” dataframe.\n"
      ]
    },
    {
      "cell_type": "code",
      "metadata": {
        "id": "XTrcFrWe4N50"
      },
      "source": [
        "str(forbes)"
      ],
      "execution_count": null,
      "outputs": []
    },
    {
      "cell_type": "markdown",
      "metadata": {
        "id": "eMTGCn5u4N59"
      },
      "source": [
        "* `summary()` has statistical summary of the “Forbes” dataframe. **Note: there are missing values (NAs) in the profits.**\n",
        "\n",
        "\n",
        "\n",
        "\n",
        "\n"
      ]
    },
    {
      "cell_type": "code",
      "metadata": {
        "id": "lww1Z3Q-4N5-"
      },
      "source": [
        "summary(forbes)"
      ],
      "execution_count": null,
      "outputs": []
    },
    {
      "cell_type": "markdown",
      "metadata": {
        "id": "kao1Zy6iqGG_"
      },
      "source": [
        "##4. Preprocess data \n"
      ]
    },
    {
      "cell_type": "markdown",
      "metadata": {
        "id": "gERvlv4cxSif"
      },
      "source": [
        "### 4.1 Preprocessing - missing values\n",
        "* Missing values are denoted in R by NA or NaN for undefined mathematical operations.\n",
        "> * `is.na(x)` is used to test objects \"x\" if there are NAs\n",
        "> * `which(is.na(x))` returns the indices of the NA values."
      ]
    },
    {
      "cell_type": "code",
      "metadata": {
        "id": "iKV7Qu9i4N6E"
      },
      "source": [
        "# Don't run this command line as you will get a very long list\n",
        "# is.na(forbes$profits)  "
      ],
      "execution_count": null,
      "outputs": []
    },
    {
      "cell_type": "code",
      "source": [
        "# If you cannot hold your curiosity back, run this instead:\n",
        "head(is.na(forbes$profits))"
      ],
      "metadata": {
        "id": "YOoaG81j1Pv0"
      },
      "execution_count": null,
      "outputs": []
    },
    {
      "cell_type": "code",
      "metadata": {
        "id": "SGlBLdCZsZCB"
      },
      "source": [
        "which(is.na(forbes$profits))"
      ],
      "execution_count": null,
      "outputs": []
    },
    {
      "cell_type": "code",
      "source": [
        "# Alternatively, we can use the complete.cases() function.\n",
        "which(! complete.cases(forbes))"
      ],
      "metadata": {
        "id": "i-X4Svz7SrqH"
      },
      "execution_count": null,
      "outputs": []
    },
    {
      "cell_type": "markdown",
      "metadata": {
        "id": "rLH9I8W44N6P"
      },
      "source": [
        "* More about missing value inspection\n"
      ]
    },
    {
      "cell_type": "code",
      "metadata": {
        "id": "D-kdpDZS4N6R"
      },
      "source": [
        "# How many NAs?\n",
        "table(is.na(forbes$profits))"
      ],
      "execution_count": null,
      "outputs": []
    },
    {
      "cell_type": "code",
      "source": [
        "# List the rows with missing values\n",
        "forbes[is.na(forbes$profits),]"
      ],
      "metadata": {
        "id": "0QUHyODqNqxf"
      },
      "execution_count": null,
      "outputs": []
    },
    {
      "cell_type": "markdown",
      "metadata": {
        "id": "_aMsG0vktTSC"
      },
      "source": [
        "* Many R functions also have a logical “`na.rm`” option\n",
        "> * `na.rm=TRUE` means the NA values should be discarded\n"
      ]
    },
    {
      "cell_type": "code",
      "metadata": {
        "id": "dbFa1Akztear"
      },
      "source": [
        "# Find the mean of the profits (should return NA).\n",
        "mean(forbes$profits)  \n",
        "# This will not (after removing the NA values).\n",
        "mean(forbes$profits,na.rm=T)"
      ],
      "execution_count": null,
      "outputs": []
    },
    {
      "cell_type": "markdown",
      "metadata": {
        "id": "HRQfa3cXt0-5"
      },
      "source": [
        "* **Note: Not all missing values are marked with “NA” in the raw data!**\n"
      ]
    },
    {
      "cell_type": "markdown",
      "metadata": {
        "id": "8QqhU2X5uBjh"
      },
      "source": [
        "* The simplest way to deal with the missing values is to remove them. \n",
        "> * If a column (variable) has a high percentage of the missing value, remove the whole column or just don’t use it for the analysis.\n",
        "> * If a row (observation) has a missing value, remove the row with `na.omit()`. e.g. \n"
      ]
    },
    {
      "cell_type": "code",
      "metadata": {
        "id": "yV26wnrUuOjq"
      },
      "source": [
        "forbes2 <- na.omit(forbes)\n",
        "dim(forbes2)"
      ],
      "execution_count": null,
      "outputs": []
    },
    {
      "cell_type": "markdown",
      "metadata": {
        "id": "RnVQ-jx2uf-J"
      },
      "source": [
        "* Alternatively, the missing values can be replaced by basic statistics e.g. \n",
        "> * replace by mean \n"
      ]
    },
    {
      "cell_type": "code",
      "source": [
        "# The vector \"miss\" contains the row indices of missing values\n",
        "miss<-which(is.na(forbes$profits)) \n",
        "forbes[miss,\"profits\"] <- mean(forbes$profits,na.rm=T)\n",
        "forbes[miss,]"
      ],
      "metadata": {
        "id": "W4W5KDsMUKgP"
      },
      "execution_count": null,
      "outputs": []
    },
    {
      "cell_type": "markdown",
      "metadata": {
        "id": "ciXJvSGhuysS"
      },
      "source": [
        "* Or use advanced statistical techniques. List of popular R Packages:\n",
        "> * MICE\n",
        "> * Amelia (named after Amelia Earhart, the first female pilot to fly solo across the Atlantic Ocean, who mysteriously went **missing** while flying over the Pacific Ocean in 1937.)\n",
        "> * missForest (non parametric imputation method)\n",
        "> * Hmisc\n",
        "> * mi"
      ]
    },
    {
      "cell_type": "markdown",
      "metadata": {
        "id": "nkNPSPoKvWdZ"
      },
      "source": [
        "###4.2 Preprocessing - subsetting data\n",
        "* On most occasions we do not need all of the raw data\n",
        "* Reducing the size of data saves resources needed to deal with it\n",
        "* There are a number of methods of extracting a subset of R objects, either by row or column or both.\n"
      ]
    },
    {
      "cell_type": "markdown",
      "metadata": {
        "id": "MoPex-0DvrTA"
      },
      "source": [
        "#### 4.2.1 Subsetting by row: use conditions\n"
      ]
    },
    {
      "cell_type": "markdown",
      "source": [
        "Find all companies with negative profit:"
      ],
      "metadata": {
        "id": "pC9UmTtaQiZT"
      }
    },
    {
      "cell_type": "code",
      "metadata": {
        "id": "T9WIn_YSv443"
      },
      "source": [
        "forbes[forbes$profits < 0,]"
      ],
      "execution_count": null,
      "outputs": []
    },
    {
      "cell_type": "markdown",
      "metadata": {
        "id": "O1i26j1_wZ7x"
      },
      "source": [
        "Find three companies with the highest sales:\n"
      ]
    },
    {
      "cell_type": "code",
      "metadata": {
        "id": "ew8W4085we18"
      },
      "source": [
        "# The order function returns indices\n",
        "order_sales <- order(forbes$sales, decreasing=T)\n",
        "# Top 3\n",
        "forbes[order_sales[1:3],c(\"name\",\"sales\")]"
      ],
      "execution_count": null,
      "outputs": []
    },
    {
      "cell_type": "markdown",
      "metadata": {
        "id": "qPOuTabFw5RA"
      },
      "source": [
        "####4.2.2 Subsetting by row: use `subset()` function\n",
        "Pass the condition as an argument to the `subset()` function.\n"
      ]
    },
    {
      "cell_type": "code",
      "metadata": {
        "id": "8Mn7AE7Rw_uB"
      },
      "source": [
        "# Find the business categories to which the Bermuda companies belong.\n",
        "# Note that it's \"country\" instead of \"forbes$country\" in the subset() function.\n",
        "Bermudacomp <- subset(forbes, country == \"Bermuda\")\n",
        "table(Bermudacomp[,\"category\"]) #frequency table of categories"
      ],
      "execution_count": null,
      "outputs": []
    },
    {
      "cell_type": "code",
      "source": [
        "# Subset the insurance companies located in Bermuda.\n",
        "subset(forbes, country == \"Bermuda\" & category == \"Insurance\")"
      ],
      "metadata": {
        "id": "PwX6GUlCX526"
      },
      "execution_count": null,
      "outputs": []
    },
    {
      "cell_type": "markdown",
      "metadata": {
        "id": "B4b0rfY-xgJ4"
      },
      "source": [
        "####4.2.3 Subsetting by column\n",
        "Create another dataframe with only numeric variables"
      ]
    },
    {
      "cell_type": "code",
      "metadata": {
        "id": "tw_SDfhqxvjD"
      },
      "source": [
        "#use data.frame function\n",
        "forbes3 <- data.frame(sales=forbes$sales,profits=forbes$profits,\n",
        "           assets=forbes$assets, mvalue=forbes$marketvalue)\n",
        "str(forbes3)\n",
        "\n",
        "#use subset() function\n",
        "forbes4 <- subset(forbes,select=c(sales,profits,assets,marketvalue))\n",
        "str(forbes4)\n",
        "\n",
        "#or simply use indexing\n",
        "forbes5 <- forbes[,c(5:8)]\n",
        "str(forbes5)"
      ],
      "execution_count": null,
      "outputs": []
    },
    {
      "cell_type": "markdown",
      "source": [
        "####4.2.4 Subsetting by row and column\n"
      ],
      "metadata": {
        "id": "nHxzmc_vYvXm"
      }
    },
    {
      "cell_type": "code",
      "source": [
        "# Find the insurance companies based in Bermuda and retain only the numeric columns.\n",
        "subset(forbes, country == \"Bermuda\" & category == \"Insurance\", select=c(name,sales,profits,assets,marketvalue))"
      ],
      "metadata": {
        "id": "q73FImwsY0d-"
      },
      "execution_count": null,
      "outputs": []
    },
    {
      "cell_type": "markdown",
      "metadata": {
        "id": "r1R3wV1IyEQC"
      },
      "source": [
        "### 4.3 Preprocessing – Factors\n",
        "* Factors are variables in R which take on a limited number of different values; such variables are often referred to as categorical variables\n",
        "\n",
        "\n",
        "We can use the `factor()` function to convert characters to (unordered) factors:"
      ]
    },
    {
      "cell_type": "code",
      "metadata": {
        "id": "nioNugIYyMoh"
      },
      "source": [
        "forbes$country<-factor(forbes$country)\n",
        "str(forbes)"
      ],
      "execution_count": null,
      "outputs": []
    },
    {
      "cell_type": "markdown",
      "metadata": {
        "id": "V8RCDhbMyhI8"
      },
      "source": [
        "* We often want to merge classes/categories (as long as it makes sense):\n",
        " * For better model performance.\n",
        " * Some categories may have too few subjects."
      ]
    },
    {
      "cell_type": "code",
      "metadata": {
        "id": "v5dHXoPMyruY"
      },
      "source": [
        "table(forbes$country)"
      ],
      "execution_count": null,
      "outputs": []
    },
    {
      "cell_type": "markdown",
      "metadata": {
        "id": "MbNTKIxHzJDi"
      },
      "source": [
        "* Merge small classes into a larger classes\n",
        "\n",
        "Merge all South American countries to \"Venezuela\""
      ]
    },
    {
      "cell_type": "code",
      "metadata": {
        "id": "5W8TxPeBzjHB"
      },
      "source": [
        " forbes$country[(forbes$country==\"Bahamas\")|(forbes$country==\"Bermuda\")|(forbes$country==\"Brazil\")|(forbes$country==\"Cayman Islands\")|(forbes$country==\"Chile\")|(forbes$country==\"Panama/ United Kingdom\")|(forbes$country==\"Peru\")]<-\"Venezuela\""
      ],
      "execution_count": null,
      "outputs": []
    },
    {
      "cell_type": "markdown",
      "metadata": {
        "id": "yDJPSXm6zq7z"
      },
      "source": [
        "Merge small classes into a larger classes"
      ]
    },
    {
      "cell_type": "code",
      "metadata": {
        "id": "n-TKo6aQz1mg"
      },
      "source": [
        "forbes$country[(forbes$country==\"Austria\")|(forbes$country==\"Belgium\")|(forbes$country==\"Czech Republic\")|(forbes$country==\"Denmark\")|(forbes$country==\"Finland\")|(forbes$country==\"France\")|(forbes$country==\"Germany\")|(forbes$country==\"Greece\")|(forbes$country==\"Hungary\")|(forbes$country==\"Ireland\")|(forbes$country==\"Italy\")|(forbes$country==\"Luxembourg\")|(forbes$country==\"Netherlands\")|(forbes$country==\"Norway\")|(forbes$country==\"Poland\")|(forbes$country==\"Portugal\")|(forbes$country==\"Russia\")|(forbes$country==\"Spain\")|(forbes$country==\"Sweden\")|(forbes$country==\"Switzerland\")|(forbes$country==\"Turkey\")|(forbes$country==\"France/ United Kingdom\")|(forbes$country==\"United Kingdom/ Netherlands\")|(forbes$country==\"Netherlands/ United Kingdom\")]<-\"United Kingdom\"\n",
        "forbes$country[(forbes$country==\"China\")|(forbes$country==\"Hong Kong/China\")|(forbes$country==\"Indonesia\")|(forbes$country==\"Japan\")|(forbes$country==\"Kong/China\")|(forbes$country==\"Korea\")|(forbes$country==\"Malaysia\")|(forbes$country==\"Philippines\")|(forbes$country==\"Singapore\")|(forbes$country==\"South Korea\")|(forbes$country==\"Taiwan\")]<-\"Thailand\"\n",
        "forbes$country[(forbes$country==\"Africa\")|(forbes$country==\"Australia\")|(forbes$country==\"India\")|(forbes$country==\"Australia/ United Kingdom\")|(forbes$country==\"Islands\")|(forbes$country==\"Israel\")|(forbes$country==\"Jordan\")|(forbes$country==\"Liberia\")|(forbes$country==\"Mexico\")|(forbes$country==\"New Zealand\")|(forbes$country==\"Pakistan\")|(forbes$country==\"South Africa\")|(forbes$country==\"United Kingdom/ Australia\")]<-\"United Kingdom/ South Africa\""
      ],
      "execution_count": null,
      "outputs": []
    },
    {
      "cell_type": "markdown",
      "metadata": {
        "id": "H6ZanpW70XSj"
      },
      "source": [
        "* Drop those levels with zero counts\n",
        "\n",
        "Use `droplevels()` function:\n"
      ]
    },
    {
      "cell_type": "code",
      "metadata": {
        "id": "bXODV7KY0ni4"
      },
      "source": [
        "forbes$country<-droplevels(forbes$country)"
      ],
      "execution_count": null,
      "outputs": []
    },
    {
      "cell_type": "markdown",
      "metadata": {
        "id": "_kyU02Vm0yvh"
      },
      "source": [
        "Now we can check the new frequency tables:"
      ]
    },
    {
      "cell_type": "code",
      "metadata": {
        "id": "mjjqV7Ui02oH"
      },
      "source": [
        "table(forbes$country)"
      ],
      "execution_count": null,
      "outputs": []
    },
    {
      "cell_type": "markdown",
      "metadata": {
        "id": "hPwB5uT409eQ"
      },
      "source": [
        "* Rename each class"
      ]
    },
    {
      "cell_type": "code",
      "metadata": {
        "id": "CHdjaHLq1AYT"
      },
      "source": [
        "levels(forbes$country)<-c(\"Canada\",\"East/Southeast Asia\",\"Europe\",\"Other\",\"United States\",\"Latin America\")\n",
        "levels(forbes$country)\n",
        "table(forbes$country)"
      ],
      "execution_count": null,
      "outputs": []
    },
    {
      "cell_type": "markdown",
      "source": [
        "**Can we use the `match()` function we learned about yesterday for this task (dictionary lookup)?**"
      ],
      "metadata": {
        "id": "xKuoyO6_ArfD"
      }
    },
    {
      "cell_type": "markdown",
      "metadata": {
        "id": "7XZclPFj1ZB7"
      },
      "source": [
        "###4.4 Export the cleaned dataset\n",
        "* Save forbes to Forbes2000_clean.csv"
      ]
    },
    {
      "cell_type": "code",
      "metadata": {
        "id": "1hyWWnp51kWL"
      },
      "source": [
        "write.csv(forbes,\"Forbes2000_clean.csv\",row.names=FALSE)\n",
        "list.files()"
      ],
      "execution_count": null,
      "outputs": []
    },
    {
      "cell_type": "markdown",
      "metadata": {
        "id": "IK3T1KxJ1w0J"
      },
      "source": [
        "##Exercise 1\n",
        "\n",
        "1. Find all German companies with negative profit\n"
      ]
    },
    {
      "cell_type": "code",
      "metadata": {
        "id": "VxvxYUGf18v-"
      },
      "source": [
        "#@title Hint { display-mode: \"form\" }\n",
        "forbes <- read.csv(\"Forbes2000.csv\",header=T,stringsAsFactors = FALSE,na.strings =\"NA\",sep=\",\") #reload raw data \n",
        "forbes <- na.omit(forbes)  # omit NAs\n",
        "# finish lines below:\n",
        "Germanycomp <- subset(    ,    ) #get a subset of Germany company\n",
        "Germanycomp[       ,c(\"name\",\"sales\",\"profits\",\"assets\")]"
      ],
      "execution_count": null,
      "outputs": []
    },
    {
      "cell_type": "code",
      "metadata": {
        "id": "XyUxuKBRWSg4"
      },
      "source": [
        "#@title Solution { display-mode: \"form\" }\n",
        "\n",
        "forbes <- read.csv(\"Forbes2000.csv\",header=T,stringsAsFactors = FALSE,na.strings =\"NA\",sep=\",\") #reload raw data \n",
        "forbes <- na.omit(forbes)  # omit NAs\n",
        "Germanycomp <- subset(forbes, country == \"Germany\")\n",
        "Germanycomp[Germanycomp$profits < 0,c(\"name\",\"sales\",\"profits\",\"assets\")]"
      ],
      "execution_count": null,
      "outputs": []
    },
    {
      "cell_type": "markdown",
      "metadata": {
        "id": "Notp57M92aJS"
      },
      "source": [
        "2. Arbitrarily merge the categories into three sectors: industry, services and finance.\n",
        "* Can we use the `match()` function to perform a dictionary lookup?"
      ]
    },
    {
      "cell_type": "code",
      "metadata": {
        "id": "UGWRofhu2fgK"
      },
      "source": [
        "#@title Hint { display-mode: \"form\" }\n",
        "\n",
        "# factorize the values in the \"category\" \n",
        "forbes$category <- factor(forbes$category)\n",
        "str(forbes)\n",
        "table(forbes$category)\n",
        "\n",
        "# arbitrarily define \"Industry\"\n",
        "forbes$category[(forbes$category==\"Aerospace & defense\")|(forbes$category==\"Chemicals\")|(forbes$category==\"Conglomerates\")|(forbes$category==\"Construction\")|(forbes$category==\"Consumer durables\")|(forbes$category==\"Drugs & biotechnology\")|(forbes$category==\"Food markets\")|(forbes$category==\"Food drink & tobacco\")|(forbes$category==\"Food markets\")|(forbes$category==\"Household & personal products\")|(forbes$category==\"Materials\")|(forbes$category==\"Semiconductors\")|(forbes$category==\"Technology hardware & equipment\")|(forbes$category==\"Utilities\")]<-\"Industry\"\n",
        "# arbitrarily define \"Services\" and \"Finance\"\n",
        "# finish lines below\n",
        "#forbes$category[    ]<-\"Services\"\n",
        "#forbes$category[    ]<-\"Finance\"\n",
        "# drop levels with 0 count\n",
        "#forbes$category<-droplevels()\n",
        "table(forbes$category)"
      ],
      "execution_count": null,
      "outputs": []
    },
    {
      "cell_type": "code",
      "source": [
        "#@title Solution { display-mode: \"form\" }\n",
        "\n",
        "# Extract the values of categories\n",
        "categories <- unique(forbes$category)\n",
        "# Create a random (arbitrary) sample vector of the same length\n",
        "sectors <- sample(c(\"Industry\",\"Services\",\"Finance\"),length(categories),\n",
        "  replace=T)\n",
        "# Combine the two vectors into a dictionary\n",
        "sectordict <- cbind.data.frame(categories,sectors)\n",
        "# Use the match() function to perform a dictionary lookup.\n",
        "sector_indices <- match(forbes$category,sectordict$categories)\n",
        "forbes_w_sectors <- cbind.data.frame(forbes,sectors=sectordict$sectors[sector_indices])\n",
        "# Convert the \"sectors\" column into factor.\n",
        "forbes_w_sectors$sectors <- factor(forbes_w_sectors$sectors)\n",
        "# Inspect the result\n",
        "str(forbes_w_sectors)\n",
        "table(forbes_w_sectors$sectors)"
      ],
      "metadata": {
        "id": "2WXq2zK8a1bx"
      },
      "execution_count": null,
      "outputs": []
    },
    {
      "cell_type": "markdown",
      "metadata": {
        "id": "iYwuM_C04K56"
      },
      "source": [
        "# We will be back at 10:20 AM"
      ]
    },
    {
      "cell_type": "markdown",
      "metadata": {
        "id": "zreO0WEd2gpD"
      },
      "source": [
        "## 5. Data analysis\n"
      ]
    },
    {
      "cell_type": "markdown",
      "metadata": {
        "id": "Io-6rNFc2_6s"
      },
      "source": [
        "###5.1 Two common questions:\n",
        "* Which statistical model should I use?\n",
        "* How to choose the right R packages?\n"
      ]
    },
    {
      "cell_type": "markdown",
      "metadata": {
        "id": "EyUGpmqm3c5B"
      },
      "source": [
        "#### Which statistical model should I use for my data analysis?\n",
        "* This is not a statistics workshop…\n",
        "* Courses provided by your institution or open courses such as Coursera\n",
        "* You could collaborate with statisticians on your campus"
      ]
    },
    {
      "cell_type": "markdown",
      "metadata": {
        "id": "5FYfkxB73Wpo"
      },
      "source": [
        "####How to choose the right R packages for my data analysis?\n",
        "* CRAN task views \n",
        "https://cran.r-project.org/web/views/\n",
        "* RDocumentation https://www.rdocumentation.org\n",
        "> *  a website, an R package and an API\n",
        "> * supports taskview \n",
        "> * searchs all CRAN, Bioconductor and GitHub packages\n",
        "\n",
        "\n"
      ]
    },
    {
      "cell_type": "markdown",
      "metadata": {
        "id": "Osw6lYbu4UUL"
      },
      "source": [
        "###5.2 Import the cleaned dataset (Optional)\n",
        "* Subsetting by column\n",
        "Create a dataframe with the clean data"
      ]
    },
    {
      "cell_type": "code",
      "metadata": {
        "id": "9ghM_DIK4ffD"
      },
      "source": [
        "# Read the data back in from the file we just wrote.\n",
        "forbes_clean <- read.csv(\"Forbes2000_clean.csv\",header=T,stringsAsFactors = T,na.strings =\"NA\",sep=\",\")\n",
        "# Sanity check\n",
        "str(forbes_clean)\n",
        "summary(forbes_clean)\n",
        "dim(forbes_clean)"
      ],
      "execution_count": null,
      "outputs": []
    },
    {
      "cell_type": "markdown",
      "metadata": {
        "id": "Bcf3wU_IA_hZ"
      },
      "source": [
        "###5.3 Extract Variables \n",
        "* Create another data frame with only numeric variables + country"
      ]
    },
    {
      "cell_type": "code",
      "metadata": {
        "id": "jFDVjnz4CVBT"
      },
      "source": [
        "# We can save the result into the same object, \n",
        "# but do be careful when you do this - the old object will be overwritten.\n",
        "forbes_clean <- forbes_clean[,c(3, 5:8)]\n",
        "str(forbes_clean)"
      ],
      "execution_count": null,
      "outputs": []
    },
    {
      "cell_type": "markdown",
      "metadata": {
        "id": "yS8zt-Bq46lR"
      },
      "source": [
        "###5.4 Training Set and Test Set\n",
        "* A dataset could be randomly split into two parts: training set and test set. \n",
        " * Use the training set to built the model\n",
        " * Use the test set to validate the model"
      ]
    },
    {
      "cell_type": "code",
      "metadata": {
        "id": "yFDob7OX5DB4"
      },
      "source": [
        "set.seed(1) #set random seed reproducible\n",
        "indx <- sample(1:2000,size=2000,replace=F)\n",
        "forbes.train <- forbes_clean[indx[1:1600],]\n",
        "forbes.test <- forbes_clean[indx[1601:2000],]"
      ],
      "execution_count": null,
      "outputs": []
    },
    {
      "cell_type": "markdown",
      "metadata": {
        "id": "6QDlUXDC5fda"
      },
      "source": [
        "###5.5 Roadmap of generalizations of linear models\n",
        "* Roadmap of generalizations of linear models:\n",
        "> https://drive.google.com/open?id=1HrnpinlmyZl9_GL9xX24a5Nv6PUumovI\n"
      ]
    },
    {
      "cell_type": "markdown",
      "metadata": {
        "id": "JnaICTq67sOy"
      },
      "source": [
        "* Explanation of Acronyms\n",
        "\n",
        ">Models | Acronym | R function\n",
        ">--- | --- | ---\n",
        ">Linear Models | LM | lm, aov\n",
        ">Generalized LMs | GLM | glm\n",
        ">Linear Mixed Models | LMM | lme, aov\n",
        ">Non-linear Models | NLM | nls\n",
        ">Non-linear Mixed Models | NLMM | nlme\n",
        ">Generalized LMMs | GLMM | glmmPQL\n",
        ">Generalized Additive Models | GAM | gam\n"
      ]
    },
    {
      "cell_type": "markdown",
      "metadata": {
        "id": "ttmFlPAl9S-e"
      },
      "source": [
        "* Symbol Meanings in Model Formulae\n",
        "\n",
        ">Symbol | Example | Meaning\n",
        ">--- | --- | ---\n",
        ">+ | +X | Include variable X in the model\n",
        ">- | -X | Exclude variable X in the model\n",
        ">: | X:Z | Include the interaction between X and Z\n",
        ">\\* | X\\*Z | Include X and Z and the interactions\n",
        ">\\| | NLM | Conditioning: include X given Z\n",
        ">^ | NLMM | Include A, B and C and all the interactions up to three way\n",
        ">/ | GLMM | As is: include a new variable consisting of these variables multiplied\n",
        "\n",
        "\n"
      ]
    },
    {
      "cell_type": "markdown",
      "metadata": {
        "id": "TJb-oJhc-vBk"
      },
      "source": [
        "* Model Formulae\n",
        " * General form: response ~ term1 <+ term2 + term3...>\n",
        "\n",
        "> Example | Meaning\n",
        ">--- | --- \n",
        ">y ~ x | Simple regression\n",
        ">y ~ -1 +  x | LM through the origin\n",
        ">y ~ x + x^2 | Quadratic regression\n",
        ">y ~ x1 + x2 + x3 | Multiple regression\n",
        ">y ~ . | All variables included\n",
        ">y ~ . - x1 | All variables except X1\n",
        ">y ~ A + B + A : B | Add interaction\n",
        ">y ~ A \\* B | Same above\n",
        ">y ~ (A+B)^2 | Same above\n",
        "\n",
        "\n",
        "\n",
        "\n"
      ]
    },
    {
      "cell_type": "markdown",
      "metadata": {
        "id": "UgXvQ1jVAQza"
      },
      "source": [
        "###5.6 A multiple linear regression example\n",
        "* Predict the market value with other variables, including the geographical location\n",
        "> marketvalue ~ profits + sales + assets + country\n"
      ]
    },
    {
      "cell_type": "code",
      "metadata": {
        "id": "WKhQvh03AX46"
      },
      "source": [
        "# ~. means against all variables\n",
        "lm <- lm(marketvalue ~ ., data = forbes.train)\n",
        "summary(lm)"
      ],
      "execution_count": null,
      "outputs": []
    },
    {
      "cell_type": "markdown",
      "metadata": {
        "id": "MGvRGagqC7Y1"
      },
      "source": [
        "* R has created a n-1 variables each with two levels. These n-1 new variables contain the same information as the single variable. This recoding creates a table called contrast matrix.\n"
      ]
    },
    {
      "cell_type": "code",
      "metadata": {
        "id": "iJzmijc6C9H6"
      },
      "source": [
        "contrasts(forbes.train$country)\n"
      ],
      "execution_count": null,
      "outputs": []
    },
    {
      "cell_type": "markdown",
      "metadata": {
        "id": "9tFPA_8LDHDb"
      },
      "source": [
        "###5.7 A Stepwise regression example\n",
        "* The function `regsubsets()` in the leaps library allow us to do the stepwise regression\n"
      ]
    },
    {
      "cell_type": "code",
      "metadata": {
        "id": "ryhD1VVGDQwT"
      },
      "source": [
        "# Install and load package\n",
        "install.packages(\"leaps\")\n",
        "library(leaps)\n",
        "# Stepwise regression.\n",
        "bwd <- regsubsets(marketvalue ~ ., data = forbes.train,nvmax =3,method =\"backward\")\n",
        "summary(bwd)"
      ],
      "execution_count": null,
      "outputs": []
    },
    {
      "cell_type": "markdown",
      "metadata": {
        "id": "kVwCNQi9Dg_J"
      },
      "source": [
        "An asterisk indicates that a given variable is included in the corresponding model.\n"
      ]
    },
    {
      "cell_type": "markdown",
      "metadata": {
        "id": "gEIVHum8DjHg"
      },
      "source": [
        "###5.8 A Regression tree example\n",
        "* The function `rpart() `in the rpart library allow us to grow a regression tree\n"
      ]
    },
    {
      "cell_type": "code",
      "metadata": {
        "id": "7klSPLUGDu7N"
      },
      "source": [
        "# Install and load package\n",
        "install.packages(\"rpart\")\n",
        "library(rpart)\n",
        "# Build the regression tree.\n",
        "rpartmodel <- rpart(marketvalue ~ ., data = forbes.train,control = rpart.control(xval = 10, minbucket = 50))\n",
        "# The par() function can be used to set graphic parameters.\n",
        "par(mfrow=c(1,1),xpd=NA,cex=1.5)\n",
        "# Show the result regression tree.\n",
        "plot(rpartmodel,uniform=T)\n",
        "text(rpartmodel,use.n=T)\n",
        "# We can get the predicted values by calling the predict() function.\n",
        "# predict(rpartmodel,forbes.test)"
      ],
      "execution_count": null,
      "outputs": []
    },
    {
      "cell_type": "markdown",
      "metadata": {
        "id": "A04hazCMEP-L"
      },
      "source": [
        "###5.9 A Bagging tree example\n",
        "* The function `randomForest()` in the randomForest library allow us to grow a regression tree\n"
      ]
    },
    {
      "cell_type": "code",
      "metadata": {
        "id": "_S4FGTrOEX8i"
      },
      "source": [
        "# Install and load package\n",
        "install.packages(\"randomForest\")\n",
        "library(randomForest)\n",
        "# Build the bagging tree.\n",
        "bag <- randomForest(marketvalue ~ ., data = forbes.train, importance =TRUE)\n",
        "# Examine the result.\n",
        "importance(bag)\n",
        "varImpPlot(bag)"
      ],
      "execution_count": null,
      "outputs": []
    },
    {
      "cell_type": "markdown",
      "metadata": {
        "id": "DcKx_akHE4Ci"
      },
      "source": [
        "### 5.10 The predictive results in terms of the MAD and RMSE values \n",
        "* MAD:\n",
        "\n",
        "$MAD = \\frac{1}{N}\\times\\sum_{i=1}^N|y_i-\\hat{y_i}|$\n",
        "\n",
        "\n",
        "* RMSE:\n",
        "\n",
        "$RMSE = \\sqrt{\\sum_{i=1}^N(y_i-\\hat{y_i})^2/N}$\n",
        "\n"
      ]
    },
    {
      "cell_type": "markdown",
      "source": [
        "* Bagging tree example for calculating RMSE and MAD"
      ],
      "metadata": {
        "id": "SM8vbj7d7dle"
      }
    },
    {
      "cell_type": "code",
      "metadata": {
        "id": "ha-DCQGeIMRh"
      },
      "source": [
        "forbes_clean2 <- forbes_clean[,c(2:5)]  # create a new dataframe with only numeric variables included\n",
        "set.seed(2) \n",
        "indx <- sample(1:2000,size=2000,replace=F)\n",
        "forbes.train <- forbes_clean2[indx[1:1600],]\n",
        "forbes.test <- forbes_clean2[indx[1601:2000],]\n",
        "bag <- randomForest(marketvalue ~ ., data = forbes.train, importance =TRUE)\n",
        "# RMSE and MAD \n",
        "bag.yhat <- predict(bag, newdata = forbes.test) \n",
        "bag.y <- forbes.test[\"marketvalue\"] \n",
        "bag.rmse <- sqrt(mean(data.matrix((bag.y - bag.yhat)^2)))\n",
        "bag.rmse\n",
        "bag.abs = abs(bag.y - bag.yhat) \n",
        "bag.mad = (sum(bag.abs))/400 \n",
        "bag.mad "
      ],
      "execution_count": null,
      "outputs": []
    },
    {
      "cell_type": "markdown",
      "metadata": {
        "id": "ZSws0mVIGF-K"
      },
      "source": [
        "##Exercise 2\n",
        "1. Use the `lm()` function to perform a multiple linear regression with profits as the response and all other numeric variables as the predictors. Use the `summary()` function to print the results. \n"
      ]
    },
    {
      "cell_type": "code",
      "metadata": {
        "id": "PUWzXPyhGVFk"
      },
      "source": [
        "forbes_clean2 <- forbes_clean[,c(2:5)]  # create a new dataframe with only numeric variables included\n",
        "set.seed(3) \n",
        "indx <- sample(1:2000,size=2000,replace=F)\n",
        "forbes.train <- forbes_clean2[indx[1:1600],]\n",
        "forbes.test <- forbes_clean2[indx[1601:2000],]\n",
        "str(forbes.train)"
      ],
      "execution_count": null,
      "outputs": []
    },
    {
      "cell_type": "code",
      "metadata": {
        "id": "ByWA1lihE0OS"
      },
      "source": [
        "#@title Hint {display-mode: \"form\"}\n",
        "\n",
        "#finish lines below\n",
        "lm <- lm(   profits ~ , data=forbes.train     )\n",
        "summary(lm)"
      ],
      "execution_count": null,
      "outputs": []
    },
    {
      "cell_type": "code",
      "metadata": {
        "id": "c4xDOVzWapb_"
      },
      "source": [
        "#@title Solution { display-mode: \"form\" }\n",
        "lm <- lm(profits ~ ., data = forbes.train)\n",
        "summary(lm)"
      ],
      "execution_count": null,
      "outputs": []
    },
    {
      "cell_type": "markdown",
      "metadata": {
        "id": "Hm4KasWEGWi4"
      },
      "source": [
        "2. Comment on the output. For instance:  Is there a relationship between the predictors and the response? \n",
        "\n",
        "3. Which predictors appear to have a statistically significant relationship to the response? \n",
        "\n",
        "4. What does the coefficient for the sales variable suggest?"
      ]
    },
    {
      "cell_type": "markdown",
      "source": [
        "##Exercise 3\n",
        "\n",
        "Compare the RMSE for the multilinear regression (`lm`), regression tree (`rpart`) and bagging tree (`randomforest`). \n",
        "\n",
        "Report your findings in a table like this:\n",
        "\n",
        ">Model | RMSE \n",
        ">--- | --- \n",
        ">MLR | 14.41041 \n",
        ">Regression tree | 17.85625 \n",
        ">Bagging tree | 11.69301 "
      ],
      "metadata": {
        "id": "52QwXqGy7Pkm"
      }
    },
    {
      "cell_type": "code",
      "source": [
        "# Make sure that you are using the same training and test data.\n",
        "\n",
        "forbes_clean2 <- forbes_clean[,c(2:5)]  # create a new dataframe with only numeric variables included\n",
        "set.seed(3) \n",
        "indx <- sample(1:2000,size=2000,replace=F)\n",
        "forbes.train <- forbes_clean2[indx[1:1600],]\n",
        "forbes.test <- forbes_clean2[indx[1601:2000],]"
      ],
      "metadata": {
        "id": "FmLHe69giDsi"
      },
      "execution_count": null,
      "outputs": []
    },
    {
      "cell_type": "code",
      "source": [
        "#@title Hint { display-mode: \"form\" }\n",
        "\n",
        "# For each model, do the following:\n",
        "# Fit the model\n",
        "# Calculate the yhat with the predict() fuction\n",
        "# Extract the y values\n",
        "# Calculate the RMSE using the example we covered above"
      ],
      "metadata": {
        "id": "Ui2ZBqNgh2UD"
      },
      "execution_count": null,
      "outputs": []
    },
    {
      "cell_type": "code",
      "source": [
        "#@title Solution { display-mode: \"form\" }\n",
        "\n",
        "mlr <- lm(marketvalue ~ ., data = forbes.train)\n",
        "# RMSE\n",
        "mlr.yhat <- predict(mlr, newdata = forbes.test) \n",
        "mlr.y <- forbes.test[\"marketvalue\"] \n",
        "mlr.rmse <- sqrt(mean(data.matrix((mlr.y - mlr.yhat)^2)))\n",
        "cat(\"RMSE for MLR: \",mlr.rmse,\"\\n\")\n",
        "\n",
        "rt <- rpart(marketvalue ~ ., data = forbes.train,control = rpart.control(xval = 10, minbucket = 50))\n",
        "# RMSE\n",
        "rt.yhat <- predict(rt, newdata = forbes.test) \n",
        "rt.y <- forbes.test[\"marketvalue\"] \n",
        "rt.rmse <- sqrt(mean(data.matrix((rt.y - rt.yhat)^2)))\n",
        "cat(\"RMSE for RT: \",rt.rmse,\"\\n\")\n",
        "\n",
        "bag <- randomForest(marketvalue ~ ., data = forbes.train, importance =TRUE)\n",
        "# RMSE\n",
        "bag.yhat <- predict(bag, newdata = forbes.test) \n",
        "bag.y <- forbes.test[\"marketvalue\"] \n",
        "bag.rmse <- sqrt(mean(data.matrix((bag.y - bag.yhat)^2)))\n",
        "cat(\"RMSE for BT: \", bag.rmse,\"\\n\")\n",
        "\n",
        "# There are packages that can help you, e.g. MLmetrics.\n",
        "install.packages(\"MLmetrics\")\n",
        "library(MLmetrics)\n",
        "# Use the MSE function to calculate mean square error.\n",
        "sqrt(MSE(predict(rt, newdata = forbes.test), \n",
        "  forbes.test$marketvalue))"
      ],
      "metadata": {
        "id": "NEB4yDMch17e"
      },
      "execution_count": null,
      "outputs": []
    },
    {
      "cell_type": "markdown",
      "metadata": {
        "id": "Q-wuqsgJEN2m"
      },
      "source": [
        "# we will be back at 11:10 AM"
      ]
    },
    {
      "cell_type": "markdown",
      "metadata": {
        "id": "DEcOcoR7FqcV"
      },
      "source": [
        "##6. Generate report with R Markdown\n",
        "### 6.1 Why R Markdown\n",
        "* Weaves R code and human readable texts together into a plain text file that has the extension `.Rmd`, which then can be converted (rendered) by the `rmarkdown` package into documents of many output formats of either documents and presentations:\n",
        "> * beamer_presentation\n",
        "> * context_document\n",
        "> * github_document\n",
        "> * html_document\n",
        "> * ioslides_presentation\n",
        "> * latex_document\n",
        "> * md_document\n",
        "> * odt_document\n",
        "> * pdf_document\n",
        "> * powerpoint_presentation\n",
        "> * rtf_document\n",
        "> * slidy_presentation\n",
        "> * word_document\n",
        "\n",
        "* [Rmarkdown gallery](https://rmarkdown.rstudio.com/gallery.html)\n",
        "* Also helps make your research reproducible\n",
        "\n"
      ]
    },
    {
      "cell_type": "markdown",
      "source": [
        "###6.2 Working with R Markdown"
      ],
      "metadata": {
        "id": "91QT5ErHJKVJ"
      }
    },
    {
      "cell_type": "markdown",
      "source": [
        "![A example R Mardown file](https://d33wubrfki0l68.cloudfront.net/ece57b678854545e6602a23daede51ad72da2170/21cca/lesson-images/outputs-1-word.png)"
      ],
      "metadata": {
        "id": "LKngihfno6km"
      }
    },
    {
      "cell_type": "markdown",
      "metadata": {
        "id": "-k6w3wvEVkgW"
      },
      "source": [
        "Create the R markdown file, which usually contains three types of content:\n",
        "* An (optional) YAML header surrounded by `---`s\n",
        "* R code chunks surrounded by ` ``` `s\n",
        "* Text mixed with simple text formatting\n"
      ]
    },
    {
      "cell_type": "code",
      "source": [
        "download.file(\"https://raw.githubusercontent.com/lsuhpchelp/lbrnloniworkshop2022/master/day2/Example.Rmd\",\"Example.Rmd\")"
      ],
      "metadata": {
        "id": "9ZmWYWlnJofd"
      },
      "execution_count": null,
      "outputs": []
    },
    {
      "cell_type": "markdown",
      "source": [
        "Then install and load the `rmarkdown` package."
      ],
      "metadata": {
        "id": "_JejPGZiJq_z"
      }
    },
    {
      "cell_type": "code",
      "metadata": {
        "id": "QnXs5mtlLlXq"
      },
      "source": [
        "install.packages(\"rmarkdown\")\n",
        "library(rmarkdown)"
      ],
      "execution_count": null,
      "outputs": []
    },
    {
      "cell_type": "markdown",
      "source": [
        "Render the R Markdown file into the desired format."
      ],
      "metadata": {
        "id": "nq3er3-3JxJC"
      }
    },
    {
      "cell_type": "code",
      "source": [
        "render(\"Example.Rmd\", output_format = \"word_document\")"
      ],
      "metadata": {
        "id": "TlPq2zZ4JwTI"
      },
      "execution_count": null,
      "outputs": []
    },
    {
      "cell_type": "markdown",
      "source": [
        "You can find an excellent R Markdown lesson from Rstudio [here](https://rmarkdown.rstudio.com/lesson-1.html)."
      ],
      "metadata": {
        "id": "ZytzHZOBHx3u"
      }
    },
    {
      "cell_type": "markdown",
      "metadata": {
        "id": "HvSUoSJNn1V2"
      },
      "source": [
        "### 6.3 Converting Jupyter/Colab notebook to `.Rmd`\n",
        "\n",
        "\n",
        "**Conversion script below is developed by JJ Allaire, Yihui Xie, Jonathan McPherson, Javier Luraschi, Kevin Ushey, Aron Atkins, Hadley Wickham, Joe Cheng, Winston Chang, Richard Iannone.\n",
        "https://github.com/rstudio/rmarkdown/blob/master/R/jupyter.R**"
      ]
    },
    {
      "cell_type": "code",
      "metadata": {
        "id": "PdUyuEpchyFF"
      },
      "source": [
        "# Download conversion script\n",
        "download.file(\"https://raw.githubusercontent.com/rstudio/rmarkdown/master/R/jupyter.R\",\"jupyter.R\")\n",
        "# Download the Colab notebook (part of yesterday's material)\n",
        "download.file(\"https://raw.githubusercontent.com/lsuhpchelp/lbrnloniworkshop2022/master/day2/Rmd4day1.ipynb\",\"Rmd4day1.ipynb\")\n",
        "# Convert the Colab notebook to R Markdown.\n",
        "source(\"jupyter.R\")\n",
        "convert_ipynb(\"Rmd4day1.ipynb\",output = xfun::with_ext(\"Rmd4day1.ipynb\", \"Rmd\"))\n",
        "# Render the .Rmd file.\n",
        "render(\"Rmd4day1.Rmd\", output_format = \"word_document\")\n"
      ],
      "execution_count": null,
      "outputs": []
    },
    {
      "cell_type": "markdown",
      "metadata": {
        "id": "u08lQbZ4mImA"
      },
      "source": [
        "###6.4 Cheatsheet and reference guide\n",
        "* [Cheatsheet](https://raw.githubusercontent.com/rstudio/cheatsheets/main/rmarkdown.pdf)\n",
        "* [Reference guide](https://rstudio.com/wp-content/uploads/2015/03/rmarkdown-reference.pdf)"
      ]
    },
    {
      "cell_type": "markdown",
      "metadata": {
        "id": "WPJq6HZYNMEu"
      },
      "source": [
        "# Afternoon session\n",
        "* Practice with data_R_practice.ipynb\n",
        "* Work on the exercises from today\n",
        "* Work on the exercises from yesterday\n"
      ]
    },
    {
      "cell_type": "markdown",
      "metadata": {
        "id": "eaTOsvmeNp-1"
      },
      "source": [
        "# Getting Help\n",
        "* Documentation: http://hpc.loni.org/docs\n",
        "* Contact us\n",
        "> * Email ticket system: sys-help@loni.org\n",
        "> * Telephone Help Desk: 225-578-0900"
      ]
    }
  ]
}