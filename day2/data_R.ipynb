{
  "nbformat": 4,
  "nbformat_minor": 0,
  "metadata": {
    "colab": {
      "name": "data_R.ipynb",
      "provenance": [],
      "collapsed_sections": []
    },
    "language_info": {
      "codemirror_mode": "r",
      "file_extension": ".r",
      "mimetype": "text/x-r-source",
      "name": "R",
      "pygments_lexer": "r",
      "version": "3.3.1"
    },
    "kernelspec": {
      "display_name": "R",
      "language": "R",
      "name": "ir"
    }
  },
  "cells": [
      {
   "cell_type": "markdown",
   "metadata": {
    "colab_type": "text",
    "id": "view-in-github"
   },
   "source": [
    "<a href=\"https://colab.research.google.com/github/lsuhpchelp/lbrnloniworkshop2022/blob/main/day2/data_R.ipynb\" target=\"_parent\"><img src=\"https://colab.research.google.com/assets/colab-badge.svg\" alt=\"Open In Colab\"/></a>"
   ]
  },
    {
      "cell_type": "markdown",
      "metadata": {
        "id": "CcCXs04t4N5Q"
      },
      "source": [
        "Data Analysis in R\n",
        "==="
      ]
    },
    {
      "cell_type": "markdown",
      "metadata": {
        "id": "kixwkd8RbYtx"
      },
      "source": [
        "# Outline\n",
        "\n",
        "\n",
        "*   **Data acquisition and inspection**\n",
        "\n",
        "*   **Data preprocessing**\n",
        "\n",
        "*   **Data analysis**\n",
        "\n",
        "\n",
        "\n",
        "\n"
      ]
    },
    {
      "cell_type": "markdown",
      "metadata": {
        "id": "puJbML3jdoSt"
      },
      "source": [
        "##Review: working directory\n",
        "*  R works best if you have a dedicated folder for each separate project - the working directory. Put all data files in the working directory (or in its sub-directories).\n",
        "* The \"project\" in RStudio is the working directory “Pro”. If you are interested to learn more about RStudio, please visit the [Introduction to RStudio](http://hpc.loni.org/training/weekly-materials/2020-Spring/HPC_Intro_RStudio_Spring2020.pdf) tutorial from LONI HPC. "
      ]
    },
    {
      "cell_type": "markdown",
      "metadata": {
        "id": "VU3C0_JyeOol"
      },
      "source": [
        "Show current working folder:"
      ]
    },
    {
      "cell_type": "code",
      "metadata": {
        "id": "XGU0JFFCeJQm",
        "outputId": "b14b39f6-aad2-4a35-87a8-c28c138e4187",
        "colab": {
          "base_uri": "https://localhost:8080/",
          "height": 34
        }
      },
      "source": [
        "getwd()"
      ],
      "execution_count": 6,
      "outputs": [
        {
          "output_type": "display_data",
          "data": {
            "text/html": [
              "'/content'"
            ],
            "text/markdown": "'/content'",
            "text/latex": "'/content'",
            "text/plain": [
              "[1] \"/content\""
            ]
          },
          "metadata": {}
        }
      ]
    },
    {
      "cell_type": "markdown",
      "metadata": {
        "id": "6pgrV21teZwS"
      },
      "source": [
        "Let us create a new folder called \"data\":"
      ]
    },
    {
      "cell_type": "code",
      "metadata": {
        "id": "QkJsZAP0eWLA"
      },
      "source": [
        "dir.create(\"data\")  "
      ],
      "execution_count": 7,
      "outputs": []
    },
    {
      "cell_type": "markdown",
      "metadata": {
        "id": "8n42BV9Begfu"
      },
      "source": [
        "Go to this new folder:"
      ]
    },
    {
      "cell_type": "code",
      "metadata": {
        "id": "X_a7c3y7etuh"
      },
      "source": [
        "setwd(\"data\")"
      ],
      "execution_count": 8,
      "outputs": []
    },
    {
      "cell_type": "markdown",
      "metadata": {
        "id": "tOgijiMHexJp"
      },
      "source": [
        "Show current working folder:"
      ]
    },
    {
      "cell_type": "code",
      "metadata": {
        "id": "Q0JBu8ws4N5W",
        "outputId": "67db9c3d-11ab-4e56-90ab-7000a4e8377e",
        "colab": {
          "base_uri": "https://localhost:8080/",
          "height": 34
        }
      },
      "source": [
        "getwd()"
      ],
      "execution_count": 9,
      "outputs": [
        {
          "output_type": "display_data",
          "data": {
            "text/html": [
              "'/content/data'"
            ],
            "text/markdown": "'/content/data'",
            "text/latex": "'/content/data'",
            "text/plain": [
              "[1] \"/content/data\""
            ]
          },
          "metadata": {}
        }
      ]
    },
    {
      "cell_type": "markdown",
      "metadata": {
        "id": "nLmxtiJBfE5F"
      },
      "source": [
        "##Case Study: Forbes Global 2000 list\n",
        "*   The `forbes` dataset consists of 2000 rows (observations) on 8 variables describing companies’ rank, name, country, category, sales, profits, assets and market value. \n",
        "http://hpc.loni.org/training/weekly-materials/Downloads/Forbes2000.csv.zip\n",
        "> * **`rank`** the ranking of the company\n",
        "> * **`name`** the name of the company\n",
        "> * **`country`** the country the company is situated in\n",
        "> * **`category`** the products the company produces\n",
        "> * **`sales`** the amount of sales of the company in billion USD\n",
        "> * **`profits`** the profit of the company in billion USD\n",
        "> * **`assets`** the assets of the company in billion USD\n",
        "> * **`marketvalue`** the market value of the company in billion USD\n",
        "\n",
        "*  First 10 lines of the raw data\n",
        "\n",
        ">rank | name| country| category | sales | profits | assets | marketvalue\n",
        ">--- | --- | --- | --- | --- | --- | --- | ---\n",
        ">1 | Citigroup | United States | Banking | 94.71 | 17.85 | 1264.03 | 255.3\n",
        ">2 | General Electric | United States | Conglomerates | 134.19 | 15.59 | 626.93 | 328.54\n",
        ">3 | American Intl Group | United States | Insurance | 76.66 | 6.46 | 647.66 |194.87\n",
        ">4 | ExxonMobil | United States | Oil & gas operations | 222.88 | 20.96 | 166.99 | 277.02\n",
        ">5 | BP | United Kingdom | Oil & gas operations | 232.57 | 10.27 | 177.57 | 173.54\n",
        ">6 | Bank of America | United States | Banking | 49.01 | 10.81 | 736.45 | 117.55\n",
        ">7 | HSBC Group | United Kingdom | Banking | 44.33 | 6.66 | 757.6 | 177.96\n",
        ">8 | Toyota Motor | Japan | Consumer durables | 135.82 | 7.99 | 171.71 | 115.4\n",
        ">9 | Fannie Mae | United States | Diversified financials | 53.13 | 6.48 | 1019.17 | 76.84\n",
        ">10 | Wal-Mart Stores | United States | Retailing | 256.33 | 9.05 | 104.91 | 243.74\n"
      ]
    },
    {
      "cell_type": "markdown",
      "metadata": {
        "id": "DOEy_8Iif2HB"
      },
      "source": [
        "# Step by step Data Analysis in R\n",
        "\n",
        "\n",
        "1. Get data\n",
        "2. Read data\n",
        "3. Inspect data\n",
        "4. Preprocess data (missing and dubious values, discard columns not needed etc.)\n",
        "5. Analyze data\n",
        "6. Generate report\n",
        "\n",
        "\n",
        "\n",
        "\n",
        "\n"
      ]
    },
    {
      "cell_type": "markdown",
      "metadata": {
        "id": "bbBzk3yTqcfB"
      },
      "source": [
        "## 1. Getting Data\n",
        "* Downloading files from internet\n",
        "> * Manually download the file to the working directory \n",
        "> * or with R function `download.file()`\n",
        "* Unzip with the `unzip()` function"
      ]
    },
    {
      "cell_type": "code",
      "metadata": {
        "id": "e2O1lDvA4N5f",
        "outputId": "fb19ddf4-aff9-404f-ba3d-4d53d1b18ded",
        "colab": {
          "base_uri": "https://localhost:8080/",
          "height": 34
        }
      },
      "source": [
        "download.file(\"http://hpc.loni.org/training/weekly-materials/Downloads/Forbes2000.csv.zip\",\"Forbes2000.csv.zip\")\n",
        "unzip(\"Forbes2000.csv.zip\",\"Forbes2000.csv\")\n",
        "list.files()   # List files in current folder"
      ],
      "execution_count": 10,
      "outputs": [
        {
          "output_type": "display_data",
          "data": {
            "text/html": [
              "<style>\n",
              ".list-inline {list-style: none; margin:0; padding: 0}\n",
              ".list-inline>li {display: inline-block}\n",
              ".list-inline>li:not(:last-child)::after {content: \"\\00b7\"; padding: 0 .5ex}\n",
              "</style>\n",
              "<ol class=list-inline><li>'Forbes2000.csv'</li><li>'Forbes2000.csv.zip'</li></ol>\n"
            ],
            "text/markdown": "1. 'Forbes2000.csv'\n2. 'Forbes2000.csv.zip'\n\n\n",
            "text/latex": "\\begin{enumerate*}\n\\item 'Forbes2000.csv'\n\\item 'Forbes2000.csv.zip'\n\\end{enumerate*}\n",
            "text/plain": [
              "[1] \"Forbes2000.csv\"     \"Forbes2000.csv.zip\""
            ]
          },
          "metadata": {}
        }
      ]
    },
    {
      "cell_type": "markdown",
      "metadata": {
        "id": "VtLFhkTYj-ys"
      },
      "source": [
        "##2. Reading data\n",
        "* R understands many different data formats and has lots of ways of reading/writing them (csv, xml, excel, sql, json etc.)\n",
        "\n",
        ">Input | Output | Purpose\n",
        ">--- | --- | ---\n",
        ">read.table (read.csv) | write.table (write.csv) | for reading/writing tabular data\n",
        ">readLines | writeLines | for reading/writing lines of a text file\n",
        ">source | dump | for reading/writing in R code files\n",
        ">dget | dput | for reading/writing in R code files\n",
        ">load | save | for reading in/saving workspaces\n",
        "\n",
        "* ` read.csv()` is identical to `read.table()` except that the default separator is a comma."
      ]
    },
    {
      "cell_type": "code",
      "metadata": {
        "id": "SkbNLI6tm2Zg"
      },
      "source": [
        "forbes <- read.csv(\"Forbes2000.csv\",header=T,stringsAsFactors = FALSE,na.strings =\"NA\",sep=\",\")"
      ],
      "execution_count": 11,
      "outputs": []
    },
    {
      "cell_type": "code",
      "source": [
        "# Inspect the dataframe \"forbes\" to make sure the data was successfully read.\n",
        "str(forbes)"
      ],
      "metadata": {
        "id": "nBXaMXOWLoxs",
        "outputId": "c5ea5a6a-eaf4-4bdc-a2cd-660f3ae54ace",
        "colab": {
          "base_uri": "https://localhost:8080/"
        }
      },
      "execution_count": 12,
      "outputs": [
        {
          "output_type": "stream",
          "name": "stdout",
          "text": [
            "'data.frame':\t2000 obs. of  8 variables:\n",
            " $ rank       : int  1 2 3 4 5 6 7 8 9 10 ...\n",
            " $ name       : chr  \"Citigroup\" \"General Electric\" \"American Intl Group\" \"ExxonMobil\" ...\n",
            " $ country    : chr  \"United States\" \"United States\" \"United States\" \"United States\" ...\n",
            " $ category   : chr  \"Banking\" \"Conglomerates\" \"Insurance\" \"Oil & gas operations\" ...\n",
            " $ sales      : num  94.7 134.2 76.7 222.9 232.6 ...\n",
            " $ profits    : num  17.85 15.59 6.46 20.96 10.27 ...\n",
            " $ assets     : num  1264 627 648 167 178 ...\n",
            " $ marketvalue: num  255 329 195 277 174 ...\n"
          ]
        }
      ]
    },
    {
      "cell_type": "markdown",
      "metadata": {
        "id": "aPYzMpU4Vm_V"
      },
      "source": [
        "* **Note: Changes since R 4.0.0** \n",
        "> * R now uses a `stringsAsFactors = FALSE` default, and hence by default no longer converts strings to factors in calls to `data.frame()` and `read.table()`.\n",
        "* It is a good practice to specify some options rather than using the default."
      ]
    },
    {
      "cell_type": "markdown",
      "metadata": {
        "id": "Sc_uz3ZMWydg"
      },
      "source": [
        "* Tips: Use `fread()` to import big dataset (say, >10GB)"
      ]
    },
    {
      "cell_type": "code",
      "metadata": {
        "id": "ra8LzxiQ7tsx",
        "outputId": "aa3a04a2-e8b2-48cf-9ab4-35c29a6e4b7c",
        "colab": {
          "base_uri": "https://localhost:8080/",
          "height": 145
        }
      },
      "source": [
        "# Download a dummy data called \"Forbes_big\", which has 2000,000 rows\n",
        "download.file(\"http://hpc.loni.org/training/weekly-materials/Downloads/Forbes_big.csv.zip\",\"Forbes_big.csv.zip\")\n",
        "# Unzip the data file.\n",
        "unzip(\"Forbes_big.csv.zip\",\"Forbes_big.csv\")\n",
        "# Check its size.\n",
        "file.info(\"Forbes_big.csv\")"
      ],
      "execution_count": 13,
      "outputs": [
        {
          "output_type": "display_data",
          "data": {
            "text/html": [
              "<table class=\"dataframe\">\n",
              "<caption>A data.frame: 1 × 10</caption>\n",
              "<thead>\n",
              "\t<tr><th></th><th scope=col>size</th><th scope=col>isdir</th><th scope=col>mode</th><th scope=col>mtime</th><th scope=col>ctime</th><th scope=col>atime</th><th scope=col>uid</th><th scope=col>gid</th><th scope=col>uname</th><th scope=col>grname</th></tr>\n",
              "\t<tr><th></th><th scope=col>&lt;dbl&gt;</th><th scope=col>&lt;lgl&gt;</th><th scope=col>&lt;octmode&gt;</th><th scope=col>&lt;dttm&gt;</th><th scope=col>&lt;dttm&gt;</th><th scope=col>&lt;dttm&gt;</th><th scope=col>&lt;int&gt;</th><th scope=col>&lt;int&gt;</th><th scope=col>&lt;chr&gt;</th><th scope=col>&lt;chr&gt;</th></tr>\n",
              "</thead>\n",
              "<tbody>\n",
              "\t<tr><th scope=row>Forbes_big.csv</th><td>163901975</td><td>FALSE</td><td>644</td><td>2022-05-18 20:58:28</td><td>2022-05-18 20:58:28</td><td>2022-05-18 20:58:28</td><td>0</td><td>0</td><td>root</td><td>root</td></tr>\n",
              "</tbody>\n",
              "</table>\n"
            ],
            "text/markdown": "\nA data.frame: 1 × 10\n\n| <!--/--> | size &lt;dbl&gt; | isdir &lt;lgl&gt; | mode &lt;octmode&gt; | mtime &lt;dttm&gt; | ctime &lt;dttm&gt; | atime &lt;dttm&gt; | uid &lt;int&gt; | gid &lt;int&gt; | uname &lt;chr&gt; | grname &lt;chr&gt; |\n|---|---|---|---|---|---|---|---|---|---|---|\n| Forbes_big.csv | 163901975 | FALSE | 644 | 2022-05-18 20:58:28 | 2022-05-18 20:58:28 | 2022-05-18 20:58:28 | 0 | 0 | root | root |\n\n",
            "text/latex": "A data.frame: 1 × 10\n\\begin{tabular}{r|llllllllll}\n  & size & isdir & mode & mtime & ctime & atime & uid & gid & uname & grname\\\\\n  & <dbl> & <lgl> & <octmode> & <dttm> & <dttm> & <dttm> & <int> & <int> & <chr> & <chr>\\\\\n\\hline\n\tForbes\\_big.csv & 163901975 & FALSE & 644 & 2022-05-18 20:58:28 & 2022-05-18 20:58:28 & 2022-05-18 20:58:28 & 0 & 0 & root & root\\\\\n\\end{tabular}\n",
            "text/plain": [
              "               size      isdir mode mtime               ctime              \n",
              "Forbes_big.csv 163901975 FALSE 644  2022-05-18 20:58:28 2022-05-18 20:58:28\n",
              "               atime               uid gid uname grname\n",
              "Forbes_big.csv 2022-05-18 20:58:28 0   0   root  root  "
            ]
          },
          "metadata": {}
        }
      ]
    },
    {
      "cell_type": "code",
      "source": [
        "# install package \"data.table\" so we have the fread() function.\n",
        "install.packages(\"data.table\")\n",
        "library(data.table)"
      ],
      "metadata": {
        "id": "8rc5CZGrNoY3",
        "outputId": "ad5550c5-22ad-4487-fc4e-d8d58fe240e7",
        "colab": {
          "base_uri": "https://localhost:8080/"
        }
      },
      "execution_count": 14,
      "outputs": [
        {
          "output_type": "stream",
          "name": "stderr",
          "text": [
            "Installing package into ‘/usr/local/lib/R/site-library’\n",
            "(as ‘lib’ is unspecified)\n",
            "\n"
          ]
        }
      ]
    },
    {
      "cell_type": "code",
      "metadata": {
        "id": "8nPL-ZLE9Nw1",
        "outputId": "14a105f7-3bbe-49e4-8327-0b0fed326358",
        "colab": {
          "base_uri": "https://localhost:8080/"
        }
      },
      "source": [
        "# Compare the reading speed between read.csv() and fread()\n",
        "t1 <- system.time({\n",
        "test1<-read.csv(\"Forbes_big.csv\",header=T,stringsAsFactors = FALSE,na.strings =\"NA\",sep=\",\")\n",
        "})\n",
        "print(\"read.csv():\")\n",
        "print(t1)\n",
        "\n",
        "t2 <- system.time({\n",
        "test2<-fread(\"Forbes_big.csv\",data.table=FALSE,header=T)\n",
        "})\n",
        "print(\"fread():\")\n",
        "print(t2)"
      ],
      "execution_count": 15,
      "outputs": [
        {
          "output_type": "stream",
          "name": "stdout",
          "text": [
            "[1] \"read.csv():\"\n",
            "   user  system elapsed \n",
            "  7.532   0.216   7.757 \n",
            "[1] \"fread():\"\n",
            "   user  system elapsed \n",
            "  0.830   0.033   0.864 \n"
          ]
        }
      ]
    },
    {
      "cell_type": "markdown",
      "metadata": {
        "id": "8RtebkNBoRsL"
      },
      "source": [
        "##3. Inspecting data\n",
        "* `class()`: check object class\n",
        "* `dim()`: dimension of the data\n",
        "* `head()`: print on screen the first few lines of data, may use n as argument\n",
        "* `tail()`: print the last few lines of data"
      ]
    },
    {
      "cell_type": "code",
      "metadata": {
        "id": "y1WHb5fP4N5p",
        "outputId": "39c36836-274a-4ac6-dbb2-97b9c67a4044",
        "colab": {
          "base_uri": "https://localhost:8080/",
          "height": 51
        }
      },
      "source": [
        "# Check the object type.\n",
        "class(forbes)\n",
        "# Check the dimension.\n",
        "dim(forbes)"
      ],
      "execution_count": 16,
      "outputs": [
        {
          "output_type": "display_data",
          "data": {
            "text/html": [
              "'data.frame'"
            ],
            "text/markdown": "'data.frame'",
            "text/latex": "'data.frame'",
            "text/plain": [
              "[1] \"data.frame\""
            ]
          },
          "metadata": {}
        },
        {
          "output_type": "display_data",
          "data": {
            "text/html": [
              "<style>\n",
              ".list-inline {list-style: none; margin:0; padding: 0}\n",
              ".list-inline>li {display: inline-block}\n",
              ".list-inline>li:not(:last-child)::after {content: \"\\00b7\"; padding: 0 .5ex}\n",
              "</style>\n",
              "<ol class=list-inline><li>2000</li><li>8</li></ol>\n"
            ],
            "text/markdown": "1. 2000\n2. 8\n\n\n",
            "text/latex": "\\begin{enumerate*}\n\\item 2000\n\\item 8\n\\end{enumerate*}\n",
            "text/plain": [
              "[1] 2000    8"
            ]
          },
          "metadata": {}
        }
      ]
    },
    {
      "cell_type": "code",
      "metadata": {
        "id": "pU2Aym1jBioN",
        "outputId": "98d02707-df2a-4c99-9a22-d8eeb95b536a",
        "colab": {
          "base_uri": "https://localhost:8080/",
          "height": 407
        }
      },
      "source": [
        "# Show part of the data.\n",
        "head(forbes,n=10)"
      ],
      "execution_count": 17,
      "outputs": [
        {
          "output_type": "display_data",
          "data": {
            "text/html": [
              "<table class=\"dataframe\">\n",
              "<caption>A data.frame: 10 × 8</caption>\n",
              "<thead>\n",
              "\t<tr><th></th><th scope=col>rank</th><th scope=col>name</th><th scope=col>country</th><th scope=col>category</th><th scope=col>sales</th><th scope=col>profits</th><th scope=col>assets</th><th scope=col>marketvalue</th></tr>\n",
              "\t<tr><th></th><th scope=col>&lt;int&gt;</th><th scope=col>&lt;chr&gt;</th><th scope=col>&lt;chr&gt;</th><th scope=col>&lt;chr&gt;</th><th scope=col>&lt;dbl&gt;</th><th scope=col>&lt;dbl&gt;</th><th scope=col>&lt;dbl&gt;</th><th scope=col>&lt;dbl&gt;</th></tr>\n",
              "</thead>\n",
              "<tbody>\n",
              "\t<tr><th scope=row>1</th><td> 1</td><td>Citigroup          </td><td>United States </td><td>Banking               </td><td> 94.71</td><td>17.85</td><td>1264.03</td><td>255.30</td></tr>\n",
              "\t<tr><th scope=row>2</th><td> 2</td><td>General Electric   </td><td>United States </td><td>Conglomerates         </td><td>134.19</td><td>15.59</td><td> 626.93</td><td>328.54</td></tr>\n",
              "\t<tr><th scope=row>3</th><td> 3</td><td>American Intl Group</td><td>United States </td><td>Insurance             </td><td> 76.66</td><td> 6.46</td><td> 647.66</td><td>194.87</td></tr>\n",
              "\t<tr><th scope=row>4</th><td> 4</td><td><span style=white-space:pre-wrap>ExxonMobil         </span></td><td>United States </td><td><span style=white-space:pre-wrap>Oil &amp; gas operations  </span></td><td>222.88</td><td>20.96</td><td> 166.99</td><td>277.02</td></tr>\n",
              "\t<tr><th scope=row>5</th><td> 5</td><td><span style=white-space:pre-wrap>BP                 </span></td><td>United Kingdom</td><td><span style=white-space:pre-wrap>Oil &amp; gas operations  </span></td><td>232.57</td><td>10.27</td><td> 177.57</td><td>173.54</td></tr>\n",
              "\t<tr><th scope=row>6</th><td> 6</td><td>Bank of America    </td><td>United States </td><td>Banking               </td><td> 49.01</td><td>10.81</td><td> 736.45</td><td>117.55</td></tr>\n",
              "\t<tr><th scope=row>7</th><td> 7</td><td>HSBC Group         </td><td>United Kingdom</td><td>Banking               </td><td> 44.33</td><td> 6.66</td><td> 757.60</td><td>177.96</td></tr>\n",
              "\t<tr><th scope=row>8</th><td> 8</td><td>Toyota Motor       </td><td>Japan         </td><td>Consumer durables     </td><td>135.82</td><td> 7.99</td><td> 171.71</td><td>115.40</td></tr>\n",
              "\t<tr><th scope=row>9</th><td> 9</td><td>Fannie Mae         </td><td>United States </td><td>Diversified financials</td><td> 53.13</td><td> 6.48</td><td>1019.17</td><td> 76.84</td></tr>\n",
              "\t<tr><th scope=row>10</th><td>10</td><td>Wal-Mart Stores    </td><td>United States </td><td>Retailing             </td><td>256.33</td><td> 9.05</td><td> 104.91</td><td>243.74</td></tr>\n",
              "</tbody>\n",
              "</table>\n"
            ],
            "text/markdown": "\nA data.frame: 10 × 8\n\n| <!--/--> | rank &lt;int&gt; | name &lt;chr&gt; | country &lt;chr&gt; | category &lt;chr&gt; | sales &lt;dbl&gt; | profits &lt;dbl&gt; | assets &lt;dbl&gt; | marketvalue &lt;dbl&gt; |\n|---|---|---|---|---|---|---|---|---|\n| 1 |  1 | Citigroup           | United States  | Banking                |  94.71 | 17.85 | 1264.03 | 255.30 |\n| 2 |  2 | General Electric    | United States  | Conglomerates          | 134.19 | 15.59 |  626.93 | 328.54 |\n| 3 |  3 | American Intl Group | United States  | Insurance              |  76.66 |  6.46 |  647.66 | 194.87 |\n| 4 |  4 | ExxonMobil          | United States  | Oil &amp; gas operations   | 222.88 | 20.96 |  166.99 | 277.02 |\n| 5 |  5 | BP                  | United Kingdom | Oil &amp; gas operations   | 232.57 | 10.27 |  177.57 | 173.54 |\n| 6 |  6 | Bank of America     | United States  | Banking                |  49.01 | 10.81 |  736.45 | 117.55 |\n| 7 |  7 | HSBC Group          | United Kingdom | Banking                |  44.33 |  6.66 |  757.60 | 177.96 |\n| 8 |  8 | Toyota Motor        | Japan          | Consumer durables      | 135.82 |  7.99 |  171.71 | 115.40 |\n| 9 |  9 | Fannie Mae          | United States  | Diversified financials |  53.13 |  6.48 | 1019.17 |  76.84 |\n| 10 | 10 | Wal-Mart Stores     | United States  | Retailing              | 256.33 |  9.05 |  104.91 | 243.74 |\n\n",
            "text/latex": "A data.frame: 10 × 8\n\\begin{tabular}{r|llllllll}\n  & rank & name & country & category & sales & profits & assets & marketvalue\\\\\n  & <int> & <chr> & <chr> & <chr> & <dbl> & <dbl> & <dbl> & <dbl>\\\\\n\\hline\n\t1 &  1 & Citigroup           & United States  & Banking                &  94.71 & 17.85 & 1264.03 & 255.30\\\\\n\t2 &  2 & General Electric    & United States  & Conglomerates          & 134.19 & 15.59 &  626.93 & 328.54\\\\\n\t3 &  3 & American Intl Group & United States  & Insurance              &  76.66 &  6.46 &  647.66 & 194.87\\\\\n\t4 &  4 & ExxonMobil          & United States  & Oil \\& gas operations   & 222.88 & 20.96 &  166.99 & 277.02\\\\\n\t5 &  5 & BP                  & United Kingdom & Oil \\& gas operations   & 232.57 & 10.27 &  177.57 & 173.54\\\\\n\t6 &  6 & Bank of America     & United States  & Banking                &  49.01 & 10.81 &  736.45 & 117.55\\\\\n\t7 &  7 & HSBC Group          & United Kingdom & Banking                &  44.33 &  6.66 &  757.60 & 177.96\\\\\n\t8 &  8 & Toyota Motor        & Japan          & Consumer durables      & 135.82 &  7.99 &  171.71 & 115.40\\\\\n\t9 &  9 & Fannie Mae          & United States  & Diversified financials &  53.13 &  6.48 & 1019.17 &  76.84\\\\\n\t10 & 10 & Wal-Mart Stores     & United States  & Retailing              & 256.33 &  9.05 &  104.91 & 243.74\\\\\n\\end{tabular}\n",
            "text/plain": [
              "   rank name                country        category               sales \n",
              "1   1   Citigroup           United States  Banking                 94.71\n",
              "2   2   General Electric    United States  Conglomerates          134.19\n",
              "3   3   American Intl Group United States  Insurance               76.66\n",
              "4   4   ExxonMobil          United States  Oil & gas operations   222.88\n",
              "5   5   BP                  United Kingdom Oil & gas operations   232.57\n",
              "6   6   Bank of America     United States  Banking                 49.01\n",
              "7   7   HSBC Group          United Kingdom Banking                 44.33\n",
              "8   8   Toyota Motor        Japan          Consumer durables      135.82\n",
              "9   9   Fannie Mae          United States  Diversified financials  53.13\n",
              "10 10   Wal-Mart Stores     United States  Retailing              256.33\n",
              "   profits assets  marketvalue\n",
              "1  17.85   1264.03 255.30     \n",
              "2  15.59    626.93 328.54     \n",
              "3   6.46    647.66 194.87     \n",
              "4  20.96    166.99 277.02     \n",
              "5  10.27    177.57 173.54     \n",
              "6  10.81    736.45 117.55     \n",
              "7   6.66    757.60 177.96     \n",
              "8   7.99    171.71 115.40     \n",
              "9   6.48   1019.17  76.84     \n",
              "10  9.05    104.91 243.74     "
            ]
          },
          "metadata": {}
        }
      ]
    },
    {
      "cell_type": "markdown",
      "metadata": {
        "id": "duCMSII14N5z"
      },
      "source": [
        "* `str()` (structure) displays the structure of the “forbes” dataframe.\n"
      ]
    },
    {
      "cell_type": "code",
      "metadata": {
        "id": "XTrcFrWe4N50",
        "outputId": "ff208ab0-aae9-483f-a9b5-c4ff174fb92d",
        "colab": {
          "base_uri": "https://localhost:8080/"
        }
      },
      "source": [
        "str(forbes)"
      ],
      "execution_count": 18,
      "outputs": [
        {
          "output_type": "stream",
          "name": "stdout",
          "text": [
            "'data.frame':\t2000 obs. of  8 variables:\n",
            " $ rank       : int  1 2 3 4 5 6 7 8 9 10 ...\n",
            " $ name       : chr  \"Citigroup\" \"General Electric\" \"American Intl Group\" \"ExxonMobil\" ...\n",
            " $ country    : chr  \"United States\" \"United States\" \"United States\" \"United States\" ...\n",
            " $ category   : chr  \"Banking\" \"Conglomerates\" \"Insurance\" \"Oil & gas operations\" ...\n",
            " $ sales      : num  94.7 134.2 76.7 222.9 232.6 ...\n",
            " $ profits    : num  17.85 15.59 6.46 20.96 10.27 ...\n",
            " $ assets     : num  1264 627 648 167 178 ...\n",
            " $ marketvalue: num  255 329 195 277 174 ...\n"
          ]
        }
      ]
    },
    {
      "cell_type": "markdown",
      "metadata": {
        "id": "eMTGCn5u4N59"
      },
      "source": [
        "* `summary()` has statistical summary of the “Forbes” dataframe. **Note: there are missing values (NAs) in the profits.**\n",
        "\n",
        "\n",
        "\n",
        "\n",
        "\n"
      ]
    },
    {
      "cell_type": "code",
      "metadata": {
        "id": "lww1Z3Q-4N5-",
        "outputId": "c4711e4e-8918-4fe1-a940-4938430d2eb9",
        "colab": {
          "base_uri": "https://localhost:8080/",
          "height": 289
        }
      },
      "source": [
        "summary(forbes)"
      ],
      "execution_count": 19,
      "outputs": [
        {
          "output_type": "display_data",
          "data": {
            "text/plain": [
              "      rank            name             country            category        \n",
              " Min.   :   1.0   Length:2000        Length:2000        Length:2000       \n",
              " 1st Qu.: 500.8   Class :character   Class :character   Class :character  \n",
              " Median :1000.5   Mode  :character   Mode  :character   Mode  :character  \n",
              " Mean   :1000.5                                                           \n",
              " 3rd Qu.:1500.2                                                           \n",
              " Max.   :2000.0                                                           \n",
              "                                                                          \n",
              "     sales            profits             assets          marketvalue    \n",
              " Min.   :  0.010   Min.   :-25.8300   Min.   :   0.270   Min.   :  0.02  \n",
              " 1st Qu.:  2.018   1st Qu.:  0.0800   1st Qu.:   4.025   1st Qu.:  2.72  \n",
              " Median :  4.365   Median :  0.2000   Median :   9.345   Median :  5.15  \n",
              " Mean   :  9.697   Mean   :  0.3811   Mean   :  34.042   Mean   : 11.88  \n",
              " 3rd Qu.:  9.547   3rd Qu.:  0.4400   3rd Qu.:  22.793   3rd Qu.: 10.60  \n",
              " Max.   :256.330   Max.   : 20.9600   Max.   :1264.030   Max.   :328.54  \n",
              "                   NA's   :5                                             "
            ]
          },
          "metadata": {}
        }
      ]
    },
    {
      "cell_type": "markdown",
      "metadata": {
        "id": "kao1Zy6iqGG_"
      },
      "source": [
        "##4. Preprocess data \n"
      ]
    },
    {
      "cell_type": "markdown",
      "metadata": {
        "id": "gERvlv4cxSif"
      },
      "source": [
        "### 4.1 Preprocessing - missing values\n",
        "* Missing values are denoted in R by NA or NaN for undefined mathematical operations.\n",
        "> * `is.na(x)` is used to test objects \"x\" if there are NAs\n",
        "> * Which one is NA? `which(is.na(x))`"
      ]
    },
    {
      "cell_type": "code",
      "metadata": {
        "id": "iKV7Qu9i4N6E"
      },
      "source": [
        "# Don't run this command line as you will get a very long list\n",
        "# is.na(forbes$profits)  "
      ],
      "execution_count": 20,
      "outputs": []
    },
    {
      "cell_type": "code",
      "source": [
        "# If you cannot hold your curiosity back, run this instead:\n",
        "head(is.na(forbes$profits))"
      ],
      "metadata": {
        "id": "YOoaG81j1Pv0",
        "outputId": "bf6bb088-c8e7-40d5-ba45-b1003ec85bf1",
        "colab": {
          "base_uri": "https://localhost:8080/",
          "height": 34
        }
      },
      "execution_count": 21,
      "outputs": [
        {
          "output_type": "display_data",
          "data": {
            "text/html": [
              "<style>\n",
              ".list-inline {list-style: none; margin:0; padding: 0}\n",
              ".list-inline>li {display: inline-block}\n",
              ".list-inline>li:not(:last-child)::after {content: \"\\00b7\"; padding: 0 .5ex}\n",
              "</style>\n",
              "<ol class=list-inline><li>FALSE</li><li>FALSE</li><li>FALSE</li><li>FALSE</li><li>FALSE</li><li>FALSE</li></ol>\n"
            ],
            "text/markdown": "1. FALSE\n2. FALSE\n3. FALSE\n4. FALSE\n5. FALSE\n6. FALSE\n\n\n",
            "text/latex": "\\begin{enumerate*}\n\\item FALSE\n\\item FALSE\n\\item FALSE\n\\item FALSE\n\\item FALSE\n\\item FALSE\n\\end{enumerate*}\n",
            "text/plain": [
              "[1] FALSE FALSE FALSE FALSE FALSE FALSE"
            ]
          },
          "metadata": {}
        }
      ]
    },
    {
      "cell_type": "code",
      "metadata": {
        "id": "SGlBLdCZsZCB",
        "outputId": "6b0ce89f-c261-455c-ad79-7eafc50c387f",
        "colab": {
          "base_uri": "https://localhost:8080/",
          "height": 34
        }
      },
      "source": [
        "which(is.na(forbes$profits))\n",
        "miss<-which(is.na(forbes$profits))  # save those rows with missing value"
      ],
      "execution_count": 22,
      "outputs": [
        {
          "output_type": "display_data",
          "data": {
            "text/html": [
              "<style>\n",
              ".list-inline {list-style: none; margin:0; padding: 0}\n",
              ".list-inline>li {display: inline-block}\n",
              ".list-inline>li:not(:last-child)::after {content: \"\\00b7\"; padding: 0 .5ex}\n",
              "</style>\n",
              "<ol class=list-inline><li>772</li><li>1085</li><li>1091</li><li>1425</li><li>1909</li></ol>\n"
            ],
            "text/markdown": "1. 772\n2. 1085\n3. 1091\n4. 1425\n5. 1909\n\n\n",
            "text/latex": "\\begin{enumerate*}\n\\item 772\n\\item 1085\n\\item 1091\n\\item 1425\n\\item 1909\n\\end{enumerate*}\n",
            "text/plain": [
              "[1]  772 1085 1091 1425 1909"
            ]
          },
          "metadata": {}
        }
      ]
    },
    {
      "cell_type": "code",
      "source": [
        "# Alternatively, we can use the complete.cases() function.\n",
        "which(! complete.cases(forbes))"
      ],
      "metadata": {
        "id": "i-X4Svz7SrqH",
        "outputId": "f670d8da-f198-47f6-83b5-47d5427702c8",
        "colab": {
          "base_uri": "https://localhost:8080/",
          "height": 34
        }
      },
      "execution_count": 23,
      "outputs": [
        {
          "output_type": "display_data",
          "data": {
            "text/html": [
              "<style>\n",
              ".list-inline {list-style: none; margin:0; padding: 0}\n",
              ".list-inline>li {display: inline-block}\n",
              ".list-inline>li:not(:last-child)::after {content: \"\\00b7\"; padding: 0 .5ex}\n",
              "</style>\n",
              "<ol class=list-inline><li>772</li><li>1085</li><li>1091</li><li>1425</li><li>1909</li></ol>\n"
            ],
            "text/markdown": "1. 772\n2. 1085\n3. 1091\n4. 1425\n5. 1909\n\n\n",
            "text/latex": "\\begin{enumerate*}\n\\item 772\n\\item 1085\n\\item 1091\n\\item 1425\n\\item 1909\n\\end{enumerate*}\n",
            "text/plain": [
              "[1]  772 1085 1091 1425 1909"
            ]
          },
          "metadata": {}
        }
      ]
    },
    {
      "cell_type": "markdown",
      "metadata": {
        "id": "rLH9I8W44N6P"
      },
      "source": [
        "* more about missing value inspection\n",
        "> * How many NAs? `table(is.na(x))`\n",
        "> * list of observations with missing values on profits `x[is.na(x),]`\n",
        "\n"
      ]
    },
    {
      "cell_type": "code",
      "metadata": {
        "id": "D-kdpDZS4N6R",
        "outputId": "b0a5f19a-d330-4061-9b95-b0249ad8cd8e",
        "colab": {
          "base_uri": "https://localhost:8080/",
          "height": 303
        }
      },
      "source": [
        "table(is.na(forbes$profits))\n",
        "forbes[is.na(forbes$profits),]"
      ],
      "execution_count": 24,
      "outputs": [
        {
          "output_type": "display_data",
          "data": {
            "text/plain": [
              "\n",
              "FALSE  TRUE \n",
              " 1995     5 "
            ]
          },
          "metadata": {}
        },
        {
          "output_type": "display_data",
          "data": {
            "text/html": [
              "<table class=\"dataframe\">\n",
              "<caption>A data.frame: 5 × 8</caption>\n",
              "<thead>\n",
              "\t<tr><th></th><th scope=col>rank</th><th scope=col>name</th><th scope=col>country</th><th scope=col>category</th><th scope=col>sales</th><th scope=col>profits</th><th scope=col>assets</th><th scope=col>marketvalue</th></tr>\n",
              "\t<tr><th></th><th scope=col>&lt;int&gt;</th><th scope=col>&lt;chr&gt;</th><th scope=col>&lt;chr&gt;</th><th scope=col>&lt;chr&gt;</th><th scope=col>&lt;dbl&gt;</th><th scope=col>&lt;dbl&gt;</th><th scope=col>&lt;dbl&gt;</th><th scope=col>&lt;dbl&gt;</th></tr>\n",
              "</thead>\n",
              "<tbody>\n",
              "\t<tr><th scope=row>772</th><td> 772</td><td>AMP                  </td><td>Australia     </td><td>Insurance                  </td><td>5.40</td><td>NA</td><td>42.94</td><td>6.70</td></tr>\n",
              "\t<tr><th scope=row>1085</th><td>1085</td><td>HHG                  </td><td>United Kingdom</td><td>Insurance                  </td><td>5.68</td><td>NA</td><td>51.65</td><td>2.07</td></tr>\n",
              "\t<tr><th scope=row>1091</th><td>1091</td><td>NTL                  </td><td>United States </td><td>Telecommunications services</td><td>3.50</td><td>NA</td><td>10.59</td><td>5.94</td></tr>\n",
              "\t<tr><th scope=row>1425</th><td>1425</td><td>US Airways Group     </td><td>United States </td><td>Transportation             </td><td>5.50</td><td>NA</td><td> 8.58</td><td>0.24</td></tr>\n",
              "\t<tr><th scope=row>1909</th><td>1909</td><td>Laidlaw International</td><td>United States </td><td>Transportation             </td><td>4.48</td><td>NA</td><td> 3.98</td><td>1.49</td></tr>\n",
              "</tbody>\n",
              "</table>\n"
            ],
            "text/markdown": "\nA data.frame: 5 × 8\n\n| <!--/--> | rank &lt;int&gt; | name &lt;chr&gt; | country &lt;chr&gt; | category &lt;chr&gt; | sales &lt;dbl&gt; | profits &lt;dbl&gt; | assets &lt;dbl&gt; | marketvalue &lt;dbl&gt; |\n|---|---|---|---|---|---|---|---|---|\n| 772 |  772 | AMP                   | Australia      | Insurance                   | 5.40 | NA | 42.94 | 6.70 |\n| 1085 | 1085 | HHG                   | United Kingdom | Insurance                   | 5.68 | NA | 51.65 | 2.07 |\n| 1091 | 1091 | NTL                   | United States  | Telecommunications services | 3.50 | NA | 10.59 | 5.94 |\n| 1425 | 1425 | US Airways Group      | United States  | Transportation              | 5.50 | NA |  8.58 | 0.24 |\n| 1909 | 1909 | Laidlaw International | United States  | Transportation              | 4.48 | NA |  3.98 | 1.49 |\n\n",
            "text/latex": "A data.frame: 5 × 8\n\\begin{tabular}{r|llllllll}\n  & rank & name & country & category & sales & profits & assets & marketvalue\\\\\n  & <int> & <chr> & <chr> & <chr> & <dbl> & <dbl> & <dbl> & <dbl>\\\\\n\\hline\n\t772 &  772 & AMP                   & Australia      & Insurance                   & 5.40 & NA & 42.94 & 6.70\\\\\n\t1085 & 1085 & HHG                   & United Kingdom & Insurance                   & 5.68 & NA & 51.65 & 2.07\\\\\n\t1091 & 1091 & NTL                   & United States  & Telecommunications services & 3.50 & NA & 10.59 & 5.94\\\\\n\t1425 & 1425 & US Airways Group      & United States  & Transportation              & 5.50 & NA &  8.58 & 0.24\\\\\n\t1909 & 1909 & Laidlaw International & United States  & Transportation              & 4.48 & NA &  3.98 & 1.49\\\\\n\\end{tabular}\n",
            "text/plain": [
              "     rank name                  country        category                   \n",
              "772   772 AMP                   Australia      Insurance                  \n",
              "1085 1085 HHG                   United Kingdom Insurance                  \n",
              "1091 1091 NTL                   United States  Telecommunications services\n",
              "1425 1425 US Airways Group      United States  Transportation             \n",
              "1909 1909 Laidlaw International United States  Transportation             \n",
              "     sales profits assets marketvalue\n",
              "772  5.40  NA      42.94  6.70       \n",
              "1085 5.68  NA      51.65  2.07       \n",
              "1091 3.50  NA      10.59  5.94       \n",
              "1425 5.50  NA       8.58  0.24       \n",
              "1909 4.48  NA       3.98  1.49       "
            ]
          },
          "metadata": {}
        }
      ]
    },
    {
      "cell_type": "markdown",
      "metadata": {
        "id": "_aMsG0vktTSC"
      },
      "source": [
        "* remember many R functions also have a logical “`na.rm`” option\n",
        "> * `na.rm=TRUE` means the NA values should be discarded\n"
      ]
    },
    {
      "cell_type": "code",
      "metadata": {
        "id": "dbFa1Akztear",
        "outputId": "fd6cbfdc-5c9d-4e3f-af6a-c79c3558aaeb",
        "colab": {
          "base_uri": "https://localhost:8080/",
          "height": 51
        }
      },
      "source": [
        "# This will give us \"NA\".\n",
        "mean(forbes$profits)  \n",
        "# This will not (after removing the NA values).\n",
        "mean(forbes$profits,na.rm=T)"
      ],
      "execution_count": 25,
      "outputs": [
        {
          "output_type": "display_data",
          "data": {
            "text/html": [
              "&lt;NA&gt;"
            ],
            "text/markdown": "&lt;NA&gt;",
            "text/latex": "<NA>",
            "text/plain": [
              "[1] NA"
            ]
          },
          "metadata": {}
        },
        {
          "output_type": "display_data",
          "data": {
            "text/html": [
              "0.3811328320802"
            ],
            "text/markdown": "0.3811328320802",
            "text/latex": "0.3811328320802",
            "text/plain": [
              "[1] 0.3811328"
            ]
          },
          "metadata": {}
        }
      ]
    },
    {
      "cell_type": "markdown",
      "metadata": {
        "id": "HRQfa3cXt0-5"
      },
      "source": [
        "* **Note: Not all missing values are marked with “NA” in the raw data!**\n"
      ]
    },
    {
      "cell_type": "markdown",
      "metadata": {
        "id": "8QqhU2X5uBjh"
      },
      "source": [
        "* The simplest way to deal with the missing values is to remove them. \n",
        "> * If a column (variable) has a high percentage of the missing value, remove the whole column or just don’t use it for the analysis.\n",
        "> * If a row (observation) has a missing value, remove the row with `na.omit()`. e.g. \n"
      ]
    },
    {
      "cell_type": "code",
      "metadata": {
        "id": "yV26wnrUuOjq",
        "outputId": "4bda1f2f-db30-4c00-91c5-908ad90f1d1f",
        "colab": {
          "base_uri": "https://localhost:8080/",
          "height": 34
        }
      },
      "source": [
        "forbes2 <- na.omit(forbes)\n",
        "dim(forbes2)"
      ],
      "execution_count": 26,
      "outputs": [
        {
          "output_type": "display_data",
          "data": {
            "text/html": [
              "<style>\n",
              ".list-inline {list-style: none; margin:0; padding: 0}\n",
              ".list-inline>li {display: inline-block}\n",
              ".list-inline>li:not(:last-child)::after {content: \"\\00b7\"; padding: 0 .5ex}\n",
              "</style>\n",
              "<ol class=list-inline><li>1995</li><li>8</li></ol>\n"
            ],
            "text/markdown": "1. 1995\n2. 8\n\n\n",
            "text/latex": "\\begin{enumerate*}\n\\item 1995\n\\item 8\n\\end{enumerate*}\n",
            "text/plain": [
              "[1] 1995    8"
            ]
          },
          "metadata": {}
        }
      ]
    },
    {
      "cell_type": "markdown",
      "metadata": {
        "id": "RnVQ-jx2uf-J"
      },
      "source": [
        "* Alternatively, the missing values can be replaced by basic statistics e.g. \n",
        "> * replace by mean \n"
      ]
    },
    {
      "cell_type": "code",
      "source": [
        "forbes[miss,\"profits\"] <- mean(forbes$profits,na.rm=T)\n",
        "forbes[miss,]"
      ],
      "metadata": {
        "id": "W4W5KDsMUKgP",
        "outputId": "a4801ed6-333f-4f11-fb0d-c90206dfc2e5",
        "colab": {
          "base_uri": "https://localhost:8080/",
          "height": 252
        }
      },
      "execution_count": 27,
      "outputs": [
        {
          "output_type": "display_data",
          "data": {
            "text/html": [
              "<table class=\"dataframe\">\n",
              "<caption>A data.frame: 5 × 8</caption>\n",
              "<thead>\n",
              "\t<tr><th></th><th scope=col>rank</th><th scope=col>name</th><th scope=col>country</th><th scope=col>category</th><th scope=col>sales</th><th scope=col>profits</th><th scope=col>assets</th><th scope=col>marketvalue</th></tr>\n",
              "\t<tr><th></th><th scope=col>&lt;int&gt;</th><th scope=col>&lt;chr&gt;</th><th scope=col>&lt;chr&gt;</th><th scope=col>&lt;chr&gt;</th><th scope=col>&lt;dbl&gt;</th><th scope=col>&lt;dbl&gt;</th><th scope=col>&lt;dbl&gt;</th><th scope=col>&lt;dbl&gt;</th></tr>\n",
              "</thead>\n",
              "<tbody>\n",
              "\t<tr><th scope=row>772</th><td> 772</td><td>AMP                  </td><td>Australia     </td><td>Insurance                  </td><td>5.40</td><td>0.3811328</td><td>42.94</td><td>6.70</td></tr>\n",
              "\t<tr><th scope=row>1085</th><td>1085</td><td>HHG                  </td><td>United Kingdom</td><td>Insurance                  </td><td>5.68</td><td>0.3811328</td><td>51.65</td><td>2.07</td></tr>\n",
              "\t<tr><th scope=row>1091</th><td>1091</td><td>NTL                  </td><td>United States </td><td>Telecommunications services</td><td>3.50</td><td>0.3811328</td><td>10.59</td><td>5.94</td></tr>\n",
              "\t<tr><th scope=row>1425</th><td>1425</td><td>US Airways Group     </td><td>United States </td><td>Transportation             </td><td>5.50</td><td>0.3811328</td><td> 8.58</td><td>0.24</td></tr>\n",
              "\t<tr><th scope=row>1909</th><td>1909</td><td>Laidlaw International</td><td>United States </td><td>Transportation             </td><td>4.48</td><td>0.3811328</td><td> 3.98</td><td>1.49</td></tr>\n",
              "</tbody>\n",
              "</table>\n"
            ],
            "text/markdown": "\nA data.frame: 5 × 8\n\n| <!--/--> | rank &lt;int&gt; | name &lt;chr&gt; | country &lt;chr&gt; | category &lt;chr&gt; | sales &lt;dbl&gt; | profits &lt;dbl&gt; | assets &lt;dbl&gt; | marketvalue &lt;dbl&gt; |\n|---|---|---|---|---|---|---|---|---|\n| 772 |  772 | AMP                   | Australia      | Insurance                   | 5.40 | 0.3811328 | 42.94 | 6.70 |\n| 1085 | 1085 | HHG                   | United Kingdom | Insurance                   | 5.68 | 0.3811328 | 51.65 | 2.07 |\n| 1091 | 1091 | NTL                   | United States  | Telecommunications services | 3.50 | 0.3811328 | 10.59 | 5.94 |\n| 1425 | 1425 | US Airways Group      | United States  | Transportation              | 5.50 | 0.3811328 |  8.58 | 0.24 |\n| 1909 | 1909 | Laidlaw International | United States  | Transportation              | 4.48 | 0.3811328 |  3.98 | 1.49 |\n\n",
            "text/latex": "A data.frame: 5 × 8\n\\begin{tabular}{r|llllllll}\n  & rank & name & country & category & sales & profits & assets & marketvalue\\\\\n  & <int> & <chr> & <chr> & <chr> & <dbl> & <dbl> & <dbl> & <dbl>\\\\\n\\hline\n\t772 &  772 & AMP                   & Australia      & Insurance                   & 5.40 & 0.3811328 & 42.94 & 6.70\\\\\n\t1085 & 1085 & HHG                   & United Kingdom & Insurance                   & 5.68 & 0.3811328 & 51.65 & 2.07\\\\\n\t1091 & 1091 & NTL                   & United States  & Telecommunications services & 3.50 & 0.3811328 & 10.59 & 5.94\\\\\n\t1425 & 1425 & US Airways Group      & United States  & Transportation              & 5.50 & 0.3811328 &  8.58 & 0.24\\\\\n\t1909 & 1909 & Laidlaw International & United States  & Transportation              & 4.48 & 0.3811328 &  3.98 & 1.49\\\\\n\\end{tabular}\n",
            "text/plain": [
              "     rank name                  country        category                   \n",
              "772   772 AMP                   Australia      Insurance                  \n",
              "1085 1085 HHG                   United Kingdom Insurance                  \n",
              "1091 1091 NTL                   United States  Telecommunications services\n",
              "1425 1425 US Airways Group      United States  Transportation             \n",
              "1909 1909 Laidlaw International United States  Transportation             \n",
              "     sales profits   assets marketvalue\n",
              "772  5.40  0.3811328 42.94  6.70       \n",
              "1085 5.68  0.3811328 51.65  2.07       \n",
              "1091 3.50  0.3811328 10.59  5.94       \n",
              "1425 5.50  0.3811328  8.58  0.24       \n",
              "1909 4.48  0.3811328  3.98  1.49       "
            ]
          },
          "metadata": {}
        }
      ]
    },
    {
      "cell_type": "markdown",
      "metadata": {
        "id": "ciXJvSGhuysS"
      },
      "source": [
        "* Or use advanced statistical techniques. List of popular R Packages:\n",
        "> * MICE\n",
        "> * Amelia (named after Amelia Earhart, the first female pilot to fly solo across the Atlantic Ocean, who mysteriously went **missing** while flying over the Pacific Ocean in 1937.)\n",
        "> * missForest (non parametric imputation method)\n",
        "> * Hmisc\n",
        "> * mi"
      ]
    },
    {
      "cell_type": "markdown",
      "metadata": {
        "id": "nkNPSPoKvWdZ"
      },
      "source": [
        "###4.2 Preprocessing - subsetting data\n",
        "* On most occasions we do not need all of the raw data\n",
        "* There are a number of methods of extracting a subset of R objects, either by row or column or both.\n"
      ]
    },
    {
      "cell_type": "markdown",
      "metadata": {
        "id": "MoPex-0DvrTA"
      },
      "source": [
        "#### 4.2.1 Subsetting by row: use conditions\n",
        "Find all companies with negative profit:\n"
      ]
    },
    {
      "cell_type": "code",
      "metadata": {
        "id": "T9WIn_YSv443",
        "outputId": "a4a30a77-18bb-4e7f-a63a-3917c11e1784",
        "colab": {
          "base_uri": "https://localhost:8080/",
          "height": 1000
        }
      },
      "source": [
        "forbes[forbes$profits < 0,]"
      ],
      "execution_count": 28,
      "outputs": [
        {
          "output_type": "display_data",
          "data": {
            "text/html": [
              "<table class=\"dataframe\">\n",
              "<caption>A data.frame: 280 × 8</caption>\n",
              "<thead>\n",
              "\t<tr><th></th><th scope=col>rank</th><th scope=col>name</th><th scope=col>country</th><th scope=col>category</th><th scope=col>sales</th><th scope=col>profits</th><th scope=col>assets</th><th scope=col>marketvalue</th></tr>\n",
              "\t<tr><th></th><th scope=col>&lt;int&gt;</th><th scope=col>&lt;chr&gt;</th><th scope=col>&lt;chr&gt;</th><th scope=col>&lt;chr&gt;</th><th scope=col>&lt;dbl&gt;</th><th scope=col>&lt;dbl&gt;</th><th scope=col>&lt;dbl&gt;</th><th scope=col>&lt;dbl&gt;</th></tr>\n",
              "</thead>\n",
              "<tbody>\n",
              "\t<tr><th scope=row>350</th><td>350</td><td>Allianz Worldwide        </td><td>Germany       </td><td>Insurance                      </td><td>96.88</td><td> -1.23</td><td> 851.24</td><td> 48.07</td></tr>\n",
              "\t<tr><th scope=row>354</th><td>354</td><td>Vodafone                 </td><td>United Kingdom</td><td>Telecommunications services    </td><td>47.99</td><td>-15.51</td><td> 256.28</td><td>174.61</td></tr>\n",
              "\t<tr><th scope=row>364</th><td>364</td><td>Deutsche Telekom         </td><td>Germany       </td><td>Telecommunications services    </td><td>56.40</td><td>-25.83</td><td> 132.01</td><td> 84.18</td></tr>\n",
              "\t<tr><th scope=row>372</th><td>372</td><td>Credit Suisse Group      </td><td>Switzerland   </td><td>Diversified financials         </td><td>38.01</td><td> -2.40</td><td> 683.44</td><td> 44.13</td></tr>\n",
              "\t<tr><th scope=row>374</th><td>374</td><td>France Telecom           </td><td>France        </td><td>Telecommunications services    </td><td>57.99</td><td>-21.78</td><td> 107.86</td><td> 64.36</td></tr>\n",
              "\t<tr><th scope=row>382</th><td>382</td><td>Generali Group           </td><td>Italy         </td><td>Insurance                      </td><td>57.90</td><td> -0.79</td><td> 239.21</td><td> 35.11</td></tr>\n",
              "\t<tr><th scope=row>396</th><td>396</td><td>Sumitomo Mitsui Financial</td><td>Japan         </td><td>Banking                        </td><td>29.17</td><td> -3.94</td><td> 868.42</td><td> 31.87</td></tr>\n",
              "\t<tr><th scope=row>397</th><td>397</td><td>E.ON                     </td><td>Germany       </td><td>Utilities                      </td><td>37.95</td><td> -0.73</td><td> 115.57</td><td> 43.96</td></tr>\n",
              "\t<tr><th scope=row>398</th><td>398</td><td>Mitsubishi Tokyo Finl    </td><td>Japan         </td><td>Banking                        </td><td>20.65</td><td> -1.37</td><td> 827.48</td><td> 49.92</td></tr>\n",
              "\t<tr><th scope=row>402</th><td>402</td><td>Aviva                    </td><td>United Kingdom</td><td>Insurance                      </td><td>52.46</td><td> -0.86</td><td> 287.58</td><td> 22.96</td></tr>\n",
              "\t<tr><th scope=row>403</th><td>403</td><td>Mizuho Financial         </td><td>Japan         </td><td>Banking                        </td><td>24.40</td><td>-20.11</td><td>1115.90</td><td> 30.87</td></tr>\n",
              "\t<tr><th scope=row>405</th><td>405</td><td>Zurich Financial Services</td><td>Switzerland   </td><td>Insurance                      </td><td>47.46</td><td> -3.96</td><td> 263.85</td><td> 21.83</td></tr>\n",
              "\t<tr><th scope=row>409</th><td>409</td><td>Telefsnica               </td><td>Spain         </td><td>Telecommunications services    </td><td>29.84</td><td> -5.86</td><td>  60.65</td><td> 86.39</td></tr>\n",
              "\t<tr><th scope=row>412</th><td>412</td><td>Telecom Italia           </td><td>Italy         </td><td>Telecommunications services    </td><td>32.99</td><td> -0.81</td><td>  85.03</td><td> 46.57</td></tr>\n",
              "\t<tr><th scope=row>415</th><td>415</td><td>Matsushita Electric Indl </td><td>Japan         </td><td>Consumer durables              </td><td>62.62</td><td> -0.16</td><td>  60.46</td><td> 33.02</td></tr>\n",
              "\t<tr><th scope=row>427</th><td>427</td><td>Suez Group               </td><td>France        </td><td>Utilities                      </td><td>48.41</td><td> -0.91</td><td>  88.39</td><td> 22.35</td></tr>\n",
              "\t<tr><th scope=row>431</th><td>431</td><td>HVB-HypoVereinsbank      </td><td>Germany       </td><td>Banking                        </td><td>40.52</td><td> -0.87</td><td> 705.36</td><td> 14.49</td></tr>\n",
              "\t<tr><th scope=row>435</th><td>435</td><td>Vivendi Universal        </td><td>France        </td><td>Media                          </td><td>32.05</td><td> -5.10</td><td>  72.79</td><td> 29.12</td></tr>\n",
              "\t<tr><th scope=row>438</th><td>438</td><td>Swiss Re Group           </td><td>Switzerland   </td><td>Insurance                      </td><td>27.53</td><td> -0.07</td><td> 112.20</td><td> 23.44</td></tr>\n",
              "\t<tr><th scope=row>444</th><td>444</td><td>UFJ Holdings             </td><td>Japan         </td><td>Banking                        </td><td>17.16</td><td> -5.15</td><td> 665.67</td><td> 23.71</td></tr>\n",
              "\t<tr><th scope=row>460</th><td>460</td><td>Philips Group            </td><td>Netherlands   </td><td>Conglomerates                  </td><td>33.42</td><td> -3.37</td><td>  32.71</td><td> 41.58</td></tr>\n",
              "\t<tr><th scope=row>466</th><td>466</td><td>Hartford Finl Service    </td><td>United States </td><td>Insurance                      </td><td>17.73</td><td> -0.29</td><td> 211.37</td><td> 18.56</td></tr>\n",
              "\t<tr><th scope=row>470</th><td>470</td><td><span style=white-space:pre-wrap>Legal &amp; General Group    </span></td><td>United Kingdom</td><td><span style=white-space:pre-wrap>Insurance                      </span></td><td>36.10</td><td> -0.29</td><td> 167.94</td><td> 12.22</td></tr>\n",
              "\t<tr><th scope=row>482</th><td>482</td><td><span style=white-space:pre-wrap>EADS                     </span></td><td><span style=white-space:pre-wrap>Netherlands   </span></td><td><span style=white-space:pre-wrap>Aerospace &amp; defense            </span></td><td>31.41</td><td> -0.31</td><td><span style=white-space:pre-wrap>  47.82</span></td><td> 18.17</td></tr>\n",
              "\t<tr><th scope=row>488</th><td>488</td><td>Duke Energy              </td><td>United States </td><td>Utilities                      </td><td>21.58</td><td> -1.16</td><td>  54.99</td><td> 19.41</td></tr>\n",
              "\t<tr><th scope=row>494</th><td>494</td><td>Abbey National           </td><td>United Kingdom</td><td>Banking                        </td><td>15.28</td><td> -1.93</td><td> 331.21</td><td> 15.47</td></tr>\n",
              "\t<tr><th scope=row>500</th><td>500</td><td>Commerzbank              </td><td>Germany       </td><td>Banking                        </td><td>22.43</td><td> -0.31</td><td> 437.86</td><td> 11.00</td></tr>\n",
              "\t<tr><th scope=row>524</th><td>524</td><td><span style=white-space:pre-wrap>Fujitsu                  </span></td><td><span style=white-space:pre-wrap>Japan         </span></td><td>Technology hardware &amp; equipment</td><td>39.06</td><td> -1.03</td><td><span style=white-space:pre-wrap>  33.77</span></td><td> 12.32</td></tr>\n",
              "\t<tr><th scope=row>529</th><td>529</td><td>Ahold                    </td><td>Netherlands   </td><td>Food markets                   </td><td>70.57</td><td> -1.27</td><td>  25.51</td><td> 13.30</td></tr>\n",
              "\t<tr><th scope=row>535</th><td>535</td><td>Loews                    </td><td>United States </td><td>Insurance                      </td><td>16.10</td><td> -0.72</td><td>  77.79</td><td> 11.98</td></tr>\n",
              "\t<tr><th scope=row>⋮</th><td>⋮</td><td>⋮</td><td>⋮</td><td>⋮</td><td>⋮</td><td>⋮</td><td>⋮</td><td>⋮</td></tr>\n",
              "\t<tr><th scope=row>1863</th><td>1863</td><td>International Steel Group</td><td>United States </td><td>Materials                      </td><td>3.15</td><td>-0.01</td><td> 2.41</td><td>3.49</td></tr>\n",
              "\t<tr><th scope=row>1865</th><td>1865</td><td>Siam Commercial Bank     </td><td>Thailand      </td><td>Banking                        </td><td>0.95</td><td>-0.29</td><td>15.67</td><td>1.80</td></tr>\n",
              "\t<tr><th scope=row>1868</th><td>1868</td><td><span style=white-space:pre-wrap>Woodside Petroleum       </span></td><td><span style=white-space:pre-wrap>Australia     </span></td><td><span style=white-space:pre-wrap>Oil &amp; gas operations           </span></td><td>1.26</td><td>-0.05</td><td> 2.81</td><td>7.77</td></tr>\n",
              "\t<tr><th scope=row>1875</th><td>1875</td><td><span style=white-space:pre-wrap>MyTravel Group           </span></td><td>United Kingdom</td><td><span style=white-space:pre-wrap>Hotels restaurants &amp; leisure   </span></td><td>6.97</td><td>-1.52</td><td> 2.55</td><td>0.12</td></tr>\n",
              "\t<tr><th scope=row>1880</th><td>1880</td><td>Nisshin Steel            </td><td>Japan         </td><td>Materials                      </td><td>3.49</td><td>-0.02</td><td> 5.22</td><td>1.69</td></tr>\n",
              "\t<tr><th scope=row>1885</th><td>1885</td><td><span style=white-space:pre-wrap>Vishay Intertech         </span></td><td>United States </td><td>Technology hardware &amp; equipment</td><td>2.06</td><td>-0.11</td><td> 4.50</td><td>3.75</td></tr>\n",
              "\t<tr><th scope=row>1887</th><td>1887</td><td>SPAR Handels             </td><td>Germany       </td><td>Food markets                   </td><td>6.84</td><td>-0.40</td><td> 1.64</td><td>0.40</td></tr>\n",
              "\t<tr><th scope=row>1890</th><td>1890</td><td>Sierra Pacific Res       </td><td>United States </td><td>Utilities                      </td><td>2.81</td><td>-0.14</td><td> 6.95</td><td>0.92</td></tr>\n",
              "\t<tr><th scope=row>1891</th><td>1891</td><td><span style=white-space:pre-wrap>Advantest                </span></td><td><span style=white-space:pre-wrap>Japan         </span></td><td><span style=white-space:pre-wrap>Software &amp; services            </span></td><td>0.83</td><td>-0.11</td><td> 2.13</td><td>7.53</td></tr>\n",
              "\t<tr><th scope=row>1892</th><td>1892</td><td>Farmers Bank of China    </td><td>Taiwan        </td><td>Banking                        </td><td>0.58</td><td>-0.33</td><td>14.89</td><td>0.60</td></tr>\n",
              "\t<tr><th scope=row>1897</th><td>1897</td><td>Towa Bank                </td><td>Japan         </td><td>Banking                        </td><td>0.30</td><td>-0.11</td><td>14.70</td><td>0.42</td></tr>\n",
              "\t<tr><th scope=row>1905</th><td>1905</td><td><span style=white-space:pre-wrap>Research In Motion       </span></td><td><span style=white-space:pre-wrap>Canada        </span></td><td>Technology hardware &amp; equipment</td><td>0.32</td><td>-0.16</td><td> 0.86</td><td>7.42</td></tr>\n",
              "\t<tr><th scope=row>1906</th><td>1906</td><td>Nippon Steel Trading     </td><td>Japan         </td><td>Trading companies              </td><td>6.56</td><td>-0.01</td><td> 2.52</td><td>0.18</td></tr>\n",
              "\t<tr><th scope=row>1910</th><td>1910</td><td>Higashi-Nippon Bank      </td><td>Japan         </td><td>Banking                        </td><td>0.36</td><td>-0.06</td><td>14.24</td><td>0.41</td></tr>\n",
              "\t<tr><th scope=row>1914</th><td>1914</td><td>WMC Resources            </td><td>Australia     </td><td>Materials                      </td><td>0.82</td><td>-0.02</td><td> 4.08</td><td>4.94</td></tr>\n",
              "\t<tr><th scope=row>1927</th><td>1927</td><td>FIBI Holding             </td><td>Israel        </td><td>Banking                        </td><td>0.66</td><td>-0.01</td><td>13.76</td><td>0.24</td></tr>\n",
              "\t<tr><th scope=row>1928</th><td>1928</td><td><span style=white-space:pre-wrap>Snow Brand Milk          </span></td><td><span style=white-space:pre-wrap>Japan         </span></td><td><span style=white-space:pre-wrap>Food drink &amp; tobacco           </span></td><td>6.15</td><td>-0.23</td><td> 2.14</td><td>0.68</td></tr>\n",
              "\t<tr><th scope=row>1929</th><td>1929</td><td><span style=white-space:pre-wrap>JDS Uniphase             </span></td><td>United States </td><td>Technology hardware &amp; equipment</td><td>0.63</td><td>-0.28</td><td> 2.45</td><td>6.90</td></tr>\n",
              "\t<tr><th scope=row>1935</th><td>1935</td><td>Agere Systems            </td><td>United States </td><td>Semiconductors                 </td><td>1.92</td><td>-0.23</td><td> 2.31</td><td>6.56</td></tr>\n",
              "\t<tr><th scope=row>1949</th><td>1949</td><td>Metro-Goldwyn-Mayer      </td><td>United States </td><td>Media                          </td><td>1.96</td><td>-0.16</td><td> 4.21</td><td>4.14</td></tr>\n",
              "\t<tr><th scope=row>1950</th><td>1950</td><td>Ehime Bank               </td><td>Japan         </td><td>Banking                        </td><td>0.35</td><td>-0.16</td><td>13.10</td><td>0.49</td></tr>\n",
              "\t<tr><th scope=row>1958</th><td>1958</td><td>Laurus                   </td><td>Netherlands   </td><td>Food markets                   </td><td>5.75</td><td>-0.06</td><td> 1.30</td><td>0.90</td></tr>\n",
              "\t<tr><th scope=row>1966</th><td>1966</td><td>Aquila                   </td><td>United States </td><td>Utilities                      </td><td>2.38</td><td>-1.72</td><td> 7.67</td><td>0.82</td></tr>\n",
              "\t<tr><th scope=row>1980</th><td>1980</td><td>Petroplus Intl           </td><td>Netherlands   </td><td>Trading companies              </td><td>5.48</td><td>-0.03</td><td> 1.50</td><td>0.25</td></tr>\n",
              "\t<tr><th scope=row>1981</th><td>1981</td><td>CSN-Cia Siderurgica      </td><td>Brazil        </td><td>Materials                      </td><td>1.46</td><td>-0.06</td><td> 4.22</td><td>4.24</td></tr>\n",
              "\t<tr><th scope=row>1982</th><td>1982</td><td>Sumitomo Forestry        </td><td>Japan         </td><td>Construction                   </td><td>5.46</td><td>-0.13</td><td> 2.92</td><td>1.67</td></tr>\n",
              "\t<tr><th scope=row>1983</th><td>1983</td><td>Bharti Tele-Ventures     </td><td>India         </td><td>Telecommunications services    </td><td>0.64</td><td>-0.04</td><td> 1.91</td><td>6.29</td></tr>\n",
              "\t<tr><th scope=row>1993</th><td>1993</td><td>Sogecable                </td><td>Spain         </td><td>Media                          </td><td>1.03</td><td>-0.06</td><td> 1.53</td><td>6.02</td></tr>\n",
              "\t<tr><th scope=row>1994</th><td>1994</td><td>Mobilcom                 </td><td>Germany       </td><td>Telecommunications services    </td><td>2.16</td><td>-3.62</td><td> 8.67</td><td>1.42</td></tr>\n",
              "\t<tr><th scope=row>1997</th><td>1997</td><td><span style=white-space:pre-wrap>Yokogawa Electric        </span></td><td><span style=white-space:pre-wrap>Japan         </span></td><td><span style=white-space:pre-wrap>Business services &amp; supplies   </span></td><td>2.78</td><td>-0.22</td><td> 2.96</td><td>3.29</td></tr>\n",
              "</tbody>\n",
              "</table>\n"
            ],
            "text/markdown": "\nA data.frame: 280 × 8\n\n| <!--/--> | rank &lt;int&gt; | name &lt;chr&gt; | country &lt;chr&gt; | category &lt;chr&gt; | sales &lt;dbl&gt; | profits &lt;dbl&gt; | assets &lt;dbl&gt; | marketvalue &lt;dbl&gt; |\n|---|---|---|---|---|---|---|---|---|\n| 350 | 350 | Allianz Worldwide         | Germany        | Insurance                       | 96.88 |  -1.23 |  851.24 |  48.07 |\n| 354 | 354 | Vodafone                  | United Kingdom | Telecommunications services     | 47.99 | -15.51 |  256.28 | 174.61 |\n| 364 | 364 | Deutsche Telekom          | Germany        | Telecommunications services     | 56.40 | -25.83 |  132.01 |  84.18 |\n| 372 | 372 | Credit Suisse Group       | Switzerland    | Diversified financials          | 38.01 |  -2.40 |  683.44 |  44.13 |\n| 374 | 374 | France Telecom            | France         | Telecommunications services     | 57.99 | -21.78 |  107.86 |  64.36 |\n| 382 | 382 | Generali Group            | Italy          | Insurance                       | 57.90 |  -0.79 |  239.21 |  35.11 |\n| 396 | 396 | Sumitomo Mitsui Financial | Japan          | Banking                         | 29.17 |  -3.94 |  868.42 |  31.87 |\n| 397 | 397 | E.ON                      | Germany        | Utilities                       | 37.95 |  -0.73 |  115.57 |  43.96 |\n| 398 | 398 | Mitsubishi Tokyo Finl     | Japan          | Banking                         | 20.65 |  -1.37 |  827.48 |  49.92 |\n| 402 | 402 | Aviva                     | United Kingdom | Insurance                       | 52.46 |  -0.86 |  287.58 |  22.96 |\n| 403 | 403 | Mizuho Financial          | Japan          | Banking                         | 24.40 | -20.11 | 1115.90 |  30.87 |\n| 405 | 405 | Zurich Financial Services | Switzerland    | Insurance                       | 47.46 |  -3.96 |  263.85 |  21.83 |\n| 409 | 409 | Telefsnica                | Spain          | Telecommunications services     | 29.84 |  -5.86 |   60.65 |  86.39 |\n| 412 | 412 | Telecom Italia            | Italy          | Telecommunications services     | 32.99 |  -0.81 |   85.03 |  46.57 |\n| 415 | 415 | Matsushita Electric Indl  | Japan          | Consumer durables               | 62.62 |  -0.16 |   60.46 |  33.02 |\n| 427 | 427 | Suez Group                | France         | Utilities                       | 48.41 |  -0.91 |   88.39 |  22.35 |\n| 431 | 431 | HVB-HypoVereinsbank       | Germany        | Banking                         | 40.52 |  -0.87 |  705.36 |  14.49 |\n| 435 | 435 | Vivendi Universal         | France         | Media                           | 32.05 |  -5.10 |   72.79 |  29.12 |\n| 438 | 438 | Swiss Re Group            | Switzerland    | Insurance                       | 27.53 |  -0.07 |  112.20 |  23.44 |\n| 444 | 444 | UFJ Holdings              | Japan          | Banking                         | 17.16 |  -5.15 |  665.67 |  23.71 |\n| 460 | 460 | Philips Group             | Netherlands    | Conglomerates                   | 33.42 |  -3.37 |   32.71 |  41.58 |\n| 466 | 466 | Hartford Finl Service     | United States  | Insurance                       | 17.73 |  -0.29 |  211.37 |  18.56 |\n| 470 | 470 | Legal &amp; General Group     | United Kingdom | Insurance                       | 36.10 |  -0.29 |  167.94 |  12.22 |\n| 482 | 482 | EADS                      | Netherlands    | Aerospace &amp; defense             | 31.41 |  -0.31 |   47.82 |  18.17 |\n| 488 | 488 | Duke Energy               | United States  | Utilities                       | 21.58 |  -1.16 |   54.99 |  19.41 |\n| 494 | 494 | Abbey National            | United Kingdom | Banking                         | 15.28 |  -1.93 |  331.21 |  15.47 |\n| 500 | 500 | Commerzbank               | Germany        | Banking                         | 22.43 |  -0.31 |  437.86 |  11.00 |\n| 524 | 524 | Fujitsu                   | Japan          | Technology hardware &amp; equipment | 39.06 |  -1.03 |   33.77 |  12.32 |\n| 529 | 529 | Ahold                     | Netherlands    | Food markets                    | 70.57 |  -1.27 |   25.51 |  13.30 |\n| 535 | 535 | Loews                     | United States  | Insurance                       | 16.10 |  -0.72 |   77.79 |  11.98 |\n| ⋮ | ⋮ | ⋮ | ⋮ | ⋮ | ⋮ | ⋮ | ⋮ | ⋮ |\n| 1863 | 1863 | International Steel Group | United States  | Materials                       | 3.15 | -0.01 |  2.41 | 3.49 |\n| 1865 | 1865 | Siam Commercial Bank      | Thailand       | Banking                         | 0.95 | -0.29 | 15.67 | 1.80 |\n| 1868 | 1868 | Woodside Petroleum        | Australia      | Oil &amp; gas operations            | 1.26 | -0.05 |  2.81 | 7.77 |\n| 1875 | 1875 | MyTravel Group            | United Kingdom | Hotels restaurants &amp; leisure    | 6.97 | -1.52 |  2.55 | 0.12 |\n| 1880 | 1880 | Nisshin Steel             | Japan          | Materials                       | 3.49 | -0.02 |  5.22 | 1.69 |\n| 1885 | 1885 | Vishay Intertech          | United States  | Technology hardware &amp; equipment | 2.06 | -0.11 |  4.50 | 3.75 |\n| 1887 | 1887 | SPAR Handels              | Germany        | Food markets                    | 6.84 | -0.40 |  1.64 | 0.40 |\n| 1890 | 1890 | Sierra Pacific Res        | United States  | Utilities                       | 2.81 | -0.14 |  6.95 | 0.92 |\n| 1891 | 1891 | Advantest                 | Japan          | Software &amp; services             | 0.83 | -0.11 |  2.13 | 7.53 |\n| 1892 | 1892 | Farmers Bank of China     | Taiwan         | Banking                         | 0.58 | -0.33 | 14.89 | 0.60 |\n| 1897 | 1897 | Towa Bank                 | Japan          | Banking                         | 0.30 | -0.11 | 14.70 | 0.42 |\n| 1905 | 1905 | Research In Motion        | Canada         | Technology hardware &amp; equipment | 0.32 | -0.16 |  0.86 | 7.42 |\n| 1906 | 1906 | Nippon Steel Trading      | Japan          | Trading companies               | 6.56 | -0.01 |  2.52 | 0.18 |\n| 1910 | 1910 | Higashi-Nippon Bank       | Japan          | Banking                         | 0.36 | -0.06 | 14.24 | 0.41 |\n| 1914 | 1914 | WMC Resources             | Australia      | Materials                       | 0.82 | -0.02 |  4.08 | 4.94 |\n| 1927 | 1927 | FIBI Holding              | Israel         | Banking                         | 0.66 | -0.01 | 13.76 | 0.24 |\n| 1928 | 1928 | Snow Brand Milk           | Japan          | Food drink &amp; tobacco            | 6.15 | -0.23 |  2.14 | 0.68 |\n| 1929 | 1929 | JDS Uniphase              | United States  | Technology hardware &amp; equipment | 0.63 | -0.28 |  2.45 | 6.90 |\n| 1935 | 1935 | Agere Systems             | United States  | Semiconductors                  | 1.92 | -0.23 |  2.31 | 6.56 |\n| 1949 | 1949 | Metro-Goldwyn-Mayer       | United States  | Media                           | 1.96 | -0.16 |  4.21 | 4.14 |\n| 1950 | 1950 | Ehime Bank                | Japan          | Banking                         | 0.35 | -0.16 | 13.10 | 0.49 |\n| 1958 | 1958 | Laurus                    | Netherlands    | Food markets                    | 5.75 | -0.06 |  1.30 | 0.90 |\n| 1966 | 1966 | Aquila                    | United States  | Utilities                       | 2.38 | -1.72 |  7.67 | 0.82 |\n| 1980 | 1980 | Petroplus Intl            | Netherlands    | Trading companies               | 5.48 | -0.03 |  1.50 | 0.25 |\n| 1981 | 1981 | CSN-Cia Siderurgica       | Brazil         | Materials                       | 1.46 | -0.06 |  4.22 | 4.24 |\n| 1982 | 1982 | Sumitomo Forestry         | Japan          | Construction                    | 5.46 | -0.13 |  2.92 | 1.67 |\n| 1983 | 1983 | Bharti Tele-Ventures      | India          | Telecommunications services     | 0.64 | -0.04 |  1.91 | 6.29 |\n| 1993 | 1993 | Sogecable                 | Spain          | Media                           | 1.03 | -0.06 |  1.53 | 6.02 |\n| 1994 | 1994 | Mobilcom                  | Germany        | Telecommunications services     | 2.16 | -3.62 |  8.67 | 1.42 |\n| 1997 | 1997 | Yokogawa Electric         | Japan          | Business services &amp; supplies    | 2.78 | -0.22 |  2.96 | 3.29 |\n\n",
            "text/latex": "A data.frame: 280 × 8\n\\begin{tabular}{r|llllllll}\n  & rank & name & country & category & sales & profits & assets & marketvalue\\\\\n  & <int> & <chr> & <chr> & <chr> & <dbl> & <dbl> & <dbl> & <dbl>\\\\\n\\hline\n\t350 & 350 & Allianz Worldwide         & Germany        & Insurance                       & 96.88 &  -1.23 &  851.24 &  48.07\\\\\n\t354 & 354 & Vodafone                  & United Kingdom & Telecommunications services     & 47.99 & -15.51 &  256.28 & 174.61\\\\\n\t364 & 364 & Deutsche Telekom          & Germany        & Telecommunications services     & 56.40 & -25.83 &  132.01 &  84.18\\\\\n\t372 & 372 & Credit Suisse Group       & Switzerland    & Diversified financials          & 38.01 &  -2.40 &  683.44 &  44.13\\\\\n\t374 & 374 & France Telecom            & France         & Telecommunications services     & 57.99 & -21.78 &  107.86 &  64.36\\\\\n\t382 & 382 & Generali Group            & Italy          & Insurance                       & 57.90 &  -0.79 &  239.21 &  35.11\\\\\n\t396 & 396 & Sumitomo Mitsui Financial & Japan          & Banking                         & 29.17 &  -3.94 &  868.42 &  31.87\\\\\n\t397 & 397 & E.ON                      & Germany        & Utilities                       & 37.95 &  -0.73 &  115.57 &  43.96\\\\\n\t398 & 398 & Mitsubishi Tokyo Finl     & Japan          & Banking                         & 20.65 &  -1.37 &  827.48 &  49.92\\\\\n\t402 & 402 & Aviva                     & United Kingdom & Insurance                       & 52.46 &  -0.86 &  287.58 &  22.96\\\\\n\t403 & 403 & Mizuho Financial          & Japan          & Banking                         & 24.40 & -20.11 & 1115.90 &  30.87\\\\\n\t405 & 405 & Zurich Financial Services & Switzerland    & Insurance                       & 47.46 &  -3.96 &  263.85 &  21.83\\\\\n\t409 & 409 & Telefsnica                & Spain          & Telecommunications services     & 29.84 &  -5.86 &   60.65 &  86.39\\\\\n\t412 & 412 & Telecom Italia            & Italy          & Telecommunications services     & 32.99 &  -0.81 &   85.03 &  46.57\\\\\n\t415 & 415 & Matsushita Electric Indl  & Japan          & Consumer durables               & 62.62 &  -0.16 &   60.46 &  33.02\\\\\n\t427 & 427 & Suez Group                & France         & Utilities                       & 48.41 &  -0.91 &   88.39 &  22.35\\\\\n\t431 & 431 & HVB-HypoVereinsbank       & Germany        & Banking                         & 40.52 &  -0.87 &  705.36 &  14.49\\\\\n\t435 & 435 & Vivendi Universal         & France         & Media                           & 32.05 &  -5.10 &   72.79 &  29.12\\\\\n\t438 & 438 & Swiss Re Group            & Switzerland    & Insurance                       & 27.53 &  -0.07 &  112.20 &  23.44\\\\\n\t444 & 444 & UFJ Holdings              & Japan          & Banking                         & 17.16 &  -5.15 &  665.67 &  23.71\\\\\n\t460 & 460 & Philips Group             & Netherlands    & Conglomerates                   & 33.42 &  -3.37 &   32.71 &  41.58\\\\\n\t466 & 466 & Hartford Finl Service     & United States  & Insurance                       & 17.73 &  -0.29 &  211.37 &  18.56\\\\\n\t470 & 470 & Legal \\& General Group     & United Kingdom & Insurance                       & 36.10 &  -0.29 &  167.94 &  12.22\\\\\n\t482 & 482 & EADS                      & Netherlands    & Aerospace \\& defense             & 31.41 &  -0.31 &   47.82 &  18.17\\\\\n\t488 & 488 & Duke Energy               & United States  & Utilities                       & 21.58 &  -1.16 &   54.99 &  19.41\\\\\n\t494 & 494 & Abbey National            & United Kingdom & Banking                         & 15.28 &  -1.93 &  331.21 &  15.47\\\\\n\t500 & 500 & Commerzbank               & Germany        & Banking                         & 22.43 &  -0.31 &  437.86 &  11.00\\\\\n\t524 & 524 & Fujitsu                   & Japan          & Technology hardware \\& equipment & 39.06 &  -1.03 &   33.77 &  12.32\\\\\n\t529 & 529 & Ahold                     & Netherlands    & Food markets                    & 70.57 &  -1.27 &   25.51 &  13.30\\\\\n\t535 & 535 & Loews                     & United States  & Insurance                       & 16.10 &  -0.72 &   77.79 &  11.98\\\\\n\t⋮ & ⋮ & ⋮ & ⋮ & ⋮ & ⋮ & ⋮ & ⋮ & ⋮\\\\\n\t1863 & 1863 & International Steel Group & United States  & Materials                       & 3.15 & -0.01 &  2.41 & 3.49\\\\\n\t1865 & 1865 & Siam Commercial Bank      & Thailand       & Banking                         & 0.95 & -0.29 & 15.67 & 1.80\\\\\n\t1868 & 1868 & Woodside Petroleum        & Australia      & Oil \\& gas operations            & 1.26 & -0.05 &  2.81 & 7.77\\\\\n\t1875 & 1875 & MyTravel Group            & United Kingdom & Hotels restaurants \\& leisure    & 6.97 & -1.52 &  2.55 & 0.12\\\\\n\t1880 & 1880 & Nisshin Steel             & Japan          & Materials                       & 3.49 & -0.02 &  5.22 & 1.69\\\\\n\t1885 & 1885 & Vishay Intertech          & United States  & Technology hardware \\& equipment & 2.06 & -0.11 &  4.50 & 3.75\\\\\n\t1887 & 1887 & SPAR Handels              & Germany        & Food markets                    & 6.84 & -0.40 &  1.64 & 0.40\\\\\n\t1890 & 1890 & Sierra Pacific Res        & United States  & Utilities                       & 2.81 & -0.14 &  6.95 & 0.92\\\\\n\t1891 & 1891 & Advantest                 & Japan          & Software \\& services             & 0.83 & -0.11 &  2.13 & 7.53\\\\\n\t1892 & 1892 & Farmers Bank of China     & Taiwan         & Banking                         & 0.58 & -0.33 & 14.89 & 0.60\\\\\n\t1897 & 1897 & Towa Bank                 & Japan          & Banking                         & 0.30 & -0.11 & 14.70 & 0.42\\\\\n\t1905 & 1905 & Research In Motion        & Canada         & Technology hardware \\& equipment & 0.32 & -0.16 &  0.86 & 7.42\\\\\n\t1906 & 1906 & Nippon Steel Trading      & Japan          & Trading companies               & 6.56 & -0.01 &  2.52 & 0.18\\\\\n\t1910 & 1910 & Higashi-Nippon Bank       & Japan          & Banking                         & 0.36 & -0.06 & 14.24 & 0.41\\\\\n\t1914 & 1914 & WMC Resources             & Australia      & Materials                       & 0.82 & -0.02 &  4.08 & 4.94\\\\\n\t1927 & 1927 & FIBI Holding              & Israel         & Banking                         & 0.66 & -0.01 & 13.76 & 0.24\\\\\n\t1928 & 1928 & Snow Brand Milk           & Japan          & Food drink \\& tobacco            & 6.15 & -0.23 &  2.14 & 0.68\\\\\n\t1929 & 1929 & JDS Uniphase              & United States  & Technology hardware \\& equipment & 0.63 & -0.28 &  2.45 & 6.90\\\\\n\t1935 & 1935 & Agere Systems             & United States  & Semiconductors                  & 1.92 & -0.23 &  2.31 & 6.56\\\\\n\t1949 & 1949 & Metro-Goldwyn-Mayer       & United States  & Media                           & 1.96 & -0.16 &  4.21 & 4.14\\\\\n\t1950 & 1950 & Ehime Bank                & Japan          & Banking                         & 0.35 & -0.16 & 13.10 & 0.49\\\\\n\t1958 & 1958 & Laurus                    & Netherlands    & Food markets                    & 5.75 & -0.06 &  1.30 & 0.90\\\\\n\t1966 & 1966 & Aquila                    & United States  & Utilities                       & 2.38 & -1.72 &  7.67 & 0.82\\\\\n\t1980 & 1980 & Petroplus Intl            & Netherlands    & Trading companies               & 5.48 & -0.03 &  1.50 & 0.25\\\\\n\t1981 & 1981 & CSN-Cia Siderurgica       & Brazil         & Materials                       & 1.46 & -0.06 &  4.22 & 4.24\\\\\n\t1982 & 1982 & Sumitomo Forestry         & Japan          & Construction                    & 5.46 & -0.13 &  2.92 & 1.67\\\\\n\t1983 & 1983 & Bharti Tele-Ventures      & India          & Telecommunications services     & 0.64 & -0.04 &  1.91 & 6.29\\\\\n\t1993 & 1993 & Sogecable                 & Spain          & Media                           & 1.03 & -0.06 &  1.53 & 6.02\\\\\n\t1994 & 1994 & Mobilcom                  & Germany        & Telecommunications services     & 2.16 & -3.62 &  8.67 & 1.42\\\\\n\t1997 & 1997 & Yokogawa Electric         & Japan          & Business services \\& supplies    & 2.78 & -0.22 &  2.96 & 3.29\\\\\n\\end{tabular}\n",
            "text/plain": [
              "     rank name                      country       \n",
              "350  350  Allianz Worldwide         Germany       \n",
              "354  354  Vodafone                  United Kingdom\n",
              "364  364  Deutsche Telekom          Germany       \n",
              "372  372  Credit Suisse Group       Switzerland   \n",
              "374  374  France Telecom            France        \n",
              "382  382  Generali Group            Italy         \n",
              "396  396  Sumitomo Mitsui Financial Japan         \n",
              "397  397  E.ON                      Germany       \n",
              "398  398  Mitsubishi Tokyo Finl     Japan         \n",
              "402  402  Aviva                     United Kingdom\n",
              "403  403  Mizuho Financial          Japan         \n",
              "405  405  Zurich Financial Services Switzerland   \n",
              "409  409  Telefsnica                Spain         \n",
              "412  412  Telecom Italia            Italy         \n",
              "415  415  Matsushita Electric Indl  Japan         \n",
              "427  427  Suez Group                France        \n",
              "431  431  HVB-HypoVereinsbank       Germany       \n",
              "435  435  Vivendi Universal         France        \n",
              "438  438  Swiss Re Group            Switzerland   \n",
              "444  444  UFJ Holdings              Japan         \n",
              "460  460  Philips Group             Netherlands   \n",
              "466  466  Hartford Finl Service     United States \n",
              "470  470  Legal & General Group     United Kingdom\n",
              "482  482  EADS                      Netherlands   \n",
              "488  488  Duke Energy               United States \n",
              "494  494  Abbey National            United Kingdom\n",
              "500  500  Commerzbank               Germany       \n",
              "524  524  Fujitsu                   Japan         \n",
              "529  529  Ahold                     Netherlands   \n",
              "535  535  Loews                     United States \n",
              "⋮    ⋮    ⋮                         ⋮             \n",
              "1863 1863 International Steel Group United States \n",
              "1865 1865 Siam Commercial Bank      Thailand      \n",
              "1868 1868 Woodside Petroleum        Australia     \n",
              "1875 1875 MyTravel Group            United Kingdom\n",
              "1880 1880 Nisshin Steel             Japan         \n",
              "1885 1885 Vishay Intertech          United States \n",
              "1887 1887 SPAR Handels              Germany       \n",
              "1890 1890 Sierra Pacific Res        United States \n",
              "1891 1891 Advantest                 Japan         \n",
              "1892 1892 Farmers Bank of China     Taiwan        \n",
              "1897 1897 Towa Bank                 Japan         \n",
              "1905 1905 Research In Motion        Canada        \n",
              "1906 1906 Nippon Steel Trading      Japan         \n",
              "1910 1910 Higashi-Nippon Bank       Japan         \n",
              "1914 1914 WMC Resources             Australia     \n",
              "1927 1927 FIBI Holding              Israel        \n",
              "1928 1928 Snow Brand Milk           Japan         \n",
              "1929 1929 JDS Uniphase              United States \n",
              "1935 1935 Agere Systems             United States \n",
              "1949 1949 Metro-Goldwyn-Mayer       United States \n",
              "1950 1950 Ehime Bank                Japan         \n",
              "1958 1958 Laurus                    Netherlands   \n",
              "1966 1966 Aquila                    United States \n",
              "1980 1980 Petroplus Intl            Netherlands   \n",
              "1981 1981 CSN-Cia Siderurgica       Brazil        \n",
              "1982 1982 Sumitomo Forestry         Japan         \n",
              "1983 1983 Bharti Tele-Ventures      India         \n",
              "1993 1993 Sogecable                 Spain         \n",
              "1994 1994 Mobilcom                  Germany       \n",
              "1997 1997 Yokogawa Electric         Japan         \n",
              "     category                        sales profits assets  marketvalue\n",
              "350  Insurance                       96.88  -1.23   851.24  48.07     \n",
              "354  Telecommunications services     47.99 -15.51   256.28 174.61     \n",
              "364  Telecommunications services     56.40 -25.83   132.01  84.18     \n",
              "372  Diversified financials          38.01  -2.40   683.44  44.13     \n",
              "374  Telecommunications services     57.99 -21.78   107.86  64.36     \n",
              "382  Insurance                       57.90  -0.79   239.21  35.11     \n",
              "396  Banking                         29.17  -3.94   868.42  31.87     \n",
              "397  Utilities                       37.95  -0.73   115.57  43.96     \n",
              "398  Banking                         20.65  -1.37   827.48  49.92     \n",
              "402  Insurance                       52.46  -0.86   287.58  22.96     \n",
              "403  Banking                         24.40 -20.11  1115.90  30.87     \n",
              "405  Insurance                       47.46  -3.96   263.85  21.83     \n",
              "409  Telecommunications services     29.84  -5.86    60.65  86.39     \n",
              "412  Telecommunications services     32.99  -0.81    85.03  46.57     \n",
              "415  Consumer durables               62.62  -0.16    60.46  33.02     \n",
              "427  Utilities                       48.41  -0.91    88.39  22.35     \n",
              "431  Banking                         40.52  -0.87   705.36  14.49     \n",
              "435  Media                           32.05  -5.10    72.79  29.12     \n",
              "438  Insurance                       27.53  -0.07   112.20  23.44     \n",
              "444  Banking                         17.16  -5.15   665.67  23.71     \n",
              "460  Conglomerates                   33.42  -3.37    32.71  41.58     \n",
              "466  Insurance                       17.73  -0.29   211.37  18.56     \n",
              "470  Insurance                       36.10  -0.29   167.94  12.22     \n",
              "482  Aerospace & defense             31.41  -0.31    47.82  18.17     \n",
              "488  Utilities                       21.58  -1.16    54.99  19.41     \n",
              "494  Banking                         15.28  -1.93   331.21  15.47     \n",
              "500  Banking                         22.43  -0.31   437.86  11.00     \n",
              "524  Technology hardware & equipment 39.06  -1.03    33.77  12.32     \n",
              "529  Food markets                    70.57  -1.27    25.51  13.30     \n",
              "535  Insurance                       16.10  -0.72    77.79  11.98     \n",
              "⋮    ⋮                               ⋮     ⋮       ⋮       ⋮          \n",
              "1863 Materials                       3.15  -0.01    2.41   3.49       \n",
              "1865 Banking                         0.95  -0.29   15.67   1.80       \n",
              "1868 Oil & gas operations            1.26  -0.05    2.81   7.77       \n",
              "1875 Hotels restaurants & leisure    6.97  -1.52    2.55   0.12       \n",
              "1880 Materials                       3.49  -0.02    5.22   1.69       \n",
              "1885 Technology hardware & equipment 2.06  -0.11    4.50   3.75       \n",
              "1887 Food markets                    6.84  -0.40    1.64   0.40       \n",
              "1890 Utilities                       2.81  -0.14    6.95   0.92       \n",
              "1891 Software & services             0.83  -0.11    2.13   7.53       \n",
              "1892 Banking                         0.58  -0.33   14.89   0.60       \n",
              "1897 Banking                         0.30  -0.11   14.70   0.42       \n",
              "1905 Technology hardware & equipment 0.32  -0.16    0.86   7.42       \n",
              "1906 Trading companies               6.56  -0.01    2.52   0.18       \n",
              "1910 Banking                         0.36  -0.06   14.24   0.41       \n",
              "1914 Materials                       0.82  -0.02    4.08   4.94       \n",
              "1927 Banking                         0.66  -0.01   13.76   0.24       \n",
              "1928 Food drink & tobacco            6.15  -0.23    2.14   0.68       \n",
              "1929 Technology hardware & equipment 0.63  -0.28    2.45   6.90       \n",
              "1935 Semiconductors                  1.92  -0.23    2.31   6.56       \n",
              "1949 Media                           1.96  -0.16    4.21   4.14       \n",
              "1950 Banking                         0.35  -0.16   13.10   0.49       \n",
              "1958 Food markets                    5.75  -0.06    1.30   0.90       \n",
              "1966 Utilities                       2.38  -1.72    7.67   0.82       \n",
              "1980 Trading companies               5.48  -0.03    1.50   0.25       \n",
              "1981 Materials                       1.46  -0.06    4.22   4.24       \n",
              "1982 Construction                    5.46  -0.13    2.92   1.67       \n",
              "1983 Telecommunications services     0.64  -0.04    1.91   6.29       \n",
              "1993 Media                           1.03  -0.06    1.53   6.02       \n",
              "1994 Telecommunications services     2.16  -3.62    8.67   1.42       \n",
              "1997 Business services & supplies    2.78  -0.22    2.96   3.29       "
            ]
          },
          "metadata": {}
        }
      ]
    },
    {
      "cell_type": "markdown",
      "metadata": {
        "id": "O1i26j1_wZ7x"
      },
      "source": [
        "Find three companies with the highest sales:\n"
      ]
    },
    {
      "cell_type": "code",
      "metadata": {
        "id": "ew8W4085we18",
        "outputId": "20c731ca-e92b-46d4-dc12-2d2431d34948",
        "colab": {
          "base_uri": "https://localhost:8080/",
          "height": 51
        }
      },
      "source": [
        "companies <- forbes$name  # or companies <- forbes[,\"name\"] \n",
        "order_sales <- order(forbes$sales, decreasing=T)\n",
        "#company names\n",
        "companies[order_sales[1:3]]\n",
        "#company sales\n",
        "head(sort(forbes$sales,decreasing=T),n=3)"
      ],
      "execution_count": 29,
      "outputs": [
        {
          "output_type": "display_data",
          "data": {
            "text/html": [
              "<style>\n",
              ".list-inline {list-style: none; margin:0; padding: 0}\n",
              ".list-inline>li {display: inline-block}\n",
              ".list-inline>li:not(:last-child)::after {content: \"\\00b7\"; padding: 0 .5ex}\n",
              "</style>\n",
              "<ol class=list-inline><li>'Wal-Mart Stores'</li><li>'BP'</li><li>'ExxonMobil'</li></ol>\n"
            ],
            "text/markdown": "1. 'Wal-Mart Stores'\n2. 'BP'\n3. 'ExxonMobil'\n\n\n",
            "text/latex": "\\begin{enumerate*}\n\\item 'Wal-Mart Stores'\n\\item 'BP'\n\\item 'ExxonMobil'\n\\end{enumerate*}\n",
            "text/plain": [
              "[1] \"Wal-Mart Stores\" \"BP\"              \"ExxonMobil\"     "
            ]
          },
          "metadata": {}
        },
        {
          "output_type": "display_data",
          "data": {
            "text/html": [
              "<style>\n",
              ".list-inline {list-style: none; margin:0; padding: 0}\n",
              ".list-inline>li {display: inline-block}\n",
              ".list-inline>li:not(:last-child)::after {content: \"\\00b7\"; padding: 0 .5ex}\n",
              "</style>\n",
              "<ol class=list-inline><li>256.33</li><li>232.57</li><li>222.88</li></ol>\n"
            ],
            "text/markdown": "1. 256.33\n2. 232.57\n3. 222.88\n\n\n",
            "text/latex": "\\begin{enumerate*}\n\\item 256.33\n\\item 232.57\n\\item 222.88\n\\end{enumerate*}\n",
            "text/plain": [
              "[1] 256.33 232.57 222.88"
            ]
          },
          "metadata": {}
        }
      ]
    },
    {
      "cell_type": "markdown",
      "metadata": {
        "id": "qPOuTabFw5RA"
      },
      "source": [
        "####4.2.2 Subsetting by row: use `subset()` function\n",
        "Find the business categories to which the Bermuda companies belong.\n"
      ]
    },
    {
      "cell_type": "code",
      "metadata": {
        "id": "8Mn7AE7Rw_uB",
        "outputId": "c348953d-fee5-4bea-d4a0-a4ef39b45556",
        "colab": {
          "base_uri": "https://localhost:8080/",
          "height": 136
        }
      },
      "source": [
        "# Note that it's \"country\" instead of \"forbes$country\" in the subset() function.\n",
        "Bermudacomp <- subset(forbes, country == \"Bermuda\")\n",
        "table(Bermudacomp[,\"category\"]) #frequency table of categories"
      ],
      "execution_count": 30,
      "outputs": [
        {
          "output_type": "display_data",
          "data": {
            "text/plain": [
              "\n",
              "             Banking        Capital goods        Conglomerates \n",
              "                   1                    1                    2 \n",
              "Food drink & tobacco         Food markets            Insurance \n",
              "                   1                    1                   10 \n",
              "               Media Oil & gas operations  Software & services \n",
              "                   1                    2                    1 "
            ]
          },
          "metadata": {}
        }
      ]
    },
    {
      "cell_type": "code",
      "source": [
        "# Subset the insurance companies located in Bermuda.\n",
        "subset(forbes, country == \"Bermuda\" & category == \"Insurance\")"
      ],
      "metadata": {
        "id": "PwX6GUlCX526",
        "outputId": "167bab3d-18a3-452b-b942-c6d3a0b6f9a0",
        "colab": {
          "base_uri": "https://localhost:8080/",
          "height": 407
        }
      },
      "execution_count": 31,
      "outputs": [
        {
          "output_type": "display_data",
          "data": {
            "text/html": [
              "<table class=\"dataframe\">\n",
              "<caption>A data.frame: 10 × 8</caption>\n",
              "<thead>\n",
              "\t<tr><th></th><th scope=col>rank</th><th scope=col>name</th><th scope=col>country</th><th scope=col>category</th><th scope=col>sales</th><th scope=col>profits</th><th scope=col>assets</th><th scope=col>marketvalue</th></tr>\n",
              "\t<tr><th></th><th scope=col>&lt;int&gt;</th><th scope=col>&lt;chr&gt;</th><th scope=col>&lt;chr&gt;</th><th scope=col>&lt;chr&gt;</th><th scope=col>&lt;dbl&gt;</th><th scope=col>&lt;dbl&gt;</th><th scope=col>&lt;dbl&gt;</th><th scope=col>&lt;dbl&gt;</th></tr>\n",
              "</thead>\n",
              "<tbody>\n",
              "\t<tr><th scope=row>194</th><td> 194</td><td>ACE                   </td><td>Bermuda</td><td>Insurance</td><td>10.67</td><td>1.39</td><td>49.52</td><td>12.60</td></tr>\n",
              "\t<tr><th scope=row>327</th><td> 327</td><td>XL Capital            </td><td>Bermuda</td><td>Insurance</td><td> 8.02</td><td>0.41</td><td>40.76</td><td>10.61</td></tr>\n",
              "\t<tr><th scope=row>680</th><td> 680</td><td>Everest Re Group      </td><td>Bermuda</td><td>Insurance</td><td> 4.11</td><td>0.43</td><td>12.68</td><td> 4.82</td></tr>\n",
              "\t<tr><th scope=row>724</th><td> 724</td><td>White Mountains Ins   </td><td>Bermuda</td><td>Insurance</td><td> 3.81</td><td>0.30</td><td>14.97</td><td> 4.24</td></tr>\n",
              "\t<tr><th scope=row>794</th><td> 794</td><td>PartnerRe             </td><td>Bermuda</td><td>Insurance</td><td> 3.87</td><td>0.47</td><td>10.90</td><td> 3.03</td></tr>\n",
              "\t<tr><th scope=row>1074</th><td>1074</td><td>Axis Capital Holdings </td><td>Bermuda</td><td>Insurance</td><td> 1.37</td><td>0.48</td><td> 5.25</td><td> 4.72</td></tr>\n",
              "\t<tr><th scope=row>1161</th><td>1161</td><td>RenaissanceRe Holdings</td><td>Bermuda</td><td>Insurance</td><td> 1.37</td><td>0.62</td><td> 4.71</td><td> 3.58</td></tr>\n",
              "\t<tr><th scope=row>1578</th><td>1578</td><td>Arch Capital Group    </td><td>Bermuda</td><td>Insurance</td><td> 1.93</td><td>0.24</td><td> 5.20</td><td> 1.19</td></tr>\n",
              "\t<tr><th scope=row>1648</th><td>1648</td><td>Montpelier Re Holdings</td><td>Bermuda</td><td>Insurance</td><td> 0.68</td><td>0.38</td><td> 2.61</td><td> 2.36</td></tr>\n",
              "\t<tr><th scope=row>1801</th><td>1801</td><td>Endurance Specialty   </td><td>Bermuda</td><td>Insurance</td><td> 1.26</td><td>0.26</td><td> 3.46</td><td> 2.24</td></tr>\n",
              "</tbody>\n",
              "</table>\n"
            ],
            "text/markdown": "\nA data.frame: 10 × 8\n\n| <!--/--> | rank &lt;int&gt; | name &lt;chr&gt; | country &lt;chr&gt; | category &lt;chr&gt; | sales &lt;dbl&gt; | profits &lt;dbl&gt; | assets &lt;dbl&gt; | marketvalue &lt;dbl&gt; |\n|---|---|---|---|---|---|---|---|---|\n| 194 |  194 | ACE                    | Bermuda | Insurance | 10.67 | 1.39 | 49.52 | 12.60 |\n| 327 |  327 | XL Capital             | Bermuda | Insurance |  8.02 | 0.41 | 40.76 | 10.61 |\n| 680 |  680 | Everest Re Group       | Bermuda | Insurance |  4.11 | 0.43 | 12.68 |  4.82 |\n| 724 |  724 | White Mountains Ins    | Bermuda | Insurance |  3.81 | 0.30 | 14.97 |  4.24 |\n| 794 |  794 | PartnerRe              | Bermuda | Insurance |  3.87 | 0.47 | 10.90 |  3.03 |\n| 1074 | 1074 | Axis Capital Holdings  | Bermuda | Insurance |  1.37 | 0.48 |  5.25 |  4.72 |\n| 1161 | 1161 | RenaissanceRe Holdings | Bermuda | Insurance |  1.37 | 0.62 |  4.71 |  3.58 |\n| 1578 | 1578 | Arch Capital Group     | Bermuda | Insurance |  1.93 | 0.24 |  5.20 |  1.19 |\n| 1648 | 1648 | Montpelier Re Holdings | Bermuda | Insurance |  0.68 | 0.38 |  2.61 |  2.36 |\n| 1801 | 1801 | Endurance Specialty    | Bermuda | Insurance |  1.26 | 0.26 |  3.46 |  2.24 |\n\n",
            "text/latex": "A data.frame: 10 × 8\n\\begin{tabular}{r|llllllll}\n  & rank & name & country & category & sales & profits & assets & marketvalue\\\\\n  & <int> & <chr> & <chr> & <chr> & <dbl> & <dbl> & <dbl> & <dbl>\\\\\n\\hline\n\t194 &  194 & ACE                    & Bermuda & Insurance & 10.67 & 1.39 & 49.52 & 12.60\\\\\n\t327 &  327 & XL Capital             & Bermuda & Insurance &  8.02 & 0.41 & 40.76 & 10.61\\\\\n\t680 &  680 & Everest Re Group       & Bermuda & Insurance &  4.11 & 0.43 & 12.68 &  4.82\\\\\n\t724 &  724 & White Mountains Ins    & Bermuda & Insurance &  3.81 & 0.30 & 14.97 &  4.24\\\\\n\t794 &  794 & PartnerRe              & Bermuda & Insurance &  3.87 & 0.47 & 10.90 &  3.03\\\\\n\t1074 & 1074 & Axis Capital Holdings  & Bermuda & Insurance &  1.37 & 0.48 &  5.25 &  4.72\\\\\n\t1161 & 1161 & RenaissanceRe Holdings & Bermuda & Insurance &  1.37 & 0.62 &  4.71 &  3.58\\\\\n\t1578 & 1578 & Arch Capital Group     & Bermuda & Insurance &  1.93 & 0.24 &  5.20 &  1.19\\\\\n\t1648 & 1648 & Montpelier Re Holdings & Bermuda & Insurance &  0.68 & 0.38 &  2.61 &  2.36\\\\\n\t1801 & 1801 & Endurance Specialty    & Bermuda & Insurance &  1.26 & 0.26 &  3.46 &  2.24\\\\\n\\end{tabular}\n",
            "text/plain": [
              "     rank name                   country category  sales profits assets\n",
              "194   194 ACE                    Bermuda Insurance 10.67 1.39    49.52 \n",
              "327   327 XL Capital             Bermuda Insurance  8.02 0.41    40.76 \n",
              "680   680 Everest Re Group       Bermuda Insurance  4.11 0.43    12.68 \n",
              "724   724 White Mountains Ins    Bermuda Insurance  3.81 0.30    14.97 \n",
              "794   794 PartnerRe              Bermuda Insurance  3.87 0.47    10.90 \n",
              "1074 1074 Axis Capital Holdings  Bermuda Insurance  1.37 0.48     5.25 \n",
              "1161 1161 RenaissanceRe Holdings Bermuda Insurance  1.37 0.62     4.71 \n",
              "1578 1578 Arch Capital Group     Bermuda Insurance  1.93 0.24     5.20 \n",
              "1648 1648 Montpelier Re Holdings Bermuda Insurance  0.68 0.38     2.61 \n",
              "1801 1801 Endurance Specialty    Bermuda Insurance  1.26 0.26     3.46 \n",
              "     marketvalue\n",
              "194  12.60      \n",
              "327  10.61      \n",
              "680   4.82      \n",
              "724   4.24      \n",
              "794   3.03      \n",
              "1074  4.72      \n",
              "1161  3.58      \n",
              "1578  1.19      \n",
              "1648  2.36      \n",
              "1801  2.24      "
            ]
          },
          "metadata": {}
        }
      ]
    },
    {
      "cell_type": "markdown",
      "metadata": {
        "id": "B4b0rfY-xgJ4"
      },
      "source": [
        "####4.2.3 Subsetting by column\n",
        "Create another dataframe with only numeric variables"
      ]
    },
    {
      "cell_type": "code",
      "metadata": {
        "id": "tw_SDfhqxvjD",
        "outputId": "7f02feae-4859-415e-8b38-651e8543669e",
        "colab": {
          "base_uri": "https://localhost:8080/"
        }
      },
      "source": [
        "#use data.frame function\n",
        "forbes3 <- data.frame(sales=forbes$sales,profits=forbes$profits,\n",
        "           assets=forbes$assets, mvalue=forbes$marketvalue)\n",
        "str(forbes3)\n",
        "\n",
        "#use subset() function\n",
        "forbes4 <- subset(forbes,select=c(sales,profits,assets,marketvalue))\n",
        "str(forbes4)\n",
        "\n",
        "#or simply use indexing\n",
        "forbes5 <- forbes[,c(5:8)]\n",
        "str(forbes5)"
      ],
      "execution_count": 32,
      "outputs": [
        {
          "output_type": "stream",
          "name": "stdout",
          "text": [
            "'data.frame':\t2000 obs. of  4 variables:\n",
            " $ sales  : num  94.7 134.2 76.7 222.9 232.6 ...\n",
            " $ profits: num  17.85 15.59 6.46 20.96 10.27 ...\n",
            " $ assets : num  1264 627 648 167 178 ...\n",
            " $ mvalue : num  255 329 195 277 174 ...\n",
            "'data.frame':\t2000 obs. of  4 variables:\n",
            " $ sales      : num  94.7 134.2 76.7 222.9 232.6 ...\n",
            " $ profits    : num  17.85 15.59 6.46 20.96 10.27 ...\n",
            " $ assets     : num  1264 627 648 167 178 ...\n",
            " $ marketvalue: num  255 329 195 277 174 ...\n",
            "'data.frame':\t2000 obs. of  4 variables:\n",
            " $ sales      : num  94.7 134.2 76.7 222.9 232.6 ...\n",
            " $ profits    : num  17.85 15.59 6.46 20.96 10.27 ...\n",
            " $ assets     : num  1264 627 648 167 178 ...\n",
            " $ marketvalue: num  255 329 195 277 174 ...\n"
          ]
        }
      ]
    },
    {
      "cell_type": "markdown",
      "source": [
        "####4.2.4 Subsetting by row and column\n"
      ],
      "metadata": {
        "id": "nHxzmc_vYvXm"
      }
    },
    {
      "cell_type": "code",
      "source": [
        "subset(forbes, country == \"Bermuda\" & category == \"Insurance\", select=c(name,sales,profits,assets,marketvalue))"
      ],
      "metadata": {
        "id": "q73FImwsY0d-",
        "outputId": "5b667785-7146-4cdf-dd12-295d03695d6b",
        "colab": {
          "base_uri": "https://localhost:8080/",
          "height": 407
        }
      },
      "execution_count": 33,
      "outputs": [
        {
          "output_type": "display_data",
          "data": {
            "text/html": [
              "<table class=\"dataframe\">\n",
              "<caption>A data.frame: 10 × 5</caption>\n",
              "<thead>\n",
              "\t<tr><th></th><th scope=col>name</th><th scope=col>sales</th><th scope=col>profits</th><th scope=col>assets</th><th scope=col>marketvalue</th></tr>\n",
              "\t<tr><th></th><th scope=col>&lt;chr&gt;</th><th scope=col>&lt;dbl&gt;</th><th scope=col>&lt;dbl&gt;</th><th scope=col>&lt;dbl&gt;</th><th scope=col>&lt;dbl&gt;</th></tr>\n",
              "</thead>\n",
              "<tbody>\n",
              "\t<tr><th scope=row>194</th><td>ACE                   </td><td>10.67</td><td>1.39</td><td>49.52</td><td>12.60</td></tr>\n",
              "\t<tr><th scope=row>327</th><td>XL Capital            </td><td> 8.02</td><td>0.41</td><td>40.76</td><td>10.61</td></tr>\n",
              "\t<tr><th scope=row>680</th><td>Everest Re Group      </td><td> 4.11</td><td>0.43</td><td>12.68</td><td> 4.82</td></tr>\n",
              "\t<tr><th scope=row>724</th><td>White Mountains Ins   </td><td> 3.81</td><td>0.30</td><td>14.97</td><td> 4.24</td></tr>\n",
              "\t<tr><th scope=row>794</th><td>PartnerRe             </td><td> 3.87</td><td>0.47</td><td>10.90</td><td> 3.03</td></tr>\n",
              "\t<tr><th scope=row>1074</th><td>Axis Capital Holdings </td><td> 1.37</td><td>0.48</td><td> 5.25</td><td> 4.72</td></tr>\n",
              "\t<tr><th scope=row>1161</th><td>RenaissanceRe Holdings</td><td> 1.37</td><td>0.62</td><td> 4.71</td><td> 3.58</td></tr>\n",
              "\t<tr><th scope=row>1578</th><td>Arch Capital Group    </td><td> 1.93</td><td>0.24</td><td> 5.20</td><td> 1.19</td></tr>\n",
              "\t<tr><th scope=row>1648</th><td>Montpelier Re Holdings</td><td> 0.68</td><td>0.38</td><td> 2.61</td><td> 2.36</td></tr>\n",
              "\t<tr><th scope=row>1801</th><td>Endurance Specialty   </td><td> 1.26</td><td>0.26</td><td> 3.46</td><td> 2.24</td></tr>\n",
              "</tbody>\n",
              "</table>\n"
            ],
            "text/markdown": "\nA data.frame: 10 × 5\n\n| <!--/--> | name &lt;chr&gt; | sales &lt;dbl&gt; | profits &lt;dbl&gt; | assets &lt;dbl&gt; | marketvalue &lt;dbl&gt; |\n|---|---|---|---|---|---|\n| 194 | ACE                    | 10.67 | 1.39 | 49.52 | 12.60 |\n| 327 | XL Capital             |  8.02 | 0.41 | 40.76 | 10.61 |\n| 680 | Everest Re Group       |  4.11 | 0.43 | 12.68 |  4.82 |\n| 724 | White Mountains Ins    |  3.81 | 0.30 | 14.97 |  4.24 |\n| 794 | PartnerRe              |  3.87 | 0.47 | 10.90 |  3.03 |\n| 1074 | Axis Capital Holdings  |  1.37 | 0.48 |  5.25 |  4.72 |\n| 1161 | RenaissanceRe Holdings |  1.37 | 0.62 |  4.71 |  3.58 |\n| 1578 | Arch Capital Group     |  1.93 | 0.24 |  5.20 |  1.19 |\n| 1648 | Montpelier Re Holdings |  0.68 | 0.38 |  2.61 |  2.36 |\n| 1801 | Endurance Specialty    |  1.26 | 0.26 |  3.46 |  2.24 |\n\n",
            "text/latex": "A data.frame: 10 × 5\n\\begin{tabular}{r|lllll}\n  & name & sales & profits & assets & marketvalue\\\\\n  & <chr> & <dbl> & <dbl> & <dbl> & <dbl>\\\\\n\\hline\n\t194 & ACE                    & 10.67 & 1.39 & 49.52 & 12.60\\\\\n\t327 & XL Capital             &  8.02 & 0.41 & 40.76 & 10.61\\\\\n\t680 & Everest Re Group       &  4.11 & 0.43 & 12.68 &  4.82\\\\\n\t724 & White Mountains Ins    &  3.81 & 0.30 & 14.97 &  4.24\\\\\n\t794 & PartnerRe              &  3.87 & 0.47 & 10.90 &  3.03\\\\\n\t1074 & Axis Capital Holdings  &  1.37 & 0.48 &  5.25 &  4.72\\\\\n\t1161 & RenaissanceRe Holdings &  1.37 & 0.62 &  4.71 &  3.58\\\\\n\t1578 & Arch Capital Group     &  1.93 & 0.24 &  5.20 &  1.19\\\\\n\t1648 & Montpelier Re Holdings &  0.68 & 0.38 &  2.61 &  2.36\\\\\n\t1801 & Endurance Specialty    &  1.26 & 0.26 &  3.46 &  2.24\\\\\n\\end{tabular}\n",
            "text/plain": [
              "     name                   sales profits assets marketvalue\n",
              "194  ACE                    10.67 1.39    49.52  12.60      \n",
              "327  XL Capital              8.02 0.41    40.76  10.61      \n",
              "680  Everest Re Group        4.11 0.43    12.68   4.82      \n",
              "724  White Mountains Ins     3.81 0.30    14.97   4.24      \n",
              "794  PartnerRe               3.87 0.47    10.90   3.03      \n",
              "1074 Axis Capital Holdings   1.37 0.48     5.25   4.72      \n",
              "1161 RenaissanceRe Holdings  1.37 0.62     4.71   3.58      \n",
              "1578 Arch Capital Group      1.93 0.24     5.20   1.19      \n",
              "1648 Montpelier Re Holdings  0.68 0.38     2.61   2.36      \n",
              "1801 Endurance Specialty     1.26 0.26     3.46   2.24      "
            ]
          },
          "metadata": {}
        }
      ]
    },
    {
      "cell_type": "markdown",
      "metadata": {
        "id": "r1R3wV1IyEQC"
      },
      "source": [
        "### 4.3 Preprocessing – Factors\n",
        "* factors are variables in R which take on a limited number of different values; such variables are often referred to as categorical variables\n",
        "\n",
        "\n",
        "Convert characters to (unordered) factors:"
      ]
    },
    {
      "cell_type": "code",
      "metadata": {
        "id": "nioNugIYyMoh",
        "outputId": "67be76b4-e6d7-4aeb-93e8-b4cd89a515fa",
        "colab": {
          "base_uri": "https://localhost:8080/"
        }
      },
      "source": [
        "forbes$country<-factor(forbes$country)\n",
        "str(forbes)"
      ],
      "execution_count": 34,
      "outputs": [
        {
          "output_type": "stream",
          "name": "stdout",
          "text": [
            "'data.frame':\t2000 obs. of  8 variables:\n",
            " $ rank       : int  1 2 3 4 5 6 7 8 9 10 ...\n",
            " $ name       : chr  \"Citigroup\" \"General Electric\" \"American Intl Group\" \"ExxonMobil\" ...\n",
            " $ country    : Factor w/ 61 levels \"Africa\",\"Australia\",..: 60 60 60 60 56 60 56 28 60 60 ...\n",
            " $ category   : chr  \"Banking\" \"Conglomerates\" \"Insurance\" \"Oil & gas operations\" ...\n",
            " $ sales      : num  94.7 134.2 76.7 222.9 232.6 ...\n",
            " $ profits    : num  17.85 15.59 6.46 20.96 10.27 ...\n",
            " $ assets     : num  1264 627 648 167 178 ...\n",
            " $ marketvalue: num  255 329 195 277 174 ...\n"
          ]
        }
      ]
    },
    {
      "cell_type": "markdown",
      "metadata": {
        "id": "V8RCDhbMyhI8"
      },
      "source": [
        "* Small classes could be merged into a larger class. Why?\n",
        "> * For better model performance. E.g. Classification and Regression Trees tend to split using the variables with many categories.\n",
        "> * Actual needs: Some categories have just a few subjects"
      ]
    },
    {
      "cell_type": "code",
      "metadata": {
        "id": "v5dHXoPMyruY",
        "outputId": "28d61a45-ea7b-4a03-bbca-b4115f67cbee",
        "colab": {
          "base_uri": "https://localhost:8080/",
          "height": 1000
        }
      },
      "source": [
        "table(forbes$country)"
      ],
      "execution_count": 35,
      "outputs": [
        {
          "output_type": "display_data",
          "data": {
            "text/plain": [
              "\n",
              "                      Africa                    Australia \n",
              "                           2                           37 \n",
              "   Australia/ United Kingdom                      Austria \n",
              "                           2                            8 \n",
              "                     Bahamas                      Belgium \n",
              "                           1                            9 \n",
              "                     Bermuda                       Brazil \n",
              "                          20                           15 \n",
              "                      Canada               Cayman Islands \n",
              "                          56                            5 \n",
              "                       Chile                        China \n",
              "                           4                           25 \n",
              "              Czech Republic                      Denmark \n",
              "                           2                           10 \n",
              "                     Finland                       France \n",
              "                          11                           63 \n",
              "      France/ United Kingdom                      Germany \n",
              "                           1                           65 \n",
              "                      Greece              Hong Kong/China \n",
              "                          12                           20 \n",
              "                     Hungary                        India \n",
              "                           2                           27 \n",
              "                   Indonesia                      Ireland \n",
              "                           7                            8 \n",
              "                     Islands                       Israel \n",
              "                           1                            8 \n",
              "                       Italy                        Japan \n",
              "                          41                          316 \n",
              "                      Jordan                   Kong/China \n",
              "                           1                            4 \n",
              "                       Korea                      Liberia \n",
              "                           4                            1 \n",
              "                  Luxembourg                     Malaysia \n",
              "                           2                           16 \n",
              "                      Mexico                  Netherlands \n",
              "                          17                           28 \n",
              " Netherlands/ United Kingdom                  New Zealand \n",
              "                           2                            1 \n",
              "                      Norway                     Pakistan \n",
              "                           8                            1 \n",
              "      Panama/ United Kingdom                         Peru \n",
              "                           1                            1 \n",
              "                 Philippines                       Poland \n",
              "                           2                            1 \n",
              "                    Portugal                       Russia \n",
              "                           7                           12 \n",
              "                   Singapore                 South Africa \n",
              "                          16                           15 \n",
              "                 South Korea                        Spain \n",
              "                          45                           29 \n",
              "                      Sweden                  Switzerland \n",
              "                          26                           34 \n",
              "                      Taiwan                     Thailand \n",
              "                          35                            9 \n",
              "                      Turkey               United Kingdom \n",
              "                          12                          137 \n",
              "   United Kingdom/ Australia  United Kingdom/ Netherlands \n",
              "                           1                            1 \n",
              "United Kingdom/ South Africa                United States \n",
              "                           1                          751 \n",
              "                   Venezuela \n",
              "                           1 "
            ]
          },
          "metadata": {}
        }
      ]
    },
    {
      "cell_type": "markdown",
      "metadata": {
        "id": "MbNTKIxHzJDi"
      },
      "source": [
        "* Merge small classes into a larger classes\n",
        "\n",
        "Merge all South American countries to \"Venezuela\""
      ]
    },
    {
      "cell_type": "code",
      "metadata": {
        "id": "5W8TxPeBzjHB"
      },
      "source": [
        " forbes$country[(forbes$country==\"Bahamas\")|(forbes$country==\"Bermuda\")|(forbes$country==\"Brazil\")|(forbes$country==\"Cayman Islands\")|(forbes$country==\"Chile\")|(forbes$country==\"Panama/ United Kingdom\")|(forbes$country==\"Peru\")]<-\"Venezuela\""
      ],
      "execution_count": 36,
      "outputs": []
    },
    {
      "cell_type": "markdown",
      "metadata": {
        "id": "yDJPSXm6zq7z"
      },
      "source": [
        "Merge small classes into a larger classes"
      ]
    },
    {
      "cell_type": "code",
      "metadata": {
        "id": "n-TKo6aQz1mg"
      },
      "source": [
        "forbes$country[(forbes$country==\"Austria\")|(forbes$country==\"Belgium\")|(forbes$country==\"Czech Republic\")|(forbes$country==\"Denmark\")|(forbes$country==\"Finland\")|(forbes$country==\"France\")|(forbes$country==\"Germany\")|(forbes$country==\"Greece\")|(forbes$country==\"Hungary\")|(forbes$country==\"Ireland\")|(forbes$country==\"Italy\")|(forbes$country==\"Luxembourg\")|(forbes$country==\"Netherlands\")|(forbes$country==\"Norway\")|(forbes$country==\"Poland\")|(forbes$country==\"Portugal\")|(forbes$country==\"Russia\")|(forbes$country==\"Spain\")|(forbes$country==\"Sweden\")|(forbes$country==\"Switzerland\")|(forbes$country==\"Turkey\")|(forbes$country==\"France/ United Kingdom\")|(forbes$country==\"United Kingdom/ Netherlands\")|(forbes$country==\"Netherlands/ United Kingdom\")]<-\"United Kingdom\"\n",
        "forbes$country[(forbes$country==\"China\")|(forbes$country==\"Hong Kong/China\")|(forbes$country==\"Indonesia\")|(forbes$country==\"Japan\")|(forbes$country==\"Kong/China\")|(forbes$country==\"Korea\")|(forbes$country==\"Malaysia\")|(forbes$country==\"Philippines\")|(forbes$country==\"Singapore\")|(forbes$country==\"South Korea\")|(forbes$country==\"Taiwan\")]<-\"Thailand\"\n",
        "forbes$country[(forbes$country==\"Africa\")|(forbes$country==\"Australia\")|(forbes$country==\"India\")|(forbes$country==\"Australia/ United Kingdom\")|(forbes$country==\"Islands\")|(forbes$country==\"Israel\")|(forbes$country==\"Jordan\")|(forbes$country==\"Liberia\")|(forbes$country==\"Mexico\")|(forbes$country==\"New Zealand\")|(forbes$country==\"Pakistan\")|(forbes$country==\"South Africa\")|(forbes$country==\"United Kingdom/ Australia\")]<-\"United Kingdom/ South Africa\""
      ],
      "execution_count": 37,
      "outputs": []
    },
    {
      "cell_type": "markdown",
      "metadata": {
        "id": "H6ZanpW70XSj"
      },
      "source": [
        "* Drop those levels with zero counts\n",
        "\n",
        "Use `droplevels()` function:\n"
      ]
    },
    {
      "cell_type": "code",
      "metadata": {
        "id": "bXODV7KY0ni4"
      },
      "source": [
        "forbes$country<-droplevels(forbes$country)"
      ],
      "execution_count": 38,
      "outputs": []
    },
    {
      "cell_type": "markdown",
      "metadata": {
        "id": "_kyU02Vm0yvh"
      },
      "source": [
        "Now we can check the new frequency tables:"
      ]
    },
    {
      "cell_type": "code",
      "metadata": {
        "id": "mjjqV7Ui02oH",
        "outputId": "eb928fdf-97a6-4ba7-e584-aa0eb613967d",
        "colab": {
          "base_uri": "https://localhost:8080/",
          "height": 136
        }
      },
      "source": [
        "table(forbes$country)"
      ],
      "execution_count": 39,
      "outputs": [
        {
          "output_type": "display_data",
          "data": {
            "text/plain": [
              "\n",
              "                      Canada                     Thailand \n",
              "                          56                          499 \n",
              "              United Kingdom United Kingdom/ South Africa \n",
              "                         531                          115 \n",
              "               United States                    Venezuela \n",
              "                         751                           48 "
            ]
          },
          "metadata": {}
        }
      ]
    },
    {
      "cell_type": "markdown",
      "metadata": {
        "id": "hPwB5uT409eQ"
      },
      "source": [
        "* Rename each class"
      ]
    },
    {
      "cell_type": "code",
      "metadata": {
        "id": "CHdjaHLq1AYT",
        "outputId": "bdcc0848-82c5-4822-a29a-017551349b68",
        "colab": {
          "base_uri": "https://localhost:8080/",
          "height": 119
        }
      },
      "source": [
        "levels(forbes$country)<-c(\"Canada\",\"East/Southeast Asia\",\"Europe\",\"Other\",\"United States\",\"Latin America\")\n",
        "levels(forbes$country)\n",
        "table(forbes$country)"
      ],
      "execution_count": 40,
      "outputs": [
        {
          "output_type": "display_data",
          "data": {
            "text/html": [
              "<style>\n",
              ".list-inline {list-style: none; margin:0; padding: 0}\n",
              ".list-inline>li {display: inline-block}\n",
              ".list-inline>li:not(:last-child)::after {content: \"\\00b7\"; padding: 0 .5ex}\n",
              "</style>\n",
              "<ol class=list-inline><li>'Canada'</li><li>'East/Southeast Asia'</li><li>'Europe'</li><li>'Other'</li><li>'United States'</li><li>'Latin America'</li></ol>\n"
            ],
            "text/markdown": "1. 'Canada'\n2. 'East/Southeast Asia'\n3. 'Europe'\n4. 'Other'\n5. 'United States'\n6. 'Latin America'\n\n\n",
            "text/latex": "\\begin{enumerate*}\n\\item 'Canada'\n\\item 'East/Southeast Asia'\n\\item 'Europe'\n\\item 'Other'\n\\item 'United States'\n\\item 'Latin America'\n\\end{enumerate*}\n",
            "text/plain": [
              "[1] \"Canada\"              \"East/Southeast Asia\" \"Europe\"             \n",
              "[4] \"Other\"               \"United States\"       \"Latin America\"      "
            ]
          },
          "metadata": {}
        },
        {
          "output_type": "display_data",
          "data": {
            "text/plain": [
              "\n",
              "             Canada East/Southeast Asia              Europe               Other \n",
              "                 56                 499                 531                 115 \n",
              "      United States       Latin America \n",
              "                751                  48 "
            ]
          },
          "metadata": {}
        }
      ]
    },
    {
      "cell_type": "markdown",
      "metadata": {
        "id": "7XZclPFj1ZB7"
      },
      "source": [
        "###4.4 Export the cleaned dataset (Important for the next session)\n",
        "* Save forbes to Forbes2000_clean.csv"
      ]
    },
    {
      "cell_type": "code",
      "metadata": {
        "id": "1hyWWnp51kWL",
        "outputId": "cd33db84-821d-471b-8088-56f961c154b2",
        "colab": {
          "base_uri": "https://localhost:8080/",
          "height": 34
        }
      },
      "source": [
        "write.csv(forbes,\"Forbes2000_clean.csv\",row.names=FALSE)\n",
        "list.files()"
      ],
      "execution_count": 41,
      "outputs": [
        {
          "output_type": "display_data",
          "data": {
            "text/html": [
              "<style>\n",
              ".list-inline {list-style: none; margin:0; padding: 0}\n",
              ".list-inline>li {display: inline-block}\n",
              ".list-inline>li:not(:last-child)::after {content: \"\\00b7\"; padding: 0 .5ex}\n",
              "</style>\n",
              "<ol class=list-inline><li>'Forbes_big.csv'</li><li>'Forbes_big.csv.zip'</li><li>'Forbes2000_clean.csv'</li><li>'Forbes2000.csv'</li><li>'Forbes2000.csv.zip'</li></ol>\n"
            ],
            "text/markdown": "1. 'Forbes_big.csv'\n2. 'Forbes_big.csv.zip'\n3. 'Forbes2000_clean.csv'\n4. 'Forbes2000.csv'\n5. 'Forbes2000.csv.zip'\n\n\n",
            "text/latex": "\\begin{enumerate*}\n\\item 'Forbes\\_big.csv'\n\\item 'Forbes\\_big.csv.zip'\n\\item 'Forbes2000\\_clean.csv'\n\\item 'Forbes2000.csv'\n\\item 'Forbes2000.csv.zip'\n\\end{enumerate*}\n",
            "text/plain": [
              "[1] \"Forbes_big.csv\"       \"Forbes_big.csv.zip\"   \"Forbes2000_clean.csv\"\n",
              "[4] \"Forbes2000.csv\"       \"Forbes2000.csv.zip\"  "
            ]
          },
          "metadata": {}
        }
      ]
    },
    {
      "cell_type": "markdown",
      "metadata": {
        "id": "uaA8QINn4Qna"
      },
      "source": [
        ""
      ]
    },
    {
      "cell_type": "markdown",
      "metadata": {
        "id": "IK3T1KxJ1w0J"
      },
      "source": [
        "##Exercise 1\n",
        "\n",
        "1. Find all German companies with negative profit\n"
      ]
    },
    {
      "cell_type": "code",
      "metadata": {
        "id": "VxvxYUGf18v-",
        "outputId": "26d3c8a5-ecf6-4e44-ca4d-bf24e4174f99",
        "colab": {
          "base_uri": "https://localhost:8080/",
          "height": 146
        }
      },
      "source": [
        "forbes <- read.csv(\"Forbes2000.csv\",header=T,stringsAsFactors = FALSE,na.strings =\"NA\",sep=\",\") #reload raw data \n",
        "forbes <- na.omit(forbes)  # omit NAs\n",
        "# finish lines below:\n",
        "Germanycomp <- subset(    ,    ) #get a subset of Germany company\n",
        "Germanycomp[       ,c(\"name\",\"sales\",\"profits\",\"assets\")]"
      ],
      "execution_count": 42,
      "outputs": [
        {
          "output_type": "error",
          "ename": "ERROR",
          "evalue": "ignored",
          "traceback": [
            "Error in subset.default(, ): argument \"subset\" is missing, with no default\nTraceback:\n",
            "1. subset(, )",
            "2. subset.default(, )"
          ]
        }
      ]
    },
    {
      "cell_type": "markdown",
      "metadata": {
        "id": "Notp57M92aJS"
      },
      "source": [
        "2. Arbitrarily merge the classes of category to three classes: industry, services and finance"
      ]
    },
    {
      "cell_type": "code",
      "metadata": {
        "id": "UGWRofhu2fgK"
      },
      "source": [
        "# factorize the values in the \"category\" \n",
        "forbes$category=factor(forbes$category)\n",
        "str(forbes)\n",
        "table(forbes$category)\n"
      ],
      "execution_count": null,
      "outputs": []
    },
    {
      "cell_type": "code",
      "metadata": {
        "id": "nEcGe-w-reh0"
      },
      "source": [
        "# arbitrarily define \"Industry\"\n",
        "forbes$category[(forbes$category==\"Aerospace & defense\")|(forbes$category==\"Chemicals\")|(forbes$category==\"Conglomerates\")|(forbes$category==\"Construction\")|(forbes$category==\"Consumer durables\")|(forbes$category==\"Drugs & biotechnology\")|(forbes$category==\"Food markets\")|(forbes$category==\"Food drink & tobacco\")|(forbes$category==\"Food markets\")|(forbes$category==\"Household & personal products\")|(forbes$category==\"Materials\")|(forbes$category==\"Semiconductors\")|(forbes$category==\"Technology hardware & equipment\")|(forbes$category==\"Utilities\")]<-\"Industry\"\n",
        "# arbitrarily define \"Cervices\" and \"Finance\"\n",
        "# finish lines below\n",
        "#forbes$category[    ]<-\"Services\"\n",
        "#forbes$category[    ]<-\"Finance\"\n",
        "# drop levels with 0 count\n",
        "#forbes$category<-droplevels()\n",
        "table(forbes$category)"
      ],
      "execution_count": null,
      "outputs": []
    },
    {
      "cell_type": "markdown",
      "metadata": {
        "id": "iYwuM_C04K56"
      },
      "source": [
        "# We will be back at 10:20 AM"
      ]
    },
    {
      "cell_type": "markdown",
      "metadata": {
        "id": "3k8ejtrGWKHv"
      },
      "source": [
        "##Solution \n",
        "1. Find all German companies with negative profit\n"
      ]
    },
    {
      "cell_type": "code",
      "metadata": {
        "id": "XyUxuKBRWSg4"
      },
      "source": [
        "forbes <- read.csv(\"Forbes2000.csv\",header=T,stringsAsFactors = FALSE,na.strings =\"NA\",sep=\",\") #reload raw data \n",
        "forbes <- na.omit(forbes)  # omit NAs\n",
        "Germanycomp <- subset(forbes, country == \"Germany\")\n",
        "Germanycomp[Germanycomp$profits < 0,c(\"name\",\"sales\",\"profits\",\"assets\")]"
      ],
      "execution_count": null,
      "outputs": []
    },
    {
      "cell_type": "markdown",
      "metadata": {
        "id": "zreO0WEd2gpD"
      },
      "source": [
        "## 5. Data analysis\n"
      ]
    },
    {
      "cell_type": "markdown",
      "metadata": {
        "id": "Io-6rNFc2_6s"
      },
      "source": [
        "###5.1 Two common questions:\n",
        "* Which statistical model should I use for my data analysis?\n",
        "* How to choose the right R packages for my data analysis?\n"
      ]
    },
    {
      "cell_type": "markdown",
      "metadata": {
        "id": "EyUGpmqm3c5B"
      },
      "source": [
        "#### Which statistical model should I use for my data analysis?\n",
        "* This is not a statistics workshop…\n",
        "* If you need to learn more about the data mining and data analysis, or collaborate with statisticians on your campus\n",
        "> * e.g.: LSU https://www.lsu.edu/agriculture/exst/consulting.php\n",
        "* Coursera or any open courses provided by your institution\n"
      ]
    },
    {
      "cell_type": "markdown",
      "metadata": {
        "id": "5FYfkxB73Wpo"
      },
      "source": [
        "####How to choose the right R packages for my data analysis?\n",
        "* The most popular packages are most frequently mentioned\n",
        "* CRAN task views \n",
        "https://cran.r-project.org/web/views/\n",
        "* RDocumentation https://www.rdocumentation.org\n",
        "> *  a website, an R package and an API\n",
        "> * supports taskview \n",
        "> * searchs all 19,766 CRAN, Bioconductor and GitHub packages\n",
        "\n",
        "\n"
      ]
    },
    {
      "cell_type": "markdown",
      "metadata": {
        "id": "Osw6lYbu4UUL"
      },
      "source": [
        "###5.2 Import the cleaned dataset (Optional)\n",
        "* Subsetting by column\n",
        "Create a dataframe with the clean data"
      ]
    },
    {
      "cell_type": "code",
      "metadata": {
        "id": "9ghM_DIK4ffD",
        "outputId": "6901648e-05f8-458e-e809-af81cff51dc4",
        "colab": {
          "base_uri": "https://localhost:8080/",
          "height": 595
        }
      },
      "source": [
        "forbes_clean <- read.csv(\"Forbes2000_clean.csv\",header=T,stringsAsFactors = T,na.strings =\"NA\",sep=\",\")\n",
        "str(forbes_clean)\n",
        "summary(forbes_clean)\n",
        "dim(forbes_clean)"
      ],
      "execution_count": 43,
      "outputs": [
        {
          "output_type": "stream",
          "name": "stdout",
          "text": [
            "'data.frame':\t2000 obs. of  8 variables:\n",
            " $ rank       : int  1 2 3 4 5 6 7 8 9 10 ...\n",
            " $ name       : Factor w/ 2000 levels \"Aareal Bank\",..: 438 747 100 659 311 219 870 1827 663 1921 ...\n",
            " $ country    : Factor w/ 6 levels \"Canada\",\"East/Southeast Asia\",..: 6 6 6 6 3 6 3 2 6 6 ...\n",
            " $ category   : Factor w/ 27 levels \"Aerospace & defense\",..: 2 6 16 19 19 2 2 8 9 20 ...\n",
            " $ sales      : num  94.7 134.2 76.7 222.9 232.6 ...\n",
            " $ profits    : num  17.85 15.59 6.46 20.96 10.27 ...\n",
            " $ assets     : num  1264 627 648 167 178 ...\n",
            " $ marketvalue: num  255 329 195 277 174 ...\n"
          ]
        },
        {
          "output_type": "display_data",
          "data": {
            "text/plain": [
              "      rank                              name                     country   \n",
              " Min.   :   1.0   Aareal Bank             :   1   Canada             : 56  \n",
              " 1st Qu.: 500.8   ABB Group               :   1   East/Southeast Asia:499  \n",
              " Median :1000.5   Abbey National          :   1   Europe             :531  \n",
              " Mean   :1000.5   Abbott Laboratories     :   1   Latin America      : 48  \n",
              " 3rd Qu.:1500.2   Abercrombie & Fitch     :   1   Other              :115  \n",
              " Max.   :2000.0   Abertis Infraestructuras:   1   United States      :751  \n",
              "                  (Other)                 :1994                            \n",
              "                   category        sales            profits        \n",
              " Banking               : 313   Min.   :  0.010   Min.   :-25.8300  \n",
              " Diversified financials: 158   1st Qu.:  2.018   1st Qu.:  0.0800  \n",
              " Insurance             : 112   Median :  4.365   Median :  0.2000  \n",
              " Utilities             : 110   Mean   :  9.697   Mean   :  0.3811  \n",
              " Materials             :  97   3rd Qu.:  9.547   3rd Qu.:  0.4400  \n",
              " Oil & gas operations  :  90   Max.   :256.330   Max.   : 20.9600  \n",
              " (Other)               :1120                                       \n",
              "     assets          marketvalue    \n",
              " Min.   :   0.270   Min.   :  0.02  \n",
              " 1st Qu.:   4.025   1st Qu.:  2.72  \n",
              " Median :   9.345   Median :  5.15  \n",
              " Mean   :  34.042   Mean   : 11.88  \n",
              " 3rd Qu.:  22.793   3rd Qu.: 10.60  \n",
              " Max.   :1264.030   Max.   :328.54  \n",
              "                                    "
            ]
          },
          "metadata": {}
        },
        {
          "output_type": "display_data",
          "data": {
            "text/html": [
              "<style>\n",
              ".list-inline {list-style: none; margin:0; padding: 0}\n",
              ".list-inline>li {display: inline-block}\n",
              ".list-inline>li:not(:last-child)::after {content: \"\\00b7\"; padding: 0 .5ex}\n",
              "</style>\n",
              "<ol class=list-inline><li>2000</li><li>8</li></ol>\n"
            ],
            "text/markdown": "1. 2000\n2. 8\n\n\n",
            "text/latex": "\\begin{enumerate*}\n\\item 2000\n\\item 8\n\\end{enumerate*}\n",
            "text/plain": [
              "[1] 2000    8"
            ]
          },
          "metadata": {}
        }
      ]
    },
    {
      "cell_type": "markdown",
      "metadata": {
        "id": "Bcf3wU_IA_hZ"
      },
      "source": [
        "###5.3 Extract Variables \n",
        "* Create another data frame with only numeric variables + country"
      ]
    },
    {
      "cell_type": "code",
      "metadata": {
        "id": "jFDVjnz4CVBT",
        "outputId": "57d938bf-5c9b-43a8-9734-3feeb0679656",
        "colab": {
          "base_uri": "https://localhost:8080/"
        }
      },
      "source": [
        "forbes_clean <- forbes_clean[,c(3, 5:8)]\n",
        "str(forbes_clean)\n"
      ],
      "execution_count": 44,
      "outputs": [
        {
          "output_type": "stream",
          "name": "stdout",
          "text": [
            "'data.frame':\t2000 obs. of  5 variables:\n",
            " $ country    : Factor w/ 6 levels \"Canada\",\"East/Southeast Asia\",..: 6 6 6 6 3 6 3 2 6 6 ...\n",
            " $ sales      : num  94.7 134.2 76.7 222.9 232.6 ...\n",
            " $ profits    : num  17.85 15.59 6.46 20.96 10.27 ...\n",
            " $ assets     : num  1264 627 648 167 178 ...\n",
            " $ marketvalue: num  255 329 195 277 174 ...\n"
          ]
        }
      ]
    },
    {
      "cell_type": "markdown",
      "metadata": {
        "id": "yS8zt-Bq46lR"
      },
      "source": [
        "###5.4 Training Set and Test Set\n",
        "* Dataset could be randomly split into two parts: training set and test set. \n"
      ]
    },
    {
      "cell_type": "code",
      "metadata": {
        "id": "yFDob7OX5DB4"
      },
      "source": [
        "set.seed(1) #set random seed reproducible\n",
        "indx <- sample(1:2000,size=2000,replace=F)\n",
        "forbes.train <- forbes_clean[indx[1:1600],]\n",
        "forbes.test <- forbes_clean[indx[1601:2000],]"
      ],
      "execution_count": 45,
      "outputs": []
    },
    {
      "cell_type": "markdown",
      "metadata": {
        "id": "6QDlUXDC5fda"
      },
      "source": [
        "###5.5 Roadmap of generalizations of linear models\n",
        "* Roadmap of generalizations of linear models:\n",
        "> https://drive.google.com/open?id=1HrnpinlmyZl9_GL9xX24a5Nv6PUumovI\n"
      ]
    },
    {
      "cell_type": "markdown",
      "metadata": {
        "id": "JnaICTq67sOy"
      },
      "source": [
        "* Explanation of Acronyms\n",
        "\n",
        ">Models | Acronym | R function\n",
        ">--- | --- | ---\n",
        ">Linear Models | LM | lm, aov\n",
        ">MultivariateLMs | MLM | manova\n",
        ">Generalized LMs | GLM | glm\n",
        ">Linear Mixed Models | LMM | lme, aov\n",
        ">Non-linear Models | NLM | nls\n",
        ">Non-linear Mixed Models | NLMM | nlme\n",
        ">Generalized LMMs | GLMM | glmmPQL\n",
        ">Generalized Additive Models | GAM | gam\n"
      ]
    },
    {
      "cell_type": "markdown",
      "metadata": {
        "id": "ttmFlPAl9S-e"
      },
      "source": [
        "* Symbol Meanings in Model Formulae\n",
        "\n",
        ">Symbol | Example | Meaning\n",
        ">--- | --- | ---\n",
        ">+ | +X | Include variable X in the model\n",
        ">- | -X | Exclude variable X in the model\n",
        ">: | X:Z | Include the interaction between X and Z\n",
        ">\\* | X\\*Z | Include X and Z and the interactions\n",
        ">\\| | NLM | Conditioning: include X given Z\n",
        ">^ | NLMM | Include A, B and C and all the interactions up to three way\n",
        ">/ | GLMM | As is: include a new variable consisting of these variables multiplied\n",
        "\n",
        "\n"
      ]
    },
    {
      "cell_type": "markdown",
      "metadata": {
        "id": "TJb-oJhc-vBk"
      },
      "source": [
        "* Model Formulae\n",
        "> * General form: response ~ term1 + term2\n",
        "\n",
        "> Example | Meaning\n",
        ">--- | --- \n",
        ">y ~ x | Simple regression\n",
        ">y ~ -1 +  x | LM through the origin\n",
        ">y ~ x + x^2 | Quadratic regression\n",
        ">y ~ x1 + x2 + x3 | Multiple regression\n",
        ">y ~ . | All variables included\n",
        ">y ~ . - x1 | All variables except X1\n",
        ">y ~ A + B + A : B | Add interaction\n",
        ">y ~ A \\* B | Same above\n",
        ">y ~ (A+B)^2 | Same above\n",
        "\n",
        "\n",
        "\n",
        "\n"
      ]
    },
    {
      "cell_type": "markdown",
      "metadata": {
        "id": "UgXvQ1jVAQza"
      },
      "source": [
        "###5.6 A Multiple linear regression example\n",
        "* marketvalue ~ profits + sales + assets + country\n"
      ]
    },
    {
      "cell_type": "code",
      "metadata": {
        "id": "WKhQvh03AX46"
      },
      "source": [
        "lm <- lm(marketvalue ~ ., data = forbes.train)\n",
        "summary(lm)\n"
      ],
      "execution_count": null,
      "outputs": []
    },
    {
      "cell_type": "markdown",
      "metadata": {
        "id": "MGvRGagqC7Y1"
      },
      "source": [
        "* R has created a n-1 variables each with two levels. These n-1 new variables contain the same information as the single variable. This recoding creates a table called contrast matrix.\n"
      ]
    },
    {
      "cell_type": "code",
      "metadata": {
        "id": "iJzmijc6C9H6"
      },
      "source": [
        "contrasts(forbes.train$country)\n"
      ],
      "execution_count": null,
      "outputs": []
    },
    {
      "cell_type": "markdown",
      "metadata": {
        "id": "CfogXLmSC_Uh"
      },
      "source": [
        "* The decision to code dummy variables is arbitrary, and has no effect on the regression computation, but does alter the interpretation of the coefficients.\n"
      ]
    },
    {
      "cell_type": "markdown",
      "metadata": {
        "id": "9tFPA_8LDHDb"
      },
      "source": [
        "###5.7 A Stepwise regression example\n",
        "* The function `regsubsets()` in the leaps library allow us to do the stepwise regression\n"
      ]
    },
    {
      "cell_type": "code",
      "metadata": {
        "id": "ryhD1VVGDQwT"
      },
      "source": [
        "install.packages(\"leaps\")\n",
        "library(leaps)\n",
        "bwd <- regsubsets(marketvalue ~ ., data = forbes.train,nvmax =3,method =\"backward\")\n",
        "summary(bwd)"
      ],
      "execution_count": null,
      "outputs": []
    },
    {
      "cell_type": "markdown",
      "metadata": {
        "id": "kVwCNQi9Dg_J"
      },
      "source": [
        "An asterisk indicates that a given variable is included in the corresponding model.\n"
      ]
    },
    {
      "cell_type": "markdown",
      "metadata": {
        "id": "gEIVHum8DjHg"
      },
      "source": [
        "###5.8 A Regression tree example\n",
        "* The function `rpart() `in the rpart library allow us to grow a regression tree\n"
      ]
    },
    {
      "cell_type": "code",
      "metadata": {
        "id": "7klSPLUGDu7N"
      },
      "source": [
        "install.packages(\"rpart\")\n",
        "library(rpart)\n",
        "rpart <- rpart(marketvalue ~ ., data = forbes.train,control = rpart.control(xval = 10, minbucket = 50))\n",
        "par(mfrow=c(1,1),xpd=NA,cex=1.5)\n",
        "plot(rpart,uniform=T)\n",
        "text(rpart,use.n=T)\n"
      ],
      "execution_count": null,
      "outputs": []
    },
    {
      "cell_type": "markdown",
      "metadata": {
        "id": "A04hazCMEP-L"
      },
      "source": [
        "###5.9 A Bagging tree example\n",
        "* The function `randomForest()` in the randomForest library allow us to grow a regression tree\n"
      ]
    },
    {
      "cell_type": "code",
      "metadata": {
        "id": "_S4FGTrOEX8i"
      },
      "source": [
        "install.packages(\"randomForest\")\n",
        "library(randomForest)\n",
        "bag <- randomForest(marketvalue ~ ., data = forbes.train, importance =TRUE)\n",
        "importance(bag)\n",
        "varImpPlot(bag)"
      ],
      "execution_count": null,
      "outputs": []
    },
    {
      "cell_type": "markdown",
      "metadata": {
        "id": "DcKx_akHE4Ci"
      },
      "source": [
        "### 5.10 The predictive results in terms of the MAD and RMSE values \n",
        "* MAD:\n",
        "\n",
        "$MAD = \\frac{1}{N}\\times\\sum_{i=1}^N|y_i-\\hat{y_i}|$\n",
        "\n",
        "\n",
        "* RMSE:\n",
        "\n",
        "$RMSE = \\sqrt{\\sum_{i=1}^N(y_i-\\hat{y_i})^2/N}$\n",
        "\n",
        ">Model | Package | RMSE | MAD\n",
        ">--- | --- | --- | ---\n",
        ">MLR |  | 14.41041 | 6.436288\n",
        ">Backward | leaps | 14.41041 | 6.436288\n",
        ">Pruned tree | rpart | 17.85625 | 5.899107\n",
        ">Bagging tree | randomForest | 11.69301 | 4.944942\n",
        "\n",
        "* Bagging tree example for calculating RMSE and MAD"
      ]
    },
    {
      "cell_type": "code",
      "metadata": {
        "id": "ha-DCQGeIMRh"
      },
      "source": [
        "forbes_clean2 <- forbes_clean[,c(2:5)]  # create a new dataframe with only numeric variables included\n",
        "set.seed(2) \n",
        "indx <- sample(1:2000,size=2000,replace=F)\n",
        "forbes.train <- forbes_clean2[indx[1:1600],]\n",
        "forbes.test <- forbes_clean2[indx[1601:2000],]\n",
        "bag <- randomForest(marketvalue ~ ., data = forbes.train, importance =TRUE)\n",
        "# RMSE and MAD \n",
        "bag.yhat <- predict(bag, newdata = forbes.test) \n",
        "bag.y <- forbes.test[\"marketvalue\"] \n",
        "bag.rmse <- sqrt(mean(data.matrix((bag.y - bag.yhat)^2)))\n",
        "bag.rmse\n",
        "bag.abs = abs(bag.y - bag.yhat) \n",
        "bag.mad = (sum(bag.abs))/400 \n",
        "bag.mad "
      ],
      "execution_count": null,
      "outputs": []
    },
    {
      "cell_type": "markdown",
      "metadata": {
        "id": "ZSws0mVIGF-K"
      },
      "source": [
        "##Exercise 2\n",
        "1. Use the `lm()` function to perform a multiple linear regression with profits as the response and all other numeric variables as the predictors. Use the `summary()` function to print the results. \n"
      ]
    },
    {
      "cell_type": "code",
      "metadata": {
        "id": "PUWzXPyhGVFk",
        "colab": {
          "base_uri": "https://localhost:8080/"
        },
        "outputId": "743c934a-a94c-4474-981b-1eb03a2f1f6a"
      },
      "source": [
        "forbes_clean2 <- forbes_clean[,c(2:5)]  # create a new dataframe with only numeric variables included\n",
        "set.seed(3) \n",
        "indx <- sample(1:2000,size=2000,replace=F)\n",
        "forbes.train <- forbes_clean2[indx[1:1600],]\n",
        "forbes.test <- forbes_clean2[indx[1601:2000],]\n",
        "str(forbes.train)"
      ],
      "execution_count": 46,
      "outputs": [
        {
          "output_type": "stream",
          "name": "stdout",
          "text": [
            "'data.frame':\t1600 obs. of  4 variables:\n",
            " $ sales      : num  2.86 4.72 9.91 1.16 3.95 ...\n",
            " $ profits    : num  0.5 0.05 -1.8 0.25 0.79 0.33 0.21 0.37 0.23 0.3 ...\n",
            " $ assets     : num  7.33 4.71 27.76 8.86 7.72 ...\n",
            " $ marketvalue: num  6.45 1.42 11.46 6.52 13.98 ...\n"
          ]
        }
      ]
    },
    {
      "cell_type": "code",
      "metadata": {
        "id": "ByWA1lihE0OS",
        "colab": {
          "base_uri": "https://localhost:8080/",
          "height": 146
        },
        "outputId": "15dbe822-38b0-45dd-c1ac-09d4255dcdbb"
      },
      "source": [
        "#finish lines below\n",
        "lm <- lm(   profits ~  , data=forbes.train     )\n",
        "summary(lm)"
      ],
      "execution_count": 47,
      "outputs": [
        {
          "output_type": "error",
          "ename": "ERROR",
          "evalue": "ignored",
          "traceback": [
            "Error in parse(text = x, srcfile = src): <text>:2:24: unexpected ','\n1: #finish lines below\n2: lm <- lm(   profits ~  ,\n                          ^\nTraceback:\n"
          ]
        }
      ]
    },
    {
      "cell_type": "markdown",
      "metadata": {
        "id": "Q-wuqsgJEN2m"
      },
      "source": [
        "# we will be back at 11:10 AM"
      ]
    },
    {
      "cell_type": "markdown",
      "metadata": {
        "id": "Hm4KasWEGWi4"
      },
      "source": [
        "2. Comment on the output. For instance:  Is there a relationship between the predictors and the response? \n"
      ]
    },
    {
      "cell_type": "markdown",
      "metadata": {
        "id": "lmB6_YXLGaNJ"
      },
      "source": [
        "3. Which predictors appear to have a statistically significant relationship to the response? \n"
      ]
    },
    {
      "cell_type": "markdown",
      "metadata": {
        "id": "icDSRv30GdJi"
      },
      "source": [
        "4. What does the coefficient for the sales variable suggest?\n"
      ]
    },
    {
      "cell_type": "markdown",
      "metadata": {
        "id": "dSlz-hHPabLC"
      },
      "source": [
        "##Solution 2\n",
        "1. Use the `lm()` function to perform a multiple linear regression with profits as the response and all other numeric variables as the predictors. Use the `summary()` function to print the results. \n"
      ]
    },
    {
      "cell_type": "code",
      "metadata": {
        "id": "c4xDOVzWapb_",
        "outputId": "6fe036f5-0a3f-45f5-9534-fe729fb422ba",
        "colab": {
          "base_uri": "https://localhost:8080/",
          "height": 357
        }
      },
      "source": [
        "lm <- lm(profits ~ ., data = forbes.train)\n",
        "summary(lm)"
      ],
      "execution_count": 48,
      "outputs": [
        {
          "output_type": "display_data",
          "data": {
            "text/plain": [
              "\n",
              "Call:\n",
              "lm(formula = profits ~ ., data = forbes.train)\n",
              "\n",
              "Residuals:\n",
              "     Min       1Q   Median       3Q      Max \n",
              "-29.2328  -0.0138   0.1325   0.2286   9.1233 \n",
              "\n",
              "Coefficients:\n",
              "              Estimate Std. Error t value Pr(>|t|)    \n",
              "(Intercept) -0.1362674  0.0455422  -2.992  0.00281 ** \n",
              "sales        0.0111248  0.0028146   3.953 8.07e-05 ***\n",
              "assets      -0.0011822  0.0004394  -2.691  0.00721 ** \n",
              "marketvalue  0.0364423  0.0020612  17.681  < 2e-16 ***\n",
              "---\n",
              "Signif. codes:  0 ‘***’ 0.001 ‘**’ 0.01 ‘*’ 0.05 ‘.’ 0.1 ‘ ’ 1\n",
              "\n",
              "Residual standard error: 1.592 on 1596 degrees of freedom\n",
              "Multiple R-squared:  0.3014,\tAdjusted R-squared:  0.3001 \n",
              "F-statistic: 229.5 on 3 and 1596 DF,  p-value: < 2.2e-16\n"
            ]
          },
          "metadata": {}
        }
      ]
    },
    {
      "cell_type": "markdown",
      "metadata": {
        "id": "DEcOcoR7FqcV"
      },
      "source": [
        "##6. Generate report with R Markdown\n",
        "### 6.1 How R Markdown works\n",
        "* Weaves R code and human readable texts together into a plain text file that has the extension `.Rmd`\n",
        "* The `rmarkdown` package can convert `.Rmd` into documents of two types of output formats: documents, and presentations. All available formats are listed below:\n",
        "> * beamer_presentation\n",
        "> * context_document\n",
        "> * github_document\n",
        "> * html_document\n",
        "> * ioslides_presentation\n",
        "> * latex_document\n",
        "> * md_document\n",
        "> * odt_document\n",
        "> * pdf_document\n",
        "> * powerpoint_presentation\n",
        "> * rtf_document\n",
        "> * slidy_presentation\n",
        "> * word_document\n",
        "\n",
        "* Also helps make your research reproducible\n",
        "\n"
      ]
    },
    {
      "cell_type": "markdown",
      "metadata": {
        "id": "-k6w3wvEVkgW"
      },
      "source": [
        "### 6.2 How `.Rmd` file looks like\n",
        "[A typical R Markdown file](https://drive.google.com/file/d/1jqdwhcAM8OHLx2TGR8UAZZGttN7yty2N/view?usp=sharing)\n",
        "\n",
        "The file above contains three types of content:\n",
        "* An (optional) YAML header surrounded by ---s\n",
        "* R code chunks surrounded by ```s\n",
        "* text mixed with simple text formatting\n"
      ]
    },
    {
      "cell_type": "markdown",
      "metadata": {
        "id": "uUXfteNZke33"
      },
      "source": [
        "### 6.3 Installation\n",
        "* R Markdown is free and open source."
      ]
    },
    {
      "cell_type": "code",
      "metadata": {
        "id": "QnXs5mtlLlXq",
        "outputId": "8a7f2e0e-b1cd-4baf-9961-adeb15fc18a8",
        "colab": {
          "base_uri": "https://localhost:8080/"
        }
      },
      "source": [
        "install.packages(\"rmarkdown\")"
      ],
      "execution_count": 49,
      "outputs": [
        {
          "output_type": "stream",
          "name": "stderr",
          "text": [
            "Installing package into ‘/usr/local/lib/R/site-library’\n",
            "(as ‘lib’ is unspecified)\n",
            "\n"
          ]
        }
      ]
    },
    {
      "cell_type": "markdown",
      "metadata": {
        "id": "HvSUoSJNn1V2"
      },
      "source": [
        "### 6.4 Convert today's training material to `.Rmd`\n",
        "\n",
        "\n",
        "**Conversion script below is developed by JJ Allaire, Yihui Xie, Jonathan McPherson, Javier Luraschi, Kevin Ushey, Aron Atkins, Hadley Wickham, Joe Cheng, Winston Chang, Richard Iannone.\n",
        "https://github.com/rstudio/rmarkdown/blob/master/R/jupyter.R**"
      ]
    },
    {
      "cell_type": "code",
      "metadata": {
        "id": "PdUyuEpchyFF",
        "outputId": "9bd5b214-b808-4a6b-9d1e-fb49558c4ff5",
        "colab": {
          "base_uri": "https://localhost:8080/",
          "height": 68
        }
      },
      "source": [
        "getwd()\n",
        "# Download conversion script\n",
        "download.file(\"https://raw.githubusercontent.com/rstudio/rmarkdown/master/R/jupyter.R\",\"jupyter.R\")\n",
        "# Download today's training material\n",
        "download.file(\"https://raw.githubusercontent.com/lsuhpchelp/lbrnloniworkshop2020/master/day4/data_R.ipynb\",\"data_R.ipynb\")\n",
        "list.files()\n",
        "source(\"jupyter.R\")\n",
        "convert_ipynb(\"data_R.ipynb\",output = xfun::with_ext(\"data_R.ipynb\", \"Rmd\"))\n",
        "list.files()"
      ],
      "execution_count": 50,
      "outputs": [
        {
          "output_type": "display_data",
          "data": {
            "text/html": [
              "'/content/data'"
            ],
            "text/markdown": "'/content/data'",
            "text/latex": "'/content/data'",
            "text/plain": [
              "[1] \"/content/data\""
            ]
          },
          "metadata": {}
        },
        {
          "output_type": "display_data",
          "data": {
            "text/html": [
              "<style>\n",
              ".list-inline {list-style: none; margin:0; padding: 0}\n",
              ".list-inline>li {display: inline-block}\n",
              ".list-inline>li:not(:last-child)::after {content: \"\\00b7\"; padding: 0 .5ex}\n",
              "</style>\n",
              "<ol class=list-inline><li>'data_R.ipynb'</li><li>'Forbes_big.csv'</li><li>'Forbes_big.csv.zip'</li><li>'Forbes2000_clean.csv'</li><li>'Forbes2000.csv'</li><li>'Forbes2000.csv.zip'</li><li>'jupyter.R'</li></ol>\n"
            ],
            "text/markdown": "1. 'data_R.ipynb'\n2. 'Forbes_big.csv'\n3. 'Forbes_big.csv.zip'\n4. 'Forbes2000_clean.csv'\n5. 'Forbes2000.csv'\n6. 'Forbes2000.csv.zip'\n7. 'jupyter.R'\n\n\n",
            "text/latex": "\\begin{enumerate*}\n\\item 'data\\_R.ipynb'\n\\item 'Forbes\\_big.csv'\n\\item 'Forbes\\_big.csv.zip'\n\\item 'Forbes2000\\_clean.csv'\n\\item 'Forbes2000.csv'\n\\item 'Forbes2000.csv.zip'\n\\item 'jupyter.R'\n\\end{enumerate*}\n",
            "text/plain": [
              "[1] \"data_R.ipynb\"         \"Forbes_big.csv\"       \"Forbes_big.csv.zip\"  \n",
              "[4] \"Forbes2000_clean.csv\" \"Forbes2000.csv\"       \"Forbes2000.csv.zip\"  \n",
              "[7] \"jupyter.R\"           "
            ]
          },
          "metadata": {}
        },
        {
          "output_type": "display_data",
          "data": {
            "text/html": [
              "<style>\n",
              ".list-inline {list-style: none; margin:0; padding: 0}\n",
              ".list-inline>li {display: inline-block}\n",
              ".list-inline>li:not(:last-child)::after {content: \"\\00b7\"; padding: 0 .5ex}\n",
              "</style>\n",
              "<ol class=list-inline><li>'data_R.ipynb'</li><li>'data_R.Rmd'</li><li>'Forbes_big.csv'</li><li>'Forbes_big.csv.zip'</li><li>'Forbes2000_clean.csv'</li><li>'Forbes2000.csv'</li><li>'Forbes2000.csv.zip'</li><li>'jupyter.R'</li></ol>\n"
            ],
            "text/markdown": "1. 'data_R.ipynb'\n2. 'data_R.Rmd'\n3. 'Forbes_big.csv'\n4. 'Forbes_big.csv.zip'\n5. 'Forbes2000_clean.csv'\n6. 'Forbes2000.csv'\n7. 'Forbes2000.csv.zip'\n8. 'jupyter.R'\n\n\n",
            "text/latex": "\\begin{enumerate*}\n\\item 'data\\_R.ipynb'\n\\item 'data\\_R.Rmd'\n\\item 'Forbes\\_big.csv'\n\\item 'Forbes\\_big.csv.zip'\n\\item 'Forbes2000\\_clean.csv'\n\\item 'Forbes2000.csv'\n\\item 'Forbes2000.csv.zip'\n\\item 'jupyter.R'\n\\end{enumerate*}\n",
            "text/plain": [
              "[1] \"data_R.ipynb\"         \"data_R.Rmd\"           \"Forbes_big.csv\"      \n",
              "[4] \"Forbes_big.csv.zip\"   \"Forbes2000_clean.csv\" \"Forbes2000.csv\"      \n",
              "[7] \"Forbes2000.csv.zip\"   \"jupyter.R\"           "
            ]
          },
          "metadata": {}
        }
      ]
    },
    {
      "cell_type": "markdown",
      "metadata": {
        "id": "Hk8Rg-0rjb7q"
      },
      "source": [
        "### 6.5 Render `.Rmd` file\n",
        "Note: If you do not select a format, R Markdown renders the file to its default format, which you can set in the output field of a .Rmd file’s header.\n",
        "\n"
      ]
    },
    {
      "cell_type": "markdown",
      "metadata": {
        "id": "pdm5nXODOlzn"
      },
      "source": [
        "## Quiz\n",
        "Why can't we render this new `.Rmd` file directly in the Colab? e.g.: \n",
        "\n",
        "render(\"data_R.Rmd\", output_format = \"html_document\")"
      ]
    },
    {
      "cell_type": "markdown",
      "metadata": {
        "id": "u08lQbZ4mImA"
      },
      "source": [
        "###6.6 Cheatsheet and reference guide\n",
        "* [Cheatsheet](https://rstudio.com/wp-content/uploads/2016/03/rmarkdown-cheatsheet-2.0.pdf)\n",
        "* [Reference guide](https://rstudio.com/wp-content/uploads/2015/03/rmarkdown-reference.pdf)"
      ]
    },
    {
      "cell_type": "markdown",
      "metadata": {
        "id": "WPJq6HZYNMEu"
      },
      "source": [
        "#Take-home message\n",
        "* Get the data \n",
        "* Read and inspect the data\n",
        "* Preprocess the data\n",
        "> *  missing values, discard rows, columns not needed etc.\n",
        "* Analyze the data\n",
        "> * choose the right model and R package\n",
        "> * common R functions and syntax for regressions\n",
        "* Generate the report\n",
        "> * R Markdown basics\n"
      ]
    },
    {
      "cell_type": "markdown",
      "metadata": {
        "id": "eaTOsvmeNp-1"
      },
      "source": [
        "# Getting Help\n",
        "* Documentation: http://hpc.loni.org/docs\n",
        "* Contact us\n",
        "> * Email ticket system: sys-help@loni.org\n",
        "> * Telephone Help Desk: 225-578-0900"
      ]
    }
  ]
}
